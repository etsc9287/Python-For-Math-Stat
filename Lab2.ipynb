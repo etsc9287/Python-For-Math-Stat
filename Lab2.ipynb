{
 "cells": [
  {
   "cell_type": "markdown",
   "metadata": {},
   "source": [
    "# Lab 2\n",
    "\n",
    "Answers shown are rounded to 6 decimal digits. It is not necessary for you to round your answers."
   ]
  },
  {
   "cell_type": "code",
   "execution_count": 2,
   "metadata": {},
   "outputs": [],
   "source": [
    "import math"
   ]
  },
  {
   "cell_type": "markdown",
   "metadata": {},
   "source": [
    "### Divisibility by 3\n",
    "\n",
    "Write a function **`div_by_3(num)`** that returns `True` if integer `num` is divisible by 3. The function should be written without an `if` statement.\n",
    "\n",
    "Examples:  \n",
    "`div_by_3(124)` returns `False`.  \n",
    "`div_by_3(123)` returns `True`.  "
   ]
  },
  {
   "cell_type": "code",
   "execution_count": 3,
   "metadata": {},
   "outputs": [
    {
     "data": {
      "text/plain": [
       "(False, True)"
      ]
     },
     "execution_count": 3,
     "metadata": {},
     "output_type": "execute_result"
    }
   ],
   "source": [
    "def div_by_3(num):\n",
    "    if num % 3 == 0:\n",
    "        return True\n",
    "    else:\n",
    "        return False\n",
    "div_by_3(124), div_by_3(123)"
   ]
  },
  {
   "cell_type": "markdown",
   "metadata": {},
   "source": [
    "### Types of objects\n",
    "\n",
    "The `type` function can be used to determine the type of a Python object. For example `type(3)` returns `int`. Other types that we have learned about are `float`, `string`, and `bool`. What are the types of these objects?\n",
    "\n",
    " * `abs`\n",
    " * `div_by_3`\n",
    " * `(3, 7)`\n",
    " * `print()`\n",
    " * `math.nan`\n",
    " * `math.inf`\n",
    " "
   ]
  },
  {
   "cell_type": "code",
   "execution_count": 4,
   "metadata": {},
   "outputs": [
    {
     "name": "stdout",
     "output_type": "stream",
     "text": [
      "\n"
     ]
    },
    {
     "data": {
      "text/plain": [
       "(builtin_function_or_method, function, tuple, NoneType, float, float)"
      ]
     },
     "execution_count": 4,
     "metadata": {},
     "output_type": "execute_result"
    }
   ],
   "source": [
    "type(abs), type(div_by_3), type((3,7)), type(print()), type(math.nan), type(math.inf)"
   ]
  },
  {
   "cell_type": "markdown",
   "metadata": {},
   "source": [
    "Note that `NoneType` is the value returned by a function that does not have a `return` statement.\n",
    "\n",
    "`nan` stands for *not a number* and is often used to indicate missing values. \n",
    "\n",
    "`math.inf` is used to represent positive infinity. "
   ]
  },
  {
   "cell_type": "markdown",
   "metadata": {},
   "source": [
    "### More divisibility by 3\n",
    "\n",
    "Note that `div_by_3('moo')` will generate an error if the function does not check that the argument is a number. Write an alternate version of the function **`div_by_3_int(num)`** that checks to make sure that `num` is an `int`. If not the function displays an error message `Invalid input` and returns `False`.\n",
    "\n",
    "Examples:  \n",
    "`div_by_3_int(2019.)` displays `Invalid input` and returns `False`.  \n",
    "`div_by_3_int(2019)` returns `True`.  "
   ]
  },
  {
   "cell_type": "code",
   "execution_count": 5,
   "metadata": {},
   "outputs": [
    {
     "name": "stdout",
     "output_type": "stream",
     "text": [
      "Invalid Input\n"
     ]
    },
    {
     "data": {
      "text/plain": [
       "(False, True)"
      ]
     },
     "execution_count": 5,
     "metadata": {},
     "output_type": "execute_result"
    }
   ],
   "source": [
    "def div_by_3_int(num):\n",
    "    if type(num) != int:\n",
    "        print(\"Invalid Input\")\n",
    "        return False\n",
    "    else:\n",
    "        return True\n",
    "div_by_3_int(2019.), div_by_3_int(2019)"
   ]
  },
  {
   "cell_type": "markdown",
   "metadata": {},
   "source": [
    "### Inputting from the terminal\n",
    "\n",
    "The `input(prompt)` built-in function displays a prompt and waits for the user to enter input, returning the user's response in string format. For example \n",
    "\n",
    " `lang = input(\"What's your favorite programming language? \")` \n",
    " \n",
    "will display the question and wait for you to enter a response. If you type `Python`, the variable `lang` will now equal `'Python'`."
   ]
  },
  {
   "cell_type": "code",
   "execution_count": 6,
   "metadata": {
    "scrolled": true
   },
   "outputs": [
    {
     "name": "stdout",
     "output_type": "stream",
     "text": [
      "What's your favorite programming language? R\n"
     ]
    }
   ],
   "source": [
    "lang = input(\"What's your favorite programming language? \")"
   ]
  },
  {
   "cell_type": "markdown",
   "metadata": {},
   "source": [
    " Write a function **`hello()`** that uses `input` to ask for a user's name, then prints `Hi` followed by the name and `!`. It does not return a value. For example if the user types `Harry` your function displays `Hi Harry!`.\n",
    " "
   ]
  },
  {
   "cell_type": "code",
   "execution_count": 8,
   "metadata": {},
   "outputs": [
    {
     "name": "stdout",
     "output_type": "stream",
     "text": [
      "What's your name?Ethan\n",
      "Hi Ethan!\n"
     ]
    }
   ],
   "source": [
    "def hello():\n",
    "    greeting = input(\"What's your name?\")\n",
    "    print(\"Hi \" + greeting + \"!\")\n",
    "hello()"
   ]
  },
  {
   "cell_type": "markdown",
   "metadata": {},
   "source": [
    "### Add two numbers\n",
    "\n",
    "Write a function **`add_2nums()`** that calls `input` twice to ask a user to enter two numbers, then displays the sum of the two numbers. It does not return a value. For example if the two numbers entered are 100 and 200, the function displays `100 + 200 = 300`."
   ]
  },
  {
   "cell_type": "code",
   "execution_count": 10,
   "metadata": {},
   "outputs": [
    {
     "name": "stdout",
     "output_type": "stream",
     "text": [
      "Enter number 13\n",
      "Enter number 24\n",
      "7.0\n"
     ]
    }
   ],
   "source": [
    "def add_2nums():\n",
    "    num1 = float(input(\"Enter number 1\"))\n",
    "    num2 = float(input(\"Enter number 2\"))\n",
    "    print(num1 + num2)\n",
    "add_2nums()"
   ]
  },
  {
   "cell_type": "markdown",
   "metadata": {},
   "source": [
    "### Leap year\n",
    "\n",
    "Write a function **`is_leap_year(year)`** that returns `True` if the given year is a leap year. Here are the rules: Every year that is exactly divisible by four is a leap year, except for years that are exactly divisible by 100, but these centurial years are leap years if they are exactly divisible by 400. For example, the years 1800 and 1900 are not leap years, but the years 1600 and 2000 are.\n",
    "\n",
    " Examples:  \n",
    " `is_leap_year(2019)` returns `False`  \n",
    " `is_leap_year(2020)` returns `True`  \n",
    " `is_leap_year(2100)` returns `False`  \n",
    " `is_leap_year(2400)` returns `True`"
   ]
  },
  {
   "cell_type": "code",
   "execution_count": 13,
   "metadata": {},
   "outputs": [
    {
     "data": {
      "text/plain": [
       "(False, True, False, True)"
      ]
     },
     "execution_count": 13,
     "metadata": {},
     "output_type": "execute_result"
    }
   ],
   "source": [
    "def is_leap_year(year):\n",
    "    if (year % 4 == 0 and year % 100 != 0) or (year % 400 == 0):\n",
    "        return True\n",
    "    else:\n",
    "        return False\n",
    "is_leap_year(2019), is_leap_year(2020), is_leap_year(2100), is_leap_year(2400)"
   ]
  },
  {
   "cell_type": "markdown",
   "metadata": {},
   "source": [
    "### Comparing floating point numbers\n",
    "\n",
    "Caution must be used when determining whether two floating point numbers are equal. Use the comparison operator `==` on these pairs of mathematically equivalent expressions:\n",
    " \n",
    "     * `3 * 0.3` and `0.9`\n",
    "     * `2.51 * 100` and `251.0`\n",
    "     * `4.02 * 100` and `402.0`\n",
    "     \n",
    "What are the results? Why is this happening?"
   ]
  },
  {
   "cell_type": "code",
   "execution_count": 16,
   "metadata": {},
   "outputs": [
    {
     "data": {
      "text/plain": [
       "(False, False, False)"
      ]
     },
     "execution_count": 16,
     "metadata": {},
     "output_type": "execute_result"
    }
   ],
   "source": [
    "3 * 0.3 == 0.9, 2.51 * 100 == 251.0, 4.02 * 100 == 402.0"
   ]
  },
  {
   "cell_type": "markdown",
   "metadata": {},
   "source": [
    "In each case Python finds that these expressions are *not equal*. This is because these numbers cannot be represented exactly in base 2, just as the fraction 2/3 = 0.6666$\\ldots$ cannot be represented exactly in base 10.\n",
    "\n",
    "The `math.isclose(a, b)` function returns `True` if the numbers `a` and `b` are close in value. The default relative tolerance is `1e-9`."
   ]
  },
  {
   "cell_type": "markdown",
   "metadata": {},
   "source": [
    "Write your own function **`isclose(a, b, eps)`** that returns `True` if the absolute difference of $a$ and $b$ is less than a tolerance of `eps`. Test your function on the three pairs of numbers above with `eps` equal to `1e-6`.\n",
    " \n",
    " ```\n",
    " eps = 1e-6\n",
    " print(isclose(3*0.3, 0.9, eps))\n",
    " print(isclose(2.51*100, 251.0, eps))\n",
    " print(isclose(4.02*100, 402.0, eps))\n",
    " ```\n",
    " "
   ]
  },
  {
   "cell_type": "code",
   "execution_count": 21,
   "metadata": {},
   "outputs": [
    {
     "name": "stdout",
     "output_type": "stream",
     "text": [
      "True\n",
      "True\n",
      "True\n"
     ]
    },
    {
     "data": {
      "text/plain": [
       "(None, None, None)"
      ]
     },
     "execution_count": 21,
     "metadata": {},
     "output_type": "execute_result"
    }
   ],
   "source": [
    "eps = 10**-6\n",
    "def isclose(a, b, eps):\n",
    "    if abs(a - b) < eps:\n",
    "        return True\n",
    "    else:\n",
    "        return False\n",
    "print(isclose(3*0.3, 0.9, eps)), print(isclose(2.51*100, 251.0, eps)), print(isclose(4.02*100, 402.0, eps))"
   ]
  },
  {
   "cell_type": "markdown",
   "metadata": {},
   "source": [
    "What is the smallest value of `eps` that will return `True` for all three pairs?"
   ]
  },
  {
   "cell_type": "code",
   "execution_count": 24,
   "metadata": {},
   "outputs": [
    {
     "data": {
      "text/plain": [
       "(1.1102230246251565e-16, 2.842170943040401e-14, 5.684341886080802e-14)"
      ]
     },
     "execution_count": 24,
     "metadata": {},
     "output_type": "execute_result"
    }
   ],
   "source": [
    "abs(3*0.3 - 0.9), abs(2.51*100 - 251.0), abs(4.02*100 - 402.0)"
   ]
  },
  {
   "cell_type": "markdown",
   "metadata": {},
   "source": [
    "### A birthday trick\n",
    "\n",
    "Actually this is a date trick. Write a function **`birthday(m, d, y)`** that takes a date of birth with month $m$ (1-12), day $d$ (1-31), and 4-digit year $y$, performs the following computations, and returns the result as an integer.\n",
    " <ul>\n",
    "    <li>Add 18 to birth month $m$.                      </li>\n",
    "    <li>Multiply by 25.                                 </li>\n",
    "    <li>Subtract 333.                                   </li>\n",
    "    <li>Multiply by 8.                                  </li>\n",
    "    <li>Subtract 554.                                   </li>\n",
    "    <li>Divide by 2.                                    </li>\n",
    "    <li>Add birth day $d$.                              </li>\n",
    "    <li>Multiply by 5.                                  </li>\n",
    "    <li>Add 692.                                        </li>\n",
    "    <li>Multiply by 20.                                 </li>\n",
    "    <li>Add the last two digits of the birth year $y$.  </li>\n",
    "    <li>Subtract 32940.                                 </li>\n",
    " </ul>\n",
    " \n",
    "Examples:   \n",
    "`birthday(12, 25, 1998)` returns `122598`.  \n",
    "`birthday(3, 17, 2002)` returns `31702`."
   ]
  },
  {
   "cell_type": "code",
   "execution_count": null,
   "metadata": {},
   "outputs": [],
   "source": [
    "def birthday(m,d,y):\n",
    "    "
   ]
  },
  {
   "cell_type": "markdown",
   "metadata": {},
   "source": [
    "Now write a much shorter function **`birthday2(m, d, y)`** that returns the same value."
   ]
  },
  {
   "cell_type": "code",
   "execution_count": null,
   "metadata": {},
   "outputs": [],
   "source": []
  },
  {
   "cell_type": "markdown",
   "metadata": {},
   "source": [
    "# Extra Problems"
   ]
  },
  {
   "cell_type": "markdown",
   "metadata": {},
   "source": [
    "### Area of a triangle formed by a line\n",
    "\n",
    "Write a function **`line_triangle_area(m, b)`** that takes a line $y = mx + b$ and returns the positive area of the triangle formed by the line and the $x$ and $y$ axes. If the line does not form such a triangle, return `0.0`.\n",
    "\n",
    "Examples:  \n",
    "`line_triangle_area(0.6, 3)` returns `7.5`.  \n",
    "`line_triangle_area(-0.75, -3)` returns `6.0`.  \n",
    "`line_triangle_area(0, 3)` returns `0.0`.  "
   ]
  },
  {
   "cell_type": "code",
   "execution_count": null,
   "metadata": {},
   "outputs": [],
   "source": []
  },
  {
   "cell_type": "markdown",
   "metadata": {},
   "source": [
    "### Angle formed by a line and the $x$-axis\n",
    "\n",
    "Write a function **`line_angle(m, b)`** that takes a line $y = mx + b$ and returns the radian measure of the angle $\\theta$ formed by the line and the $x$-axis, $0 \\le \\theta < \\pi$, rotating counterclockwise from the positive $x$-axis. If the line does not intersect the $x$-axis, return `math.nan`. (*Hint:* Examine the slope of the line.)\n",
    "\n",
    "`line_angle(1, -7)` returns `0.785398` which corresponds to $\\pi/4$.  \n",
    "`line_angle(-math.sqrt(3), 5)` returns `2.094395` which corresponds to $2\\pi/3$.  \n",
    "`line_angle(0, 4)` returns `nan`."
   ]
  },
  {
   "cell_type": "code",
   "execution_count": null,
   "metadata": {},
   "outputs": [],
   "source": []
  },
  {
   "cell_type": "markdown",
   "metadata": {},
   "source": [
    "### Short `if` statements\n",
    "\n",
    "Note that the statement\n",
    "```\n",
    "X if condition else Y\n",
    "```\n",
    "\n",
    "is equivalent to\n",
    "```\n",
    "if condition:\n",
    "    X\n",
    "else:\n",
    "    Y\n",
    "```\n",
    "___\n",
    "\n",
    "\n",
    "In this function \n",
    "```\n",
    "return angle if angle >=0 else angle + math.pi\n",
    "```\n",
    "is equivalent to\n",
    "```\n",
    "if angle >=0:\n",
    "    return angle\n",
    "else:\n",
    "    return angle + math.pi\n",
    "```\n"
   ]
  }
 ],
 "metadata": {
  "kernelspec": {
   "display_name": "Python 3",
   "language": "python",
   "name": "python3"
  },
  "language_info": {
   "codemirror_mode": {
    "name": "ipython",
    "version": 3
   },
   "file_extension": ".py",
   "mimetype": "text/x-python",
   "name": "python",
   "nbconvert_exporter": "python",
   "pygments_lexer": "ipython3",
   "version": "3.6.5"
  }
 },
 "nbformat": 4,
 "nbformat_minor": 2
}
