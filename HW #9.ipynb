{
 "cells": [
  {
   "cell_type": "markdown",
   "metadata": {},
   "source": [
    "### Python for Math and Stat: HW #9 by Ethan Schacht"
   ]
  },
  {
   "cell_type": "markdown",
   "metadata": {},
   "source": [
    "Problem 1.1: This function returns True if num is perfect."
   ]
  },
  {
   "cell_type": "code",
   "execution_count": 3,
   "metadata": {},
   "outputs": [],
   "source": [
    "import random as r\n",
    "import numpy as np\n",
    "import matplotlib.pyplot as plt"
   ]
  },
  {
   "cell_type": "code",
   "execution_count": 2,
   "metadata": {},
   "outputs": [
    {
     "data": {
      "text/plain": [
       "(True, False)"
      ]
     },
     "execution_count": 2,
     "metadata": {},
     "output_type": "execute_result"
    }
   ],
   "source": [
    "def is_perfect(num):\n",
    "    divisors = []\n",
    "    for i in range(1, num):\n",
    "        if num % i == 0:\n",
    "            divisors.append(i)\n",
    "    return sum(divisors) == num\n",
    "\n",
    "is_perfect(28), is_perfect(30)"
   ]
  },
  {
   "cell_type": "markdown",
   "metadata": {},
   "source": [
    "Problem 1.2: This function returns a list of the perfect numbers among the first maxnum positive integers."
   ]
  },
  {
   "cell_type": "code",
   "execution_count": 3,
   "metadata": {},
   "outputs": [
    {
     "data": {
      "text/plain": [
       "([6, 28], [6, 28, 496])"
      ]
     },
     "execution_count": 3,
     "metadata": {},
     "output_type": "execute_result"
    }
   ],
   "source": [
    "def perfect_nums(maxnum):\n",
    "    full_lst = [is_perfect(i) for i in range(1, maxnum + 1)]\n",
    "    perf_list = []\n",
    "    counter = 0\n",
    "    for i in full_lst:\n",
    "        if i == True:\n",
    "            perf_list.append(counter + 1)\n",
    "        counter += 1\n",
    "    return perf_list\n",
    "\n",
    "perfect_nums(100), perfect_nums(1000)"
   ]
  },
  {
   "cell_type": "markdown",
   "metadata": {},
   "source": [
    "Problem 2.1: This function returns True if num is a Mersenne prime."
   ]
  },
  {
   "cell_type": "code",
   "execution_count": 13,
   "metadata": {},
   "outputs": [
    {
     "data": {
      "text/plain": [
       "(False, True)"
      ]
     },
     "execution_count": 13,
     "metadata": {},
     "output_type": "execute_result"
    }
   ],
   "source": [
    "def is_mersenne(num):\n",
    "    mersenne = (2 ** num) - 1\n",
    "    if mersenne == 1:\n",
    "        return False\n",
    "    for i in range(2, mersenne):\n",
    "        if mersenne % i == 0:\n",
    "            return False\n",
    "    return True\n",
    "\n",
    "is_mersenne(11), is_mersenne(13)"
   ]
  },
  {
   "cell_type": "markdown",
   "metadata": {},
   "source": [
    "Problem 2.2: This function checks the first nprimes prime numbers and returns a list of the primes  𝑝  such that  2𝑝−1  is a Mersenne prime."
   ]
  },
  {
   "cell_type": "code",
   "execution_count": 5,
   "metadata": {},
   "outputs": [],
   "source": [
    "def is_prime(num):\n",
    "    if num == 1:\n",
    "        return False\n",
    "    for i in range(2, num):\n",
    "        if num % i == 0:\n",
    "            return False\n",
    "    return True"
   ]
  },
  {
   "cell_type": "code",
   "execution_count": 6,
   "metadata": {},
   "outputs": [
    {
     "data": {
      "text/plain": [
       "[2, 3, 5, 7, 13, 17, 19]"
      ]
     },
     "execution_count": 6,
     "metadata": {},
     "output_type": "execute_result"
    }
   ],
   "source": [
    "def mersenne_primes(nprimes):\n",
    "    prime_list = []\n",
    "    prime_test = 1\n",
    "    while len(prime_list) < nprimes: \n",
    "        if is_prime(prime_test):\n",
    "            prime_list.append(prime_test)          \n",
    "        prime_test += 1\n",
    "    mers_list = []\n",
    "    for i in prime_list:\n",
    "        if is_mersenne(i):\n",
    "            mers_list.append(i)\n",
    "    return mers_list\n",
    "        \n",
    "mersenne_primes(10)    "
   ]
  },
  {
   "cell_type": "markdown",
   "metadata": {},
   "source": [
    "Problem 3.1: This function simulates the Ace and Two Deuces card game. It should randomly choose the position of the ace and randomly choose the initial card to guess. Given the chosen strategy ('stay' or 'switch'), the function should state whether you win or lose."
   ]
  },
  {
   "cell_type": "code",
   "execution_count": 7,
   "metadata": {},
   "outputs": [
    {
     "name": "stdout",
     "output_type": "stream",
     "text": [
      "Your initial guess: Card 2\n",
      "You decide to switch.\n",
      "Monty's cards: A 2 2\n",
      "Skiing this weekend!\n"
     ]
    }
   ],
   "source": [
    "def guess_ace(strategy):\n",
    "    cards = [\"A\", \"2\", \"2\"]\n",
    "    r.shuffle(cards)\n",
    "    position_choice = r.choice([1,2,3])\n",
    "    card_choice = cards[position_choice - 1]\n",
    "    print(\"Your initial guess: Card\", position_choice)\n",
    "    \n",
    "    if strategy == \"stay\":\n",
    "        print(\"You decide to stay.\") #though a card was removed, we don't change our guess so it doesn't matter\n",
    "        print(\"Monty's cards:\", cards[0], cards[1], cards[2]) \n",
    "    elif strategy == \"switch\":\n",
    "        print(\"You decide to switch.\")\n",
    "        print(\"Monty's cards:\", cards[0], cards[1], cards[2])\n",
    "        i = 0\n",
    "        while True:\n",
    "            if cards[i] == \"2\":\n",
    "                cards.remove(cards[i]) #removes a 2 from the choices (doesn't matter which position)\n",
    "                break\n",
    "            i += 1\n",
    "        if card_choice == cards[0]:\n",
    "            card_choice = cards[1] #switches the choice out of the two remaining cards\n",
    "        else:\n",
    "            card_choice = cards[0]\n",
    "    if card_choice == \"A\":\n",
    "        print(\"Skiing this weekend!\")\n",
    "    else:\n",
    "        print(\"No skiing this weekend.\")\n",
    "        \n",
    "            \n",
    "\n",
    "guess_ace(\"switch\")"
   ]
  },
  {
   "cell_type": "markdown",
   "metadata": {},
   "source": [
    "Problem 3.2: This function simulates the game nsim times for a given strategy."
   ]
  },
  {
   "cell_type": "code",
   "execution_count": 30,
   "metadata": {},
   "outputs": [],
   "source": [
    "def guess_ace2(strategy): #modification of guess_ace that has no print statements and returns a bool\n",
    "    cards = [\"A\", \"2\", \"2\"]\n",
    "    r.shuffle(cards)\n",
    "    position_choice = r.choice([1,2,3])\n",
    "    card_choice = cards[position_choice - 1]\n",
    "    \n",
    "    if strategy == \"switch\":\n",
    "        i = 0\n",
    "        while True:\n",
    "            if cards[i] == \"2\":\n",
    "                cards.remove(cards[i]) #removes a 2 from the choices (doesn't matter which position)\n",
    "                break\n",
    "            i += 1\n",
    "        if card_choice == cards[0]:\n",
    "            card_choice = cards[1] #switches the choice out of the two remaining cards\n",
    "        else:\n",
    "            card_choice = cards[0]\n",
    "    if card_choice == \"A\":\n",
    "        return True\n",
    "    else:\n",
    "        return False"
   ]
  },
  {
   "cell_type": "code",
   "execution_count": 38,
   "metadata": {},
   "outputs": [
    {
     "data": {
      "text/plain": [
       "(0.33207, 0.66596)"
      ]
     },
     "execution_count": 38,
     "metadata": {},
     "output_type": "execute_result"
    }
   ],
   "source": [
    "def guess_ace_prob(strategy, nsim):\n",
    "    win_loss = []\n",
    "    for i in range(nsim):\n",
    "        if strategy == \"stay\":\n",
    "            win_loss.append(guess_ace2(\"stay\"))\n",
    "        elif strategy == \"switch\":\n",
    "            win_loss.append(guess_ace2(\"switch\"))\n",
    "    num_wins = [i for i in win_loss if i == True]\n",
    "    return len(num_wins) / len(win_loss)\n",
    "\n",
    "guess_ace_prob(\"stay\", 100000), guess_ace_prob(\"switch\", 100000)\n",
    "\n",
    "#The best strategy is to switch as this gives the player a 2/3 chance of winning vs 1/3 chance if they stay.  "
   ]
  },
  {
   "cell_type": "markdown",
   "metadata": {},
   "source": [
    "Problem 4.1: This function simulates the rolling of ndice dice and returns a list of the probabilities of rolling each sum, from the smallest possible sum to the greatest possible sum."
   ]
  },
  {
   "cell_type": "code",
   "execution_count": 67,
   "metadata": {},
   "outputs": [
    {
     "data": {
      "text/plain": [
       "[(2.69, 2),\n",
       " (5.37, 3),\n",
       " (8.35, 4),\n",
       " (11.12, 5),\n",
       " (14.09, 6),\n",
       " (16.66, 7),\n",
       " (13.83, 8),\n",
       " (11.08, 9),\n",
       " (8.52, 10),\n",
       " (5.57, 11),\n",
       " (2.73, 12)]"
      ]
     },
     "execution_count": 67,
     "metadata": {},
     "output_type": "execute_result"
    }
   ],
   "source": [
    "def dice_sum_sim(ndice, nsim):\n",
    "    i = 0\n",
    "    sum_list = []\n",
    "    while i < nsim:\n",
    "        sum_die = sum([r.randint(1,6) for i in range(ndice)])\n",
    "        sum_list.append(sum_die)\n",
    "        i += 1\n",
    "       \n",
    "    sum_counts = []\n",
    "    for j in range(ndice, (ndice * 6) + 1):\n",
    "        sum_counter = 0\n",
    "        for k in sum_list:\n",
    "            if j == k:\n",
    "                sum_counter += 1\n",
    "        sum_counts.append(sum_counter)\n",
    "    \n",
    "    prop_list = []\n",
    "    for j in sum_counts:\n",
    "        prop_list.append(round(j / sum(sum_counts) * 100,2))\n",
    "    return list(zip(prop_list, [i for i in range(ndice, ndice * 6 + 1)]))\n",
    "            \n",
    "        \n",
    "dice_sum_sim(2, 100000)"
   ]
  },
  {
   "cell_type": "code",
   "execution_count": 69,
   "metadata": {},
   "outputs": [
    {
     "data": {
      "text/plain": [
       "[(2, 'Fred'), (3, 'John')]"
      ]
     },
     "execution_count": 69,
     "metadata": {},
     "output_type": "execute_result"
    }
   ],
   "source": [
    "lst1 = [2,3,4]\n",
    "lst2 = [\"Fred\", \"John\"]\n",
    "\n",
    "list(zip(lst1, lst2))"
   ]
  },
  {
   "cell_type": "markdown",
   "metadata": {},
   "source": [
    "Problem 4.2: Plots dice sum probabilities for n = 3.\n",
    "    "
   ]
  },
  {
   "cell_type": "code",
   "execution_count": 70,
   "metadata": {},
   "outputs": [
    {
     "ename": "ValueError",
     "evalue": "shape mismatch: objects cannot be broadcast to a single shape",
     "output_type": "error",
     "traceback": [
      "\u001b[0;31m---------------------------------------------------------------------------\u001b[0m",
      "\u001b[0;31mValueError\u001b[0m                                Traceback (most recent call last)",
      "\u001b[0;32m<ipython-input-70-2225d58273e1>\u001b[0m in \u001b[0;36m<module>\u001b[0;34m()\u001b[0m\n\u001b[1;32m      2\u001b[0m \u001b[0my_vals\u001b[0m \u001b[0;34m=\u001b[0m \u001b[0mdice_sum_sim\u001b[0m\u001b[0;34m(\u001b[0m\u001b[0;36m3\u001b[0m\u001b[0;34m,\u001b[0m \u001b[0;36m10000\u001b[0m\u001b[0;34m)\u001b[0m\u001b[0;34m\u001b[0m\u001b[0m\n\u001b[1;32m      3\u001b[0m \u001b[0;34m\u001b[0m\u001b[0m\n\u001b[0;32m----> 4\u001b[0;31m \u001b[0mplt\u001b[0m\u001b[0;34m.\u001b[0m\u001b[0mbar\u001b[0m\u001b[0;34m(\u001b[0m\u001b[0mx_vals\u001b[0m\u001b[0;34m,\u001b[0m \u001b[0my_vals\u001b[0m\u001b[0;34m)\u001b[0m\u001b[0;34m\u001b[0m\u001b[0m\n\u001b[0m\u001b[1;32m      5\u001b[0m \u001b[0mplt\u001b[0m\u001b[0;34m.\u001b[0m\u001b[0mtitle\u001b[0m\u001b[0;34m(\u001b[0m\u001b[0;34m\"Dice Sum Probabilities for n = 3\"\u001b[0m\u001b[0;34m)\u001b[0m\u001b[0;34m\u001b[0m\u001b[0m\n\u001b[1;32m      6\u001b[0m \u001b[0mplt\u001b[0m\u001b[0;34m.\u001b[0m\u001b[0mxlabel\u001b[0m\u001b[0;34m(\u001b[0m\u001b[0;34m\"Sums\"\u001b[0m\u001b[0;34m)\u001b[0m\u001b[0;34m\u001b[0m\u001b[0m\n",
      "\u001b[0;32m~/anaconda3/lib/python3.6/site-packages/matplotlib/pyplot.py\u001b[0m in \u001b[0;36mbar\u001b[0;34m(*args, **kwargs)\u001b[0m\n\u001b[1;32m   2768\u001b[0m                       mplDeprecation)\n\u001b[1;32m   2769\u001b[0m     \u001b[0;32mtry\u001b[0m\u001b[0;34m:\u001b[0m\u001b[0;34m\u001b[0m\u001b[0m\n\u001b[0;32m-> 2770\u001b[0;31m         \u001b[0mret\u001b[0m \u001b[0;34m=\u001b[0m \u001b[0max\u001b[0m\u001b[0;34m.\u001b[0m\u001b[0mbar\u001b[0m\u001b[0;34m(\u001b[0m\u001b[0;34m*\u001b[0m\u001b[0margs\u001b[0m\u001b[0;34m,\u001b[0m \u001b[0;34m**\u001b[0m\u001b[0mkwargs\u001b[0m\u001b[0;34m)\u001b[0m\u001b[0;34m\u001b[0m\u001b[0m\n\u001b[0m\u001b[1;32m   2771\u001b[0m     \u001b[0;32mfinally\u001b[0m\u001b[0;34m:\u001b[0m\u001b[0;34m\u001b[0m\u001b[0m\n\u001b[1;32m   2772\u001b[0m         \u001b[0max\u001b[0m\u001b[0;34m.\u001b[0m\u001b[0m_hold\u001b[0m \u001b[0;34m=\u001b[0m \u001b[0mwashold\u001b[0m\u001b[0;34m\u001b[0m\u001b[0m\n",
      "\u001b[0;32m~/anaconda3/lib/python3.6/site-packages/matplotlib/__init__.py\u001b[0m in \u001b[0;36minner\u001b[0;34m(ax, *args, **kwargs)\u001b[0m\n\u001b[1;32m   1853\u001b[0m                         \u001b[0;34m\"the Matplotlib list!)\"\u001b[0m \u001b[0;34m%\u001b[0m \u001b[0;34m(\u001b[0m\u001b[0mlabel_namer\u001b[0m\u001b[0;34m,\u001b[0m \u001b[0mfunc\u001b[0m\u001b[0;34m.\u001b[0m\u001b[0m__name__\u001b[0m\u001b[0;34m)\u001b[0m\u001b[0;34m,\u001b[0m\u001b[0;34m\u001b[0m\u001b[0m\n\u001b[1;32m   1854\u001b[0m                         RuntimeWarning, stacklevel=2)\n\u001b[0;32m-> 1855\u001b[0;31m             \u001b[0;32mreturn\u001b[0m \u001b[0mfunc\u001b[0m\u001b[0;34m(\u001b[0m\u001b[0max\u001b[0m\u001b[0;34m,\u001b[0m \u001b[0;34m*\u001b[0m\u001b[0margs\u001b[0m\u001b[0;34m,\u001b[0m \u001b[0;34m**\u001b[0m\u001b[0mkwargs\u001b[0m\u001b[0;34m)\u001b[0m\u001b[0;34m\u001b[0m\u001b[0m\n\u001b[0m\u001b[1;32m   1856\u001b[0m \u001b[0;34m\u001b[0m\u001b[0m\n\u001b[1;32m   1857\u001b[0m         inner.__doc__ = _add_data_doc(inner.__doc__,\n",
      "\u001b[0;32m~/anaconda3/lib/python3.6/site-packages/matplotlib/axes/_axes.py\u001b[0m in \u001b[0;36mbar\u001b[0;34m(self, *args, **kwargs)\u001b[0m\n\u001b[1;32m   2231\u001b[0m         x, height, width, y, linewidth = np.broadcast_arrays(\n\u001b[1;32m   2232\u001b[0m             \u001b[0;31m# Make args iterable too.\u001b[0m\u001b[0;34m\u001b[0m\u001b[0;34m\u001b[0m\u001b[0m\n\u001b[0;32m-> 2233\u001b[0;31m             np.atleast_1d(x), height, width, y, linewidth)\n\u001b[0m\u001b[1;32m   2234\u001b[0m \u001b[0;34m\u001b[0m\u001b[0m\n\u001b[1;32m   2235\u001b[0m         \u001b[0;31m# Now that units have been converted, set the tick locations.\u001b[0m\u001b[0;34m\u001b[0m\u001b[0;34m\u001b[0m\u001b[0m\n",
      "\u001b[0;32m~/anaconda3/lib/python3.6/site-packages/numpy/lib/stride_tricks.py\u001b[0m in \u001b[0;36mbroadcast_arrays\u001b[0;34m(*args, **kwargs)\u001b[0m\n\u001b[1;32m    247\u001b[0m     \u001b[0margs\u001b[0m \u001b[0;34m=\u001b[0m \u001b[0;34m[\u001b[0m\u001b[0mnp\u001b[0m\u001b[0;34m.\u001b[0m\u001b[0marray\u001b[0m\u001b[0;34m(\u001b[0m\u001b[0m_m\u001b[0m\u001b[0;34m,\u001b[0m \u001b[0mcopy\u001b[0m\u001b[0;34m=\u001b[0m\u001b[0;32mFalse\u001b[0m\u001b[0;34m,\u001b[0m \u001b[0msubok\u001b[0m\u001b[0;34m=\u001b[0m\u001b[0msubok\u001b[0m\u001b[0;34m)\u001b[0m \u001b[0;32mfor\u001b[0m \u001b[0m_m\u001b[0m \u001b[0;32min\u001b[0m \u001b[0margs\u001b[0m\u001b[0;34m]\u001b[0m\u001b[0;34m\u001b[0m\u001b[0m\n\u001b[1;32m    248\u001b[0m \u001b[0;34m\u001b[0m\u001b[0m\n\u001b[0;32m--> 249\u001b[0;31m     \u001b[0mshape\u001b[0m \u001b[0;34m=\u001b[0m \u001b[0m_broadcast_shape\u001b[0m\u001b[0;34m(\u001b[0m\u001b[0;34m*\u001b[0m\u001b[0margs\u001b[0m\u001b[0;34m)\u001b[0m\u001b[0;34m\u001b[0m\u001b[0m\n\u001b[0m\u001b[1;32m    250\u001b[0m \u001b[0;34m\u001b[0m\u001b[0m\n\u001b[1;32m    251\u001b[0m     \u001b[0;32mif\u001b[0m \u001b[0mall\u001b[0m\u001b[0;34m(\u001b[0m\u001b[0marray\u001b[0m\u001b[0;34m.\u001b[0m\u001b[0mshape\u001b[0m \u001b[0;34m==\u001b[0m \u001b[0mshape\u001b[0m \u001b[0;32mfor\u001b[0m \u001b[0marray\u001b[0m \u001b[0;32min\u001b[0m \u001b[0margs\u001b[0m\u001b[0;34m)\u001b[0m\u001b[0;34m:\u001b[0m\u001b[0;34m\u001b[0m\u001b[0m\n",
      "\u001b[0;32m~/anaconda3/lib/python3.6/site-packages/numpy/lib/stride_tricks.py\u001b[0m in \u001b[0;36m_broadcast_shape\u001b[0;34m(*args)\u001b[0m\n\u001b[1;32m    182\u001b[0m     \u001b[0;31m# use the old-iterator because np.nditer does not handle size 0 arrays\u001b[0m\u001b[0;34m\u001b[0m\u001b[0;34m\u001b[0m\u001b[0m\n\u001b[1;32m    183\u001b[0m     \u001b[0;31m# consistently\u001b[0m\u001b[0;34m\u001b[0m\u001b[0;34m\u001b[0m\u001b[0m\n\u001b[0;32m--> 184\u001b[0;31m     \u001b[0mb\u001b[0m \u001b[0;34m=\u001b[0m \u001b[0mnp\u001b[0m\u001b[0;34m.\u001b[0m\u001b[0mbroadcast\u001b[0m\u001b[0;34m(\u001b[0m\u001b[0;34m*\u001b[0m\u001b[0margs\u001b[0m\u001b[0;34m[\u001b[0m\u001b[0;34m:\u001b[0m\u001b[0;36m32\u001b[0m\u001b[0;34m]\u001b[0m\u001b[0;34m)\u001b[0m\u001b[0;34m\u001b[0m\u001b[0m\n\u001b[0m\u001b[1;32m    185\u001b[0m     \u001b[0;31m# unfortunately, it cannot handle 32 or more arguments directly\u001b[0m\u001b[0;34m\u001b[0m\u001b[0;34m\u001b[0m\u001b[0m\n\u001b[1;32m    186\u001b[0m     \u001b[0;32mfor\u001b[0m \u001b[0mpos\u001b[0m \u001b[0;32min\u001b[0m \u001b[0mrange\u001b[0m\u001b[0;34m(\u001b[0m\u001b[0;36m32\u001b[0m\u001b[0;34m,\u001b[0m \u001b[0mlen\u001b[0m\u001b[0;34m(\u001b[0m\u001b[0margs\u001b[0m\u001b[0;34m)\u001b[0m\u001b[0;34m,\u001b[0m \u001b[0;36m31\u001b[0m\u001b[0;34m)\u001b[0m\u001b[0;34m:\u001b[0m\u001b[0;34m\u001b[0m\u001b[0m\n",
      "\u001b[0;31mValueError\u001b[0m: shape mismatch: objects cannot be broadcast to a single shape"
     ]
    },
    {
     "data": {
      "image/png": "[encoded data removed]",
      "text/plain": [
       "<Figure size 432x288 with 1 Axes>"
      ]
     },
     "metadata": {},
     "output_type": "display_data"
    }
   ],
   "source": [
    "x_vals = list(range(3, 19))\n",
    "y_vals = dice_sum_sim(3, 10000)\n",
    "\n",
    "plt.bar(x_vals, y_vals)\n",
    "plt.title(\"Dice Sum Probabilities for n = 3\")\n",
    "plt.xlabel(\"Sums\")\n",
    "plt.ylabel(\"Probabilities\")\n",
    "plt.show()"
   ]
  },
  {
   "cell_type": "markdown",
   "metadata": {},
   "source": [
    "For experiment: Make previous function include plot for any ndice value"
   ]
  },
  {
   "cell_type": "code",
   "execution_count": 87,
   "metadata": {},
   "outputs": [
    {
     "data": {
      "image/png": "[encoded data removed]",
      "text/plain": [
       "<Figure size 432x288 with 1 Axes>"
      ]
     },
     "metadata": {},
     "output_type": "display_data"
    },
    {
     "data": {
      "image/png": "[encoded data removed]",
      "text/plain": [
       "<Figure size 432x288 with 1 Axes>"
      ]
     },
     "metadata": {},
     "output_type": "display_data"
    },
    {
     "data": {
      "image/png": "[encoded data removed]",
      "text/plain": [
       "<Figure size 432x288 with 1 Axes>"
      ]
     },
     "metadata": {},
     "output_type": "display_data"
    },
    {
     "data": {
      "image/png": "[encoded data removed]",
      "text/plain": [
       "<Figure size 432x288 with 1 Axes>"
      ]
     },
     "metadata": {},
     "output_type": "display_data"
    },
    {
     "data": {
      "image/png": "[encoded data removed]",
      "text/plain": [
       "<Figure size 432x288 with 1 Axes>"
      ]
     },
     "metadata": {},
     "output_type": "display_data"
    },
    {
     "data": {
      "text/plain": [
       "[None, None, None, None, None]"
      ]
     },
     "execution_count": 87,
     "metadata": {},
     "output_type": "execute_result"
    }
   ],
   "source": [
    "def dice_sum_plot(ndice, nsim):\n",
    "    i = 0\n",
    "    sum_list = []\n",
    "    while i < nsim:\n",
    "        sum_die = sum([r.randint(1,6) for i in range(ndice)])\n",
    "        sum_list.append(sum_die)\n",
    "        i += 1\n",
    "       \n",
    "    sum_counts = []\n",
    "    for j in range(ndice, (ndice * 6) + 1):\n",
    "        sum_counter = 0\n",
    "        for k in sum_list:\n",
    "            if j == k:\n",
    "                sum_counter += 1\n",
    "        sum_counts.append(sum_counter)\n",
    "    \n",
    "    prop_list = []\n",
    "    for j in sum_counts:\n",
    "        prop_list.append(j / sum(sum_counts))\n",
    "\n",
    "    x_vals = list(range(ndice, (ndice * 6) + 1))\n",
    "    y_vals = prop_list\n",
    "    \n",
    "    plt.bar(x_vals, y_vals)\n",
    "    plt.title(f\"Dice Sum Probabilities for n = {ndice}\")\n",
    "    plt.xlabel(\"Sums\")\n",
    "    plt.ylabel(\"Probabilities\")\n",
    "    plt.show()\n",
    "    \n",
    "[dice_sum_plot(i, 1) for i in range(1, 6)]"
   ]
  },
  {
   "cell_type": "code",
   "execution_count": null,
   "metadata": {},
   "outputs": [],
   "source": []
  }
 ],
 "metadata": {
  "kernelspec": {
   "display_name": "Python 3",
   "language": "python",
   "name": "python3"
  },
  "language_info": {
   "codemirror_mode": {
    "name": "ipython",
    "version": 3
   },
   "file_extension": ".py",
   "mimetype": "text/x-python",
   "name": "python",
   "nbconvert_exporter": "python",
   "pygments_lexer": "ipython3",
   "version": "3.6.5"
  }
 },
 "nbformat": 4,
 "nbformat_minor": 2
}
