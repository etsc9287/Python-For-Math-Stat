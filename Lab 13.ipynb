{
 "cells": [
  {
   "cell_type": "markdown",
   "metadata": {},
   "source": [
    "# Lab 13"
   ]
  },
  {
   "cell_type": "code",
   "execution_count": 2,
   "metadata": {},
   "outputs": [],
   "source": [
    "import datetime\n",
    "import pandas as pd"
   ]
  },
  {
   "cell_type": "markdown",
   "metadata": {},
   "source": [
    "### Dates and Times in Python"
   ]
  },
  {
   "cell_type": "markdown",
   "metadata": {},
   "source": [
    "Execute the following code to see how dates and times are handled in the `datetime` package.\n",
    "\n",
    "```\n",
    "today = datetime.date.today()\n",
    "today\n",
    "\n",
    "print(today)\n",
    "\n",
    "print(today.year)\n",
    "print(today.month)\n",
    "print(today.day)\n",
    "\n",
    "print(today.day_name())\n",
    "print(today.month_name())\n",
    "\n",
    "now = datetime.datetime.now()\n",
    "now\n",
    "\n",
    "print(now)\n",
    "\n",
    "print(now.hour)\n",
    "print(now.minute)\n",
    "print(now.second)\n",
    "\n",
    "datetime.datetime(2019, 11, 22, 12, 10)\n",
    "\n",
    "datetime.date(2019, 11, 22)\n",
    "\n",
    "jan1 = datetime.datetime(2019, 1, 1)\n",
    "jan1 - now\n",
    "```"
   ]
  },
  {
   "cell_type": "code",
   "execution_count": 6,
   "metadata": {},
   "outputs": [
    {
     "name": "stdout",
     "output_type": "stream",
     "text": [
      "2019-11-22\n",
      "2019\n",
      "11\n",
      "22\n",
      "2019-11-22 12:10:37.041675\n",
      "12\n",
      "10\n",
      "37\n"
     ]
    },
    {
     "data": {
      "text/plain": [
       "datetime.timedelta(-326, 42562, 958325)"
      ]
     },
     "execution_count": 6,
     "metadata": {},
     "output_type": "execute_result"
    }
   ],
   "source": [
    "today = datetime.date.today()\n",
    "today\n",
    "\n",
    "print(today)\n",
    "\n",
    "print(today.year)\n",
    "print(today.month)\n",
    "print(today.day)\n",
    "\n",
    "#print(today.day_name())\n",
    "#print(today.month_name())\n",
    "\n",
    "now = datetime.datetime.now()\n",
    "now\n",
    "\n",
    "print(now)\n",
    "\n",
    "print(now.hour)\n",
    "print(now.minute)\n",
    "print(now.second)\n",
    "\n",
    "datetime.datetime(2019, 11, 22, 12, 10)\n",
    "\n",
    "datetime.date(2019, 11, 22)\n",
    "\n",
    "jan1 = datetime.datetime(2019, 1, 1)\n",
    "jan1 - now"
   ]
  },
  {
   "cell_type": "markdown",
   "metadata": {},
   "source": [
    "### Dates and Times in Pandas\n",
    "The `Timestamp` object in pandas is similar to the `datetime.datetime` object in python.\n",
    "\n",
    "```\n",
    "today = pd.Timestamp.today()\n",
    "today\n",
    "\n",
    "today.day_name()\n",
    "\n",
    "str(today)\n",
    "\n",
    "pd.to_datetime('2019-11-22 12:15')\n",
    "```"
   ]
  },
  {
   "cell_type": "code",
   "execution_count": 7,
   "metadata": {},
   "outputs": [
    {
     "data": {
      "text/plain": [
       "Timestamp('2019-11-22 12:15:00')"
      ]
     },
     "execution_count": 7,
     "metadata": {},
     "output_type": "execute_result"
    }
   ],
   "source": [
    "today = pd.Timestamp.today()\n",
    "today\n",
    "\n",
    "today.day_name()\n",
    "\n",
    "str(today)\n",
    "\n",
    "pd.to_datetime('2019-11-22 12:15')"
   ]
  },
  {
   "cell_type": "markdown",
   "metadata": {},
   "source": [
    "### Lambda Functions"
   ]
  },
  {
   "cell_type": "markdown",
   "metadata": {},
   "source": [
    "Write the following piecewise function as a `lambda` function:\n",
    "$$f(x) = \\begin{cases}\n",
    "1 & x \\ge 0\\\\\n",
    "0 & x < 0.\n",
    "\\end{cases}$$"
   ]
  },
  {
   "cell_type": "code",
   "execution_count": 16,
   "metadata": {},
   "outputs": [
    {
     "data": {
      "text/plain": [
       "<function __main__.<lambda>(x)>"
      ]
     },
     "execution_count": 16,
     "metadata": {},
     "output_type": "execute_result"
    }
   ],
   "source": [
    "lambda x: 1 if x >= 0 else 0"
   ]
  },
  {
   "cell_type": "markdown",
   "metadata": {},
   "source": [
    "Evaluate your `lambda` function on the number `-10` to produce the answer `0`."
   ]
  },
  {
   "cell_type": "code",
   "execution_count": 17,
   "metadata": {},
   "outputs": [
    {
     "data": {
      "text/plain": [
       "0"
      ]
     },
     "execution_count": 17,
     "metadata": {},
     "output_type": "execute_result"
    }
   ],
   "source": [
    "(lambda x: 1 if x >= 0 else 0)(-10)"
   ]
  },
  {
   "cell_type": "markdown",
   "metadata": {},
   "source": [
    "Let `nums = [-10, 0, 5]`. Evaluate your `lambda` function on each element in `nums` to produce the answer `[0, 1, 1]`."
   ]
  },
  {
   "cell_type": "code",
   "execution_count": 19,
   "metadata": {},
   "outputs": [
    {
     "data": {
      "text/plain": [
       "[0, 1, 1]"
      ]
     },
     "execution_count": 19,
     "metadata": {},
     "output_type": "execute_result"
    }
   ],
   "source": [
    "nums = [-10,0,5]\n",
    "list(map(lambda x: 1 if x >= 0 else 0, nums))"
   ]
  },
  {
   "cell_type": "markdown",
   "metadata": {},
   "source": [
    "You would generate an error if `nums = 3` if `nums = [3, 'a']`. Use `try` and `except` to catch such errors and print an error message instead."
   ]
  },
  {
   "cell_type": "code",
   "execution_count": 25,
   "metadata": {},
   "outputs": [
    {
     "name": "stdout",
     "output_type": "stream",
     "text": [
      "You must input a number.\n"
     ]
    },
    {
     "data": {
      "text/plain": [
       "([1, 0], None)"
      ]
     },
     "execution_count": 25,
     "metadata": {},
     "output_type": "execute_result"
    }
   ],
   "source": [
    "def func(nums2):\n",
    "    try:\n",
    "        return list(map(lambda x: 1 if x >= 0 else 0, nums2))\n",
    "    except:\n",
    "        print(\"You must input a number.\")\n",
    "        return None\n",
    "func([3, -4]), func([3, \"a\"])"
   ]
  },
  {
   "cell_type": "markdown",
   "metadata": {},
   "source": [
    "### More on Dates and Times"
   ]
  },
  {
   "cell_type": "markdown",
   "metadata": {},
   "source": [
    "Read more about `datetime` on  [w3schools.com](https://www.w3schools.com/python/python_datetime.asp) including the`strftime` method.\n",
    "\n",
    "Read more about `Timestamp` on [pandas.pydata.org](https://pandas.pydata.org/pandas-docs/stable/reference/api/pandas.Timestamp.html)."
   ]
  }
 ],
 "metadata": {
  "kernelspec": {
   "display_name": "Python 3",
   "language": "python",
   "name": "python3"
  },
  "language_info": {
   "codemirror_mode": {
    "name": "ipython",
    "version": 3
   },
   "file_extension": ".py",
   "mimetype": "text/x-python",
   "name": "python",
   "nbconvert_exporter": "python",
   "pygments_lexer": "ipython3",
   "version": "3.6.5"
  }
 },
 "nbformat": 4,
 "nbformat_minor": 2
}
