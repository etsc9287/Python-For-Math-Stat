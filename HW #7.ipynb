{
 "cells": [
  {
   "cell_type": "markdown",
   "metadata": {},
   "source": [
    "### Python For Math and Stat: HW #7 by Ethan Schacht"
   ]
  },
  {
   "cell_type": "code",
   "execution_count": 1,
   "metadata": {},
   "outputs": [],
   "source": [
    "import math as m\n",
    "import random as r\n",
    "import matplotlib.pyplot as plt"
   ]
  },
  {
   "cell_type": "markdown",
   "metadata": {},
   "source": [
    "Problem 1.1: This function returns a list of 3-element tuples beginning with (1, 2, 3) and ending with n. Assume that n is a positive multiple of 3."
   ]
  },
  {
   "cell_type": "code",
   "execution_count": 2,
   "metadata": {},
   "outputs": [
    {
     "data": {
      "text/plain": [
       "([(1, 2, 3), (4, 5, 6), (7, 8, 9)],\n",
       " [(1, 2, 3), (4, 5, 6), (7, 8, 9), (10, 11, 12), (13, 14, 15), (16, 17, 18)])"
      ]
     },
     "execution_count": 2,
     "metadata": {},
     "output_type": "execute_result"
    }
   ],
   "source": [
    "def triples(n):\n",
    "    lst1 = [i for i in range(1,n+1) if i%3 == 1]\n",
    "    lst2 = [i for i in range(1,n+1) if i%3 == 2]\n",
    "    lst3 = [i for i in range(1,n+1) if i%3 == 0]\n",
    "    return(list((tuple(zip(lst1,lst2,lst3)))))\n",
    "triples(9), triples(18)"
   ]
  },
  {
   "cell_type": "markdown",
   "metadata": {},
   "source": [
    "Problem 1.2: This function takes a list of 3-element tuples and returns a list containing the middle element of each tuple. Assume that triples is non-empty."
   ]
  },
  {
   "cell_type": "code",
   "execution_count": 3,
   "metadata": {},
   "outputs": [
    {
     "data": {
      "text/plain": [
       "([2, 5, 8], [-5])"
      ]
     },
     "execution_count": 3,
     "metadata": {},
     "output_type": "execute_result"
    }
   ],
   "source": [
    "def triples_middle(triples):\n",
    "    middle_list = []\n",
    "    for i in triples:\n",
    "        middle_list.append(i[1])\n",
    "    return middle_list\n",
    "triples_middle(triples(9)), triples_middle([[9, -5, 100]])"
   ]
  },
  {
   "cell_type": "markdown",
   "metadata": {},
   "source": [
    "Problem 1.3: This function takes a list of 3-element tuples and a direction equal to 'L' or 'R'. It rotates the elements in each tuple to the left or right."
   ]
  },
  {
   "cell_type": "code",
   "execution_count": 4,
   "metadata": {},
   "outputs": [
    {
     "data": {
      "text/plain": [
       "([(2, 3, 1), (5, 6, 4), (8, 9, 7)],\n",
       " [(3, 1, 2), (6, 4, 5), (9, 7, 8)],\n",
       " [(1, 2, 3), (4, 5, 6), (7, 8, 9)])"
      ]
     },
     "execution_count": 4,
     "metadata": {},
     "output_type": "execute_result"
    }
   ],
   "source": [
    "def triples_rotate(triples, direction):\n",
    "    if direction == \"L\":\n",
    "        for i in range(len(triples)):\n",
    "            triples[i] = triples[i][1:] + triples[i][:1]\n",
    "    elif direction == \"R\":\n",
    "        for i in range(len(triples)):\n",
    "            triples[i] = triples[i][2:] + triples[i][:2]\n",
    "    return triples\n",
    "triples_rotate(triples(9), \"L\"), triples_rotate(triples(9), \"R\"), triples_rotate(triples(9), \"LOL\")"
   ]
  },
  {
   "cell_type": "markdown",
   "metadata": {},
   "source": [
    "Problem 2: This function list mat in matrix form and a dimension 'R' or 'C'. It returns a list containing the sum of each row or the sum of each column, respectively."
   ]
  },
  {
   "cell_type": "code",
   "execution_count": 5,
   "metadata": {},
   "outputs": [
    {
     "data": {
      "text/plain": [
       "([-8, 4, 1], [9, -12])"
      ]
     },
     "execution_count": 5,
     "metadata": {},
     "output_type": "execute_result"
    }
   ],
   "source": [
    "def mat_sums(mat, dim):\n",
    "    sum_list = []\n",
    "    if dim == \"R\":\n",
    "        for i in mat:\n",
    "            sum_list.append(sum(i))\n",
    "    else:\n",
    "        sum_list = [0 for i in range(len(mat[0]))]\n",
    "        for i in range(len(mat)):\n",
    "            for j in range(len(mat[0])):\n",
    "                sum_list[j] += mat[i][j]\n",
    "    return sum_list\n",
    "        \n",
    "            \n",
    "mat_sums([[2, 3, 4], [-10, 1, -3]], 'C'), mat_sums([[2, 3, 4], [-10, 1, -3]], 'R')"
   ]
  },
  {
   "cell_type": "markdown",
   "metadata": {},
   "source": [
    "Problem 3: This function uses a while loop that finds the smallest positive integer with a digit sum greater than thresh."
   ]
  },
  {
   "cell_type": "code",
   "execution_count": 6,
   "metadata": {},
   "outputs": [
    {
     "data": {
      "text/plain": [
       "(49, 399)"
      ]
     },
     "execution_count": 6,
     "metadata": {},
     "output_type": "execute_result"
    }
   ],
   "source": [
    "def digit_sum(thresh):\n",
    "    max_list = []\n",
    "    test_num = 0\n",
    "    while len(max_list) < 1:\n",
    "        digit_sum = sum([int(i) for i in list(str(test_num))])\n",
    "        if digit_sum > thresh:\n",
    "            max_list.append(test_num)\n",
    "        test_num += 1\n",
    "    \n",
    "    return max_list[0]\n",
    "\n",
    "digit_sum(12), digit_sum(20)\n",
    "    "
   ]
  },
  {
   "cell_type": "markdown",
   "metadata": {},
   "source": [
    "Problem 4: This function returns a list of the first n perfect squares that end in the digit d."
   ]
  },
  {
   "cell_type": "code",
   "execution_count": null,
   "metadata": {},
   "outputs": [],
   "source": [
    "def squares_end(n, d):\n",
    "    square_list = []\n",
    "    digit = 0\n",
    "    while len(square_list) < n:\n",
    "        if int(str(digit) + str(d)) % m.sqrt(int(str(digit) + str(d))) == 0:\n",
    "            square_list.append(int(str(digit) + str(d)))\n",
    "        digit += 1\n",
    "    return square_list\n",
    "\n",
    "squares_end(4, 6), squares_end(4, 2)\n",
    "        "
   ]
  },
  {
   "cell_type": "markdown",
   "metadata": {},
   "source": [
    "Problem 5.1: This function uses random.choice to simulate a coin flip and returns the number of flips that are needed before nheads consecutive heads appear."
   ]
  },
  {
   "cell_type": "code",
   "execution_count": null,
   "metadata": {},
   "outputs": [],
   "source": [
    "def coin_heads(nheads):\n",
    "    flip_list = []\n",
    "    flipping = True\n",
    "    flip_count = 0\n",
    "    while flipping == True:\n",
    "        flip_list.append(r.choice([\"H\", \"T\"]))\n",
    "        flip_count += 1\n",
    "        consec_head_counter = 0\n",
    "        for i in flip_list:\n",
    "            if i == \"H\":\n",
    "                consec_head_counter += 1\n",
    "                if consec_head_counter == nheads:\n",
    "                    flipping = False\n",
    "            else:\n",
    "                consec_head_counter = 0\n",
    "    return flip_count\n",
    "\n",
    "coin_heads(2)"
   ]
  },
  {
   "cell_type": "markdown",
   "metadata": {},
   "source": [
    "Problem 5.2: This function calls coin_heads a total of nsim times and returns the average number of flips."
   ]
  },
  {
   "cell_type": "code",
   "execution_count": null,
   "metadata": {},
   "outputs": [],
   "source": [
    "def coin_heads_sim(nsim, nheads): #I need nheads too\n",
    "    flip_list = []\n",
    "    for i in range(nsim):\n",
    "        flip_list.append(coin_heads(nheads))\n",
    "    return sum(flip_list) / len(flip_list)\n",
    "\n",
    "coin_heads_sim(10000, 2), coin_heads_sim(10000, 3) #converges to 6 on two consecutive heads, 14 on 3 consecutive heads"
   ]
  },
  {
   "cell_type": "markdown",
   "metadata": {},
   "source": [
    "Problem 6.1: This function returns the number of rolls that are needed before all six numbers (1, 2, 3, 4, 5, 6) appear"
   ]
  },
  {
   "cell_type": "code",
   "execution_count": null,
   "metadata": {},
   "outputs": [],
   "source": [
    "def roll_die_all():\n",
    "    roll_list = []\n",
    "    rolling = True\n",
    "    roll_count = 0\n",
    "    while rolling == True:\n",
    "        roll_list.append(r.randint(1,6))\n",
    "        roll_count += 1\n",
    "        count1 = 0\n",
    "        count2 = 0\n",
    "        count3 = 0\n",
    "        count4 = 0\n",
    "        count5 = 0\n",
    "        count6 = 0\n",
    "        for i in roll_list:\n",
    "            if i == 1:\n",
    "                count1 += 1\n",
    "            elif i == 2:\n",
    "                count2 += 1\n",
    "            elif i == 3:\n",
    "                count3 += 1\n",
    "            elif i == 4:\n",
    "                count4 += 1\n",
    "            elif i == 5:\n",
    "                count5 += 1  \n",
    "            else:\n",
    "                count6 += 1    \n",
    "        if count1 > 0 and count2 > 0 and count3 > 0 and count4 > 0 and count5 > 0 and count6 > 0:\n",
    "            rolling = False\n",
    "    return roll_count\n",
    "\n",
    "roll_die_all()"
   ]
  },
  {
   "cell_type": "markdown",
   "metadata": {},
   "source": [
    "Problem 6.2: This function calls roll_die_all a total of nsim times and returns the average number of rolls."
   ]
  },
  {
   "cell_type": "code",
   "execution_count": null,
   "metadata": {},
   "outputs": [],
   "source": [
    "def roll_die_all_sim(nsim):\n",
    "    roll_list = []\n",
    "    for i in range(nsim):\n",
    "        roll_list.append(roll_die_all())\n",
    "    return sum(roll_list) / len(roll_list)\n",
    "\n",
    "roll_die_all_sim(10000) #converges to around 14.7"
   ]
  },
  {
   "cell_type": "markdown",
   "metadata": {},
   "source": [
    "Problem 7: approximates the value of  𝑛√  beginning with an initial guess of x0 and iterating until successive values of  𝑥𝑛  differ by less than tol. The function returns a tuple containing the square root value and the number of terms required."
   ]
  },
  {
   "cell_type": "code",
   "execution_count": null,
   "metadata": {},
   "outputs": [],
   "source": [
    "def approx_sqrt(n, x0, tol):\n",
    "    total = x0\n",
    "    term_counter = 0\n",
    "    term_list = [0]\n",
    "    looping = True\n",
    "    while looping == True:\n",
    "        guess = (1/2)*(total + (n / total))\n",
    "        total = guess\n",
    "        term_counter += 1\n",
    "        term_list.append(guess)\n",
    "        if abs(term_list[term_counter] - term_list[term_counter - 1]) < tol:\n",
    "            looping = False\n",
    "    return total, term_counter\n",
    "\n",
    "approx_sqrt(2, 1, 0.01), approx_sqrt(99999, 1, 1e-6)"
   ]
  },
  {
   "cell_type": "markdown",
   "metadata": {},
   "source": [
    "Problem 8.1: This function returns the value of the given pieceiwse function for positive integer  𝑎 ."
   ]
  },
  {
   "cell_type": "code",
   "execution_count": null,
   "metadata": {},
   "outputs": [],
   "source": [
    "def func(a):\n",
    "    if a % 2 == 0:\n",
    "        return int(a / 2)\n",
    "    else:\n",
    "        return int(1 + (3 * a))\n",
    "func(8)"
   ]
  },
  {
   "cell_type": "markdown",
   "metadata": {},
   "source": [
    "Problem 8.2: takes a positive integer  𝑎  and returns a list of the values generated by func until the number  1  is reached."
   ]
  },
  {
   "cell_type": "code",
   "execution_count": null,
   "metadata": {},
   "outputs": [],
   "source": [
    "def funcseq(a):\n",
    "    inpt = a\n",
    "    total = 0\n",
    "    func_list = [a]\n",
    "    index = 0\n",
    "    while func_list[index] != 1:\n",
    "        total = func(inpt)\n",
    "        func_list.append(total)\n",
    "        inpt = total\n",
    "        index += 1\n",
    "    return func_list\n",
    "\n",
    "funcseq(5), funcseq(13)"
   ]
  },
  {
   "cell_type": "markdown",
   "metadata": {},
   "source": [
    "Problem 8.3: funcseq for all  𝑎  from  1  to max_a and returns the value of  𝑎  that produces the longest sequence."
   ]
  },
  {
   "cell_type": "code",
   "execution_count": null,
   "metadata": {},
   "outputs": [],
   "source": [
    "def funcseq_longest(max_a):\n",
    "    seq_list = []\n",
    "    for i in range(1, max_a + 1):\n",
    "        seq_list.append(funcseq(i))\n",
    "    len_list = []\n",
    "    for i in seq_list:\n",
    "        len_list.append(len(i))\n",
    "    return len_list.index(max(len_list)) + 1\n",
    "\n",
    "funcseq_longest(5), funcseq_longest(100)"
   ]
  },
  {
   "cell_type": "markdown",
   "metadata": {},
   "source": [
    "Challenge Problem: This function uses Euclid's formula to return a list of Pythagorean triples  (𝑎,𝑏,𝑐)  with  𝑎<𝑏<𝑐  and  0<𝑚≤  max_m."
   ]
  },
  {
   "cell_type": "code",
   "execution_count": null,
   "metadata": {},
   "outputs": [],
   "source": [
    "def pyth_triples(max_m):\n",
    "    a_list = []\n",
    "    for m in range(max_m + 1):\n",
    "        for n in range(1, m):\n",
    "            a = m**2 - n**2\n",
    "            b = 2 * m * n\n",
    "            c = m**2 + n**2\n",
    "            a_list.append(sorted([a, b, c]))\n",
    "    return sorted(a_list)\n",
    "\n",
    "pyth_triples(5)"
   ]
  },
  {
   "cell_type": "code",
   "execution_count": null,
   "metadata": {},
   "outputs": [],
   "source": [
    "    total = x0\n",
    "    while looping == True:\n",
    "        guess = (1/2)*(total + (n / total))\n",
    "        total = guess"
   ]
  }
 ],
 "metadata": {
  "kernelspec": {
   "display_name": "Python 3",
   "language": "python",
   "name": "python3"
  },
  "language_info": {
   "codemirror_mode": {
    "name": "ipython",
    "version": 3
   },
   "file_extension": ".py",
   "mimetype": "text/x-python",
   "name": "python",
   "nbconvert_exporter": "python",
   "pygments_lexer": "ipython3",
   "version": "3.6.5"
  }
 },
 "nbformat": 4,
 "nbformat_minor": 2
}
