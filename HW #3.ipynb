{
 "cells": [
  {
   "cell_type": "markdown",
   "metadata": {},
   "source": [
    "### Python for Math and Stat: Homework 3 (by Ethan Schacht)"
   ]
  },
  {
   "cell_type": "code",
   "execution_count": 2,
   "metadata": {},
   "outputs": [],
   "source": [
    "import math as m\n",
    "import turtle\n",
    "t = turtle.Turtle()"
   ]
  },
  {
   "cell_type": "markdown",
   "metadata": {},
   "source": [
    "Problem 1: This function calculates the sum of the first n odd integers"
   ]
  },
  {
   "cell_type": "code",
   "execution_count": 19,
   "metadata": {},
   "outputs": [
    {
     "data": {
      "text/plain": [
       "(36, 100, 0)"
      ]
     },
     "execution_count": 19,
     "metadata": {},
     "output_type": "execute_result"
    }
   ],
   "source": [
    "def sum_odd(n):\n",
    "    odd_sum = 0\n",
    "    rnge = n * 2 #We must multiply by two to get our range...\n",
    "    for i in range(rnge):\n",
    "        if i % 2 != 0: #and then take only the odd nums in that range when we add them\n",
    "            odd_sum += i #increment count\n",
    "    return odd_sum\n",
    "sum_odd(6), sum_odd(10), sum_odd(0)"
   ]
  },
  {
   "cell_type": "markdown",
   "metadata": {},
   "source": [
    "Problem 2: This function estimates the value of pi by summing the first nterms terms of the series"
   ]
  },
  {
   "cell_type": "code",
   "execution_count": 1,
   "metadata": {},
   "outputs": [
    {
     "data": {
      "text/plain": [
       "[0.0,\n",
       " 4.0,\n",
       " 2.666667,\n",
       " 3.466667,\n",
       " 2.895238,\n",
       " 3.339683,\n",
       " 2.976046,\n",
       " 3.283738,\n",
       " 3.017072,\n",
       " 3.252366]"
      ]
     },
     "execution_count": 1,
     "metadata": {},
     "output_type": "execute_result"
    }
   ],
   "source": [
    "def pi_series(nterms):\n",
    "    pi_approx = 0\n",
    "    for i in range(nterms + 1): #we must add 1 to the range because we are including the last term in approx\n",
    "        pi_approx += ((-1)**(i - 1)) / (2*i - 1) #formula to approximate pi / 4\n",
    "    return round(4 * pi_approx - 4, 6) #multiply by 4 and subtract 4 to account for the nterms + 1\n",
    "def pi_series_tester(approxs):\n",
    "    approx_list = []\n",
    "    for i in range(approxs): #tester function to see our series converge at pi\n",
    "        approx_list.append(pi_series(i))\n",
    "    return approx_list\n",
    "pi_series_tester(10)"
   ]
  },
  {
   "cell_type": "markdown",
   "metadata": {},
   "source": [
    "Problem 3: This function returns a list of all the string lengths in the list"
   ]
  },
  {
   "cell_type": "code",
   "execution_count": 34,
   "metadata": {},
   "outputs": [
    {
     "data": {
      "text/plain": [
       "([], [3, 7, 0, 6])"
      ]
     },
     "execution_count": 34,
     "metadata": {},
     "output_type": "execute_result"
    }
   ],
   "source": [
    "def string_lens(strings):\n",
    "    lengths_list = []\n",
    "    for i in range(len(strings)): #range 0 to 3 (not including 3) will be used for indexes to append to new list\n",
    "        lengths_list.append(len(strings[i])) #the length of every string in the list is what must be appended\n",
    "    return lengths_list\n",
    "string_lens([]), string_lens(['tom', 'marvolo', '', 'riddle'])\n"
   ]
  },
  {
   "cell_type": "markdown",
   "metadata": {},
   "source": [
    "Problem 4: This function returns a list of bools depending on if the numbers in the list are even"
   ]
  },
  {
   "cell_type": "code",
   "execution_count": 36,
   "metadata": {},
   "outputs": [
    {
     "data": {
      "text/plain": [
       "([False, False, True], [])"
      ]
     },
     "execution_count": 36,
     "metadata": {},
     "output_type": "execute_result"
    }
   ],
   "source": [
    "def is_even_list(nums):\n",
    "    bool_list = []\n",
    "    for i in nums:\n",
    "        if i % 2 == 0:\n",
    "            bool_list.append(True) #append True for each even element, false for each odd element \n",
    "        else:\n",
    "            bool_list.append(False)\n",
    "    return bool_list\n",
    "is_even_list([7, 11, 2020]), is_even_list([])"
   ]
  },
  {
   "cell_type": "markdown",
   "metadata": {},
   "source": [
    "Problem 5: This function creates a new list, adding n to the n'th element of the list"
   ]
  },
  {
   "cell_type": "code",
   "execution_count": 3,
   "metadata": {},
   "outputs": [
    {
     "data": {
      "text/plain": [
       "[-2, 12.5, 103]"
      ]
     },
     "execution_count": 3,
     "metadata": {},
     "output_type": "execute_result"
    }
   ],
   "source": [
    "def add_n(nums):\n",
    "    added_list = []\n",
    "    for i in range(len(nums)):\n",
    "        added_list.append(i + 1 + nums[i]) #since the 1st index is 0, we must add an extra 1 to each element\n",
    "    return added_list\n",
    "lst = [-3, 10.5, 100]\n",
    "add_n(lst)"
   ]
  },
  {
   "cell_type": "code",
   "execution_count": 4,
   "metadata": {},
   "outputs": [
    {
     "name": "stdout",
     "output_type": "stream",
     "text": [
      "[-3, 10.5, 100]\n"
     ]
    }
   ],
   "source": [
    "print(lst)"
   ]
  },
  {
   "cell_type": "markdown",
   "metadata": {},
   "source": [
    "Problem 6.1: This function draws a turtle pen isosoles triangle with a given leg length"
   ]
  },
  {
   "cell_type": "code",
   "execution_count": 24,
   "metadata": {},
   "outputs": [],
   "source": [
    "t.reset()\n",
    "def isos_right_tri(t, leglen):\n",
    "    \n",
    "    t.fillcolor('black')\n",
    "    t.begin_fill()\n",
    "     \n",
    "    t.forward(leglen)\n",
    "    t.right(90)\n",
    "    \n",
    "    t.forward(leglen)\n",
    "    t.right(135)\n",
    "    \n",
    "    t.forward(m.sqrt(2 * leglen ** 2))\n",
    "    t.end_fill()\n",
    "\n",
    "isos_right_tri(t, 100)"
   ]
  },
  {
   "cell_type": "markdown",
   "metadata": {},
   "source": [
    "Problem 6.2: This function draws 2 rows of isosoles triangles with 'n' triangles in each row"
   ]
  },
  {
   "cell_type": "code",
   "execution_count": 25,
   "metadata": {},
   "outputs": [],
   "source": [
    "t.reset()\n",
    "def triangle_2rows(t, leglen, n):\n",
    "    for i in range(n):\n",
    "        isos_right_tri(t, leglen)\n",
    "        t.right(135)\n",
    "        t.forward(leglen)\n",
    "    t.right(90)\n",
    "    t.penup()\n",
    "    t.forward(2 * leglen)\n",
    "    t.pendown()\n",
    "    t.right(90)\n",
    "    for i in range(n):\n",
    "        isos_right_tri(t, leglen)\n",
    "        t.right(135)\n",
    "        t.forward(leglen)\n",
    "    \n",
    "triangle_2rows(t, 30, 5)"
   ]
  },
  {
   "cell_type": "markdown",
   "metadata": {},
   "source": [
    "Challenge Problem: This function displays filled triangular sectors of a regular n-gon with the given radius"
   ]
  },
  {
   "cell_type": "code",
   "execution_count": 42,
   "metadata": {},
   "outputs": [],
   "source": [
    "t.reset()\n",
    "def polygon_sectors(t, radius, n):\n",
    "    angle = 180 - (360 / n)\n",
    "    t.left(90)\n",
    "    for i in range(n):\n",
    "        t.forward(radius)\n",
    "        t.left(180)\n",
    "        t.penup()\n",
    "        t.forward(radius)\n",
    "        t.pendown()\n",
    "        t.left(angle)\n",
    "        \n",
    "    t.forward(radius)\n",
    "    t.right((180 - angle / 2))\n",
    "    t.fillcolor('red')\n",
    "    t.begin_fill()\n",
    "    \n",
    "    for i in range(n):\n",
    "        t.forward(2 * radius * m.sin(m.radians(360 / n / 2))) #formula for the base of each triangle using trig\n",
    "        t.right(180 - angle)\n",
    "        \n",
    "    t.end_fill()\n",
    "        \n",
    "\n",
    "polygon_sectors(t, 100, 13)"
   ]
  }
 ],
 "metadata": {
  "kernelspec": {
   "display_name": "Python 3",
   "language": "python",
   "name": "python3"
  },
  "language_info": {
   "codemirror_mode": {
    "name": "ipython",
    "version": 3
   },
   "file_extension": ".py",
   "mimetype": "text/x-python",
   "name": "python",
   "nbconvert_exporter": "python",
   "pygments_lexer": "ipython3",
   "version": "3.6.5"
  }
 },
 "nbformat": 4,
 "nbformat_minor": 2
}
