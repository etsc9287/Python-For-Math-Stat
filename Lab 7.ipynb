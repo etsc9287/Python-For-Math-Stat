{
 "cells": [
  {
   "cell_type": "markdown",
   "metadata": {},
   "source": [
    "# Lab 7"
   ]
  },
  {
   "cell_type": "markdown",
   "metadata": {},
   "source": [
    "### Ordinals\n",
    "*Use a dictionary* to write a function **`ordinal(n)`** that takes an integer from 1 to 5 and returns its corresponding ordinal number.\n",
    "\n",
    "Examples:  \n",
    "`ordinal(1)` returns `'first'`.  \n",
    "`ordinal(2)` returns `'second'`.  \n",
    "`ordinal(5)` returns `'fifth'`.  "
   ]
  },
  {
   "cell_type": "code",
   "execution_count": 1,
   "metadata": {},
   "outputs": [
    {
     "data": {
      "text/plain": [
       "('first', 'fourth')"
      ]
     },
     "execution_count": 1,
     "metadata": {},
     "output_type": "execute_result"
    }
   ],
   "source": [
    "def ordinal(n):\n",
    "    ord_dict = {1: \"first\", 2: \"second\", 3: \"third\", 4: \"fourth\", 5: \"fifth\"}\n",
    "    return ord_dict[n]\n",
    "ordinal(1), ordinal(4)"
   ]
  },
  {
   "cell_type": "markdown",
   "metadata": {},
   "source": [
    "Write a function **`day_of_christmas(n)`** that takes an integer from 1 to 5 and returns the first phrase of the song *Twelve Days of Christmas* in string format. It should call `ordinal`. (It is not necessary to handle all 12 days.)\n",
    "\n",
    "Examples:  \n",
    "`day_of_christmas(4)` returns `'On the fourth day of Christmas'`.  \n",
    "`len(day_of_christmas(4))` returns `30`."
   ]
  },
  {
   "cell_type": "code",
   "execution_count": 2,
   "metadata": {},
   "outputs": [
    {
     "data": {
      "text/plain": [
       "('On the the third day of Christmas', 34)"
      ]
     },
     "execution_count": 2,
     "metadata": {},
     "output_type": "execute_result"
    }
   ],
   "source": [
    "def day_of_christmas(n):\n",
    "    return \"On the the \" + ordinal(n) + \" day of Christmas\"\n",
    "day_of_christmas(3), len(day_of_christmas(4))"
   ]
  },
  {
   "cell_type": "markdown",
   "metadata": {},
   "source": [
    "### Scrabble\n",
    "<img src=\"https://spot.colorado.edu/~sschang/python/zen.jpg\" width=\"135\" height=\"58\" />\n",
    "\n",
    "In the game of Scrabble, each letter of the alphabet is given a different point value based on the frequency of the letter in the English language. For example the word ZEN is worth 10+1+1 = 12 points.\n",
    "\n",
    "The dictionary called **`pts`** listed below contains the point values for all of the letters that have point values greater than one. It is missing the remaining letters (A, E, etc.) which are worth 1 point each. Write code to fill in the point values for the remaining letters. Use `alphabet`.\n",
    "\n",
    "```\n",
    "pts = {'B': 3, 'C': 3, 'D': 2, 'F': 4, 'G': 2, 'H': 4, 'J': 8, 'K': 5, 'M': 3, 'P': 3, 'Q': 10, 'V': 4, 'W': 4, 'X': 8, 'Y': 4, 'Z': 10}\n",
    "\n",
    "alphabet = 'ABCDEFGHIJKLMNOPQRSTUVWXYZ'\n",
    "```"
   ]
  },
  {
   "cell_type": "markdown",
   "metadata": {},
   "source": [
    "Next write a function **`scrabble(pts, word)`** that takes a dictionary of point values and returns the total point value for a given word. You may assume that `word` is in string format and contains only letters but not necessarily in upper case.\n",
    "\n",
    "Examples:  \n",
    "`scrabble(pts, 'zen')` returns 12.  \n",
    "`scrabble(pts, 'CUBoulder')` returns 14."
   ]
  },
  {
   "cell_type": "code",
   "execution_count": 4,
   "metadata": {},
   "outputs": [
    {
     "data": {
      "text/plain": [
       "{'B': 3,\n",
       " 'C': 3,\n",
       " 'D': 2,\n",
       " 'F': 4,\n",
       " 'G': 2,\n",
       " 'H': 4,\n",
       " 'J': 8,\n",
       " 'K': 5,\n",
       " 'M': 3,\n",
       " 'P': 3,\n",
       " 'Q': 10,\n",
       " 'V': 4,\n",
       " 'W': 4,\n",
       " 'X': 8,\n",
       " 'Y': 4,\n",
       " 'Z': 10,\n",
       " 'A': 1,\n",
       " 'E': 1,\n",
       " 'I': 1,\n",
       " 'L': 1,\n",
       " 'N': 1,\n",
       " 'O': 1,\n",
       " 'R': 1,\n",
       " 'S': 1,\n",
       " 'T': 1,\n",
       " 'U': 1}"
      ]
     },
     "execution_count": 4,
     "metadata": {},
     "output_type": "execute_result"
    }
   ],
   "source": [
    "pts = {'B': 3, 'C': 3, 'D': 2, 'F': 4, 'G': 2, 'H': 4, 'J': 8, 'K': 5, 'M': 3, 'P': 3, 'Q': 10, 'V': 4, 'W': 4, 'X': 8, 'Y': 4, 'Z': 10}\n",
    "alphabet = 'ABCDEFGHIJKLMNOPQRSTUVWXYZ'\n",
    "for elt in alphabet:\n",
    "    if elt not in pts:\n",
    "        pts[elt] = 1\n",
    "pts"
   ]
  },
  {
   "cell_type": "code",
   "execution_count": 5,
   "metadata": {},
   "outputs": [
    {
     "data": {
      "text/plain": [
       "12"
      ]
     },
     "execution_count": 5,
     "metadata": {},
     "output_type": "execute_result"
    }
   ],
   "source": [
    "def scrabble(pts, word):\n",
    "    word = word.upper()\n",
    "    points = 0\n",
    "    for i in word:\n",
    "        points += pts[i]\n",
    "    return points\n",
    "scrabble(pts, \"zen\")"
   ]
  },
  {
   "cell_type": "markdown",
   "metadata": {},
   "source": [
    "### Anagrams"
   ]
  },
  {
   "cell_type": "markdown",
   "metadata": {},
   "source": [
    "Two words are anagrams if they contain exactly the same letters but in a different order. Write a function **`anagrams(word1, word2)`** that returns `True` if the given words are anagrams. \n",
    "\n",
    "*Hint:* The function `sorted` works for strings as well as lists.\n",
    "\n",
    "Examples:  \n",
    "`anagrams('deaR', 'Dare')` returns `True`.  \n",
    "`anagrams('deer', 'red')` returns `False`.  \n",
    "`anagrams('deer', 'deer')` returns `False`.  "
   ]
  },
  {
   "cell_type": "code",
   "execution_count": 12,
   "metadata": {},
   "outputs": [
    {
     "data": {
      "text/plain": [
       "(False, True)"
      ]
     },
     "execution_count": 12,
     "metadata": {},
     "output_type": "execute_result"
    }
   ],
   "source": [
    "def anagrams(word1, word2):\n",
    "    word1 = word1.lower()\n",
    "    word2 = word2.lower()\n",
    "    \n",
    "    sorted1 = sorted(word1)\n",
    "    sorted2 = sorted(word2)\n",
    "    \n",
    "    if sorted1 == sorted2 and word1 != word2:\n",
    "        return True\n",
    "    else:\n",
    "        return False\n",
    "\n",
    "anagrams(\"pig\", \"pig\"), anagrams(\"pig\", \"ipg\")"
   ]
  },
  {
   "cell_type": "markdown",
   "metadata": {},
   "source": [
    "Write a function **`find_anagrams(wordlist, word)`** that searches a word list and returns a list of the anagrams of the given word. It should call `anagrams`. Assume that `wordlist` and `word` are in lower case string format.\n",
    "\n",
    "Example: Given the word list\n",
    "```\n",
    "words = ['alerting', 'altering', 'integral', 'least', 'pares', 'parse', 'pears', 'post', 'pots', 'reaps', 'relating', 'skate', 'slate', 'spare', 'spear', 'spot', 'stake', 'stale', 'steak', 'steal', 'stop', 'takes', 'tales', 'teals', 'tops', 'triangle']\n",
    "```\n",
    "The function call `find_anagrams(words, 'spot')` returns `['post', 'pots', 'stop', 'tops']`."
   ]
  },
  {
   "cell_type": "markdown",
   "metadata": {},
   "source": [
    "## Extra Problem\n",
    "### Pig Latin\n",
    "*Pig Latin* is a language where the first consonants of an English word are moved to the end of the word and 'ay' is added.  For example, 'math' is 'athmay' in Pig Latin.\n",
    "\n",
    "Write a function **`pig_latin(words)`** that takes a string of words and converts it to Pig Latin.  Here are the rules:\n",
    "\n",
    "* Words that begin with a consonant have all the consonant letters up to the first vowel (a,e,i,o,u,y) moved to the end of the word and 'ay' is appended. For example 'stop' $\\rightarrow$  'opstay', 'yellow' $\\rightarrow$ 'ellowyay', and 'python' $\\rightarrow$ 'ythonpay'. Note the special case for words beginning with 'qu':  'question' $\\rightarrow$ 'estionquay'. \n",
    "* Words that begin with a vowel (a, e, i, o, u) simply have 'way' appended to the end of the word. For example, 'apple' becomes 'appleway'.\n",
    "\n",
    "You may assume that `words` is a string containing upper case words separated by whitespace, with no other characters included.\n",
    "\n",
    "Example:  \n",
    "`pig_latin('OSCAR PLEASE QUIT YOUR JOB')` returns 'OSCARWAY EASEPLAY ITQUAY OURYAY OBJAY'.\n",
    "\n"
   ]
  }
 ],
 "metadata": {
  "kernelspec": {
   "display_name": "Python 3",
   "language": "python",
   "name": "python3"
  },
  "language_info": {
   "codemirror_mode": {
    "name": "ipython",
    "version": 3
   },
   "file_extension": ".py",
   "mimetype": "text/x-python",
   "name": "python",
   "nbconvert_exporter": "python",
   "pygments_lexer": "ipython3",
   "version": "3.6.5"
  }
 },
 "nbformat": 4,
 "nbformat_minor": 2
}
