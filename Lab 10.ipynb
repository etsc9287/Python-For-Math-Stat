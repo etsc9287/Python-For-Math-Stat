{
 "cells": [
  {
   "cell_type": "markdown",
   "metadata": {},
   "source": [
    "# Lab 10"
   ]
  },
  {
   "cell_type": "markdown",
   "metadata": {},
   "source": [
    "### Rock Paper Scissors\n",
    "\n",
    "In the rock-paper-scissors game, two people simultaneously choose one of the three items. The winner is chosen by this rule: rock blunts scissors, scissors cut paper, and paper covers rock. \n",
    "\n",
    "This exercise will simulate the game with the user playing against the computer. Each round will produce a result of `'w'`, `'l'`, or `'t'`, corresponding to a user win, user loss, or tie, respectively. Here is a sample transcript:\n",
    "```\n",
    "Rock(r), paper(p), or scissors(s)? r  \n",
    "Computer's choice is scissors. \n",
    "You win this round.  \n",
    "\n",
    "Rock(r), paper(p), or scissors(s)? p  \n",
    "Computer's choice is paper. \n",
    "We tied this round. \n",
    "\n",
    "Rock(r), paper(p), or scissors(s)? r  \n",
    "Computer's choice is paper.\n",
    "Computer wins this round.  \n",
    "\n",
    "Rock(r), paper(p), or scissors(s)? r  \n",
    "Computer's choice is scissors. \n",
    "You win this round.\n",
    "\n",
    "You win the game!\n",
    "```"
   ]
  },
  {
   "cell_type": "markdown",
   "metadata": {},
   "source": [
    "#### Create Dictionaries\n",
    "First create the following **dictionaries** to be used later.\n",
    "* A dictionary that matches each item to the item it beats: `{'r': 's', ...}`.\n",
    "\n",
    "* A dictionary that matches each item letter (`'r'`, `'p'`, `'s'`) to its full name: `{'r': 'rock', ...}`.\n",
    "\n",
    "* A dictionary that matches each result to an appropriate message:  \n",
    "`{'w': 'You win this round.', ...}`."
   ]
  },
  {
   "cell_type": "code",
   "execution_count": 1,
   "metadata": {},
   "outputs": [],
   "source": [
    "dict1 = {\"r\": \"s\", \"s\": \"p\", \"p\": \"r\"}\n",
    "dict2 = {\"r\": \"rock\", \"s\": \"scissors\", \"p\": \"paper\"}\n",
    "dict3 = {\"w\": \"You win this round.\", \"l\": \"Computer wins this round.\", \"t\": \"We tied this round.\"}\n",
    "\n",
    "# See last part.  I accdientally made whole game before realizing to do this in steps."
   ]
  },
  {
   "cell_type": "markdown",
   "metadata": {},
   "source": [
    "#### Prompt the User for Input\n",
    "Write a function **`rps_prompt()`** that prompts the user for input and returns 'r', 'p', or 's', corresponding to the user's entry. If the user enters any other character, display 'Your input is invalid.' and ask again.\n",
    "\n",
    "Examples:  \n",
    "A `rps_prompt()` transcript might look like:\n",
    "```\n",
    "Rock(r), paper(p), or scissors(s)? 5\n",
    "Your input is invalid.\n",
    "Rock(r), paper(p), or scissors(s)? t\n",
    "Your input is invalid.\n",
    "Rock(r), paper(p), or scissors(s)? s\n",
    "```\n",
    "and returns `'s'`."
   ]
  },
  {
   "cell_type": "code",
   "execution_count": null,
   "metadata": {},
   "outputs": [],
   "source": []
  },
  {
   "cell_type": "markdown",
   "metadata": {},
   "source": [
    "#### Determine Who Wins\n",
    "Write a function **`rps_result(user_item, comp_item)`** that takes the user's item and the computer's item, and returns 'w', 'l', or 't', corresponding to a user win, user loss, or a tie. Use the first dictionary that you created."
   ]
  },
  {
   "cell_type": "markdown",
   "metadata": {},
   "source": [
    "#### Simulate a Round\n",
    "Write a function **`rps_round()`** that simulates one round of the game. The function \n",
    "* randomly selects the computer's item: 'r', 'p', or 's'\n",
    "* prompts the user for input\n",
    "* displays the computer's item using the second dictionary that you created\n",
    "* displays the result of the round using the third dictionary that you created\n",
    "* returns 'w', 'l', or 't', corresponding to a user win, a user loss, or a tie.\n",
    "\n",
    "It should call `rps_prompt()` and `rps_result()`.\n",
    "\n",
    "Example:  \n",
    "A `rps_round()` transcript might look like:\n",
    "```\n",
    "Rock(r), paper(p), or scissors(s)? s\n",
    "Computer's choice is rock.\n",
    "Computer wins this round.\n",
    "```\n",
    "and returns `'l'` corresponding to a user loss."
   ]
  },
  {
   "cell_type": "markdown",
   "metadata": {},
   "source": [
    "#### Simulate a Game\n",
    "Write a function **`rock_paper_scissors(nwins)`** that simulates the game and ends when one of the players reaches `nwins` wins. It should call `rps_round()`. See the sample transcript at the beginning of the exercise."
   ]
  },
  {
   "cell_type": "code",
   "execution_count": 2,
   "metadata": {},
   "outputs": [
    {
     "name": "stdout",
     "output_type": "stream",
     "text": [
      "Rock(r), paper(p), or scissors(s)? s\n",
      "Computer's choice is  s\n",
      "We tied this round.\n",
      "\n",
      "Rock(r), paper(p), or scissors(s)? q\n",
      "\n",
      "Invalid input.  Choose again (r, p, or s).\n",
      "Rock(r), paper(p), or scissors(s)? s\n",
      "Computer's choice is  p\n",
      "You win this round.\n",
      "\n",
      "Rock(r), paper(p), or scissors(s)? s\n",
      "Computer's choice is  r\n",
      "Computer wins this round.\n",
      "\n",
      "Rock(r), paper(p), or scissors(s)? s\n",
      "Computer's choice is  s\n",
      "We tied this round.\n",
      "\n",
      "Rock(r), paper(p), or scissors(s)? s\n",
      "Computer's choice is  s\n",
      "We tied this round.\n",
      "\n",
      "Rock(r), paper(p), or scissors(s)? s\n",
      "Computer's choice is  r\n",
      "Computer wins this round.\n",
      "\n",
      "Rock(r), paper(p), or scissors(s)? s\n",
      "Computer's choice is  s\n",
      "We tied this round.\n",
      "\n",
      "Rock(r), paper(p), or scissors(s)? p\n",
      "Computer's choice is  p\n",
      "We tied this round.\n",
      "\n",
      "Rock(r), paper(p), or scissors(s)? r\n",
      "Computer's choice is  s\n",
      "You win this round.\n",
      "\n",
      "Rock(r), paper(p), or scissors(s)? p\n",
      "Computer's choice is  p\n",
      "We tied this round.\n",
      "\n",
      "Rock(r), paper(p), or scissors(s)? s\n",
      "Computer's choice is  s\n",
      "We tied this round.\n",
      "\n",
      "Rock(r), paper(p), or scissors(s)? r\n",
      "Computer's choice is  p\n",
      "Computer wins this round.\n",
      "\n",
      "Computer wins the game!\n"
     ]
    }
   ],
   "source": [
    "import random as r\n",
    "\n",
    "def rock_paper_scissors(nwins):\n",
    "    user_win = 0\n",
    "    comp_win = 0\n",
    "    while user_win < nwins and comp_win < nwins:\n",
    "        user_choice = input(\"Rock(r), paper(p), or scissors(s)? \")\n",
    "        if user_choice not in [\"r\", \"p\", \"s\"]:\n",
    "            print(\"\")\n",
    "            print(\"Invalid input.  Choose again (r, p, or s).\")\n",
    "            continue;\n",
    "        comp_choice = r.choice([\"r\", \"p\", \"s\"])\n",
    "        print(\"Computer's choice is \", comp_choice)\n",
    "        if user_choice == comp_choice:\n",
    "            print(\"We tied this round.\")\n",
    "        elif (user_choice == \"r\" and comp_choice == \"s\") or (user_choice == \"s\" and comp_choice == \"p\") or (user_choice == \"p\" and comp_choice == \"r\"):\n",
    "            print(\"You win this round.\")\n",
    "            user_win += 1\n",
    "        else:\n",
    "            print(\"Computer wins this round.\")\n",
    "            comp_win += 1\n",
    "        print(\"\")\n",
    "    if user_win == nwins:\n",
    "        print(\"You win the game!\")\n",
    "    else:\n",
    "        print(\"Computer wins the game!\")\n",
    "        \n",
    "rock_paper_scissors(3)"
   ]
  },
  {
   "cell_type": "markdown",
   "metadata": {},
   "source": [
    "## Extra Problem"
   ]
  },
  {
   "cell_type": "markdown",
   "metadata": {},
   "source": [
    "### Rock Paper Scissors Lizard Spock\n",
    "An [extension of the traditional game](http://www.samkass.com/theories/RPSSL.html) adds two more items: Lizard and Spock. Lizard poisons Spock and eats paper; it is crushed by rock and decapitated by scissors. Spock smashes scissors and vaporizes rock; he is poisoned by lizard and disproved by paper. This variation of the game was mentioned on the TV show *The Big Bang Theory* in 2008.\n",
    "\n",
    "Create a simulation of this version of the game.\n",
    "\n",
    "<img src=\"https://spot.colorado.edu/~sschang/python/rps-lizard-spock.png\" width=\"428\" height=\"440\" title=\"https://commons.wikimedia.org/w/index.php?curid=13241299\" />"
   ]
  }
 ],
 "metadata": {
  "kernelspec": {
   "display_name": "Python 3",
   "language": "python",
   "name": "python3"
  },
  "language_info": {
   "codemirror_mode": {
    "name": "ipython",
    "version": 3
   },
   "file_extension": ".py",
   "mimetype": "text/x-python",
   "name": "python",
   "nbconvert_exporter": "python",
   "pygments_lexer": "ipython3",
   "version": "3.6.5"
  }
 },
 "nbformat": 4,
 "nbformat_minor": 2
}
