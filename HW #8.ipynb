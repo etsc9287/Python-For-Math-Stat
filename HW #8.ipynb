{
 "cells": [
  {
   "cell_type": "markdown",
   "metadata": {},
   "source": [
    "### Python For Math and Stat: Homework #8 by Ethan Schacht"
   ]
  },
  {
   "cell_type": "code",
   "execution_count": 88,
   "metadata": {},
   "outputs": [],
   "source": [
    "import numpy as np\n",
    "import math as m\n",
    "import matplotlib.pyplot as plt\n",
    "import random as r"
   ]
  },
  {
   "cell_type": "markdown",
   "metadata": {},
   "source": [
    "Problem 1: This recursive function finds the sum of the first n cubes."
   ]
  },
  {
   "cell_type": "code",
   "execution_count": 2,
   "metadata": {},
   "outputs": [
    {
     "data": {
      "text/plain": [
       "105625"
      ]
     },
     "execution_count": 2,
     "metadata": {},
     "output_type": "execute_result"
    }
   ],
   "source": [
    "def sum_cubes(n):\n",
    "    if n == 0:\n",
    "        return 0\n",
    "    \n",
    "    return sum_cubes(n-1) + n**3\n",
    "\n",
    "sum_cubes(25)"
   ]
  },
  {
   "cell_type": "markdown",
   "metadata": {},
   "source": [
    "Problem 2: This recursive function returns the first palindrome that is greater than or equal to start"
   ]
  },
  {
   "cell_type": "code",
   "execution_count": 7,
   "metadata": {},
   "outputs": [
    {
     "data": {
      "text/plain": [
       "(26062, 12321)"
      ]
     },
     "execution_count": 7,
     "metadata": {},
     "output_type": "execute_result"
    }
   ],
   "source": [
    "def first_palindrome(start):\n",
    "    \n",
    "    str_num = str(start)\n",
    "    if str_num == str_num[::-1]:\n",
    "        return start\n",
    "    \n",
    "    return first_palindrome(start+1)\n",
    "\n",
    "first_palindrome(25973), first_palindrome(12321) "
   ]
  },
  {
   "cell_type": "markdown",
   "metadata": {},
   "source": [
    "Problem 3: This function takes an array and returns a tuple containing attributes of the array"
   ]
  },
  {
   "cell_type": "code",
   "execution_count": 27,
   "metadata": {},
   "outputs": [
    {
     "data": {
      "text/plain": [
       "(2, (5, 2), 10, dtype('int64'))"
      ]
     },
     "execution_count": 27,
     "metadata": {},
     "output_type": "execute_result"
    }
   ],
   "source": [
    "def array_attrib(arr):\n",
    "    \n",
    "    arr = np.array(arr)\n",
    "    \n",
    "    dimensions = arr.ndim\n",
    "    shape = arr.shape\n",
    "    length = len(arr.flatten())\n",
    "    d_type = arr.dtype\n",
    "    \n",
    "    return (dimensions, shape, length, d_type)\n",
    "\n",
    "a = np.array(range(10)).reshape(5, 2)\n",
    "array_attrib(a)"
   ]
  },
  {
   "cell_type": "markdown",
   "metadata": {},
   "source": [
    "Problem 4: This function takes an array of numbers and returns a tuple containing the following:\n",
    "\n",
    "* largest element\n",
    "* smallest element\n",
    "* sum of the elements\n",
    "* product of the elements\n",
    "* mean of the elements\n",
    "* median of the elements"
   ]
  },
  {
   "cell_type": "code",
   "execution_count": 32,
   "metadata": {},
   "outputs": [
    {
     "data": {
      "text/plain": [
       "(82, 1, 295, 435834100000, 29.5, 21.5)"
      ]
     },
     "execution_count": 32,
     "metadata": {},
     "output_type": "execute_result"
    }
   ],
   "source": [
    "def array_stats(arr):\n",
    "    \n",
    "    nums = arr.flatten()\n",
    "    return (max(nums), min(nums), sum(nums), np.product(nums), np.mean(nums), np.median(nums))\n",
    "\n",
    "b = a**2 + 1\n",
    "array_stats(b)"
   ]
  },
  {
   "cell_type": "markdown",
   "metadata": {},
   "source": [
    "Problem 5: This function takes a two-dimensional numpy array as input. If the number of columns is odd, the function returns the middle column. If the number of columns is even, the function returns the average of the two middle columns."
   ]
  },
  {
   "cell_type": "code",
   "execution_count": 41,
   "metadata": {},
   "outputs": [
    {
     "data": {
      "text/plain": [
       "(array([0.5, 2.5, 4.5, 6.5, 8.5]), array([ 5, 50]))"
      ]
     },
     "execution_count": 41,
     "metadata": {},
     "output_type": "execute_result"
    }
   ],
   "source": [
    "def array_middle(arr):\n",
    "    median_list = []\n",
    "    for i in arr:\n",
    "        if len(i) % 2 == 1:\n",
    "            median_list.append(i[len(i) // 2])\n",
    "        else:\n",
    "            median_list.append((i[len(i) // 2] + i[(len(i) // 2) - 1]) / 2)\n",
    "    return np.array(median_list)\n",
    "\n",
    "array_middle(a), array_middle(b.reshape(2, 5))"
   ]
  },
  {
   "cell_type": "markdown",
   "metadata": {},
   "source": [
    "Problem 6: This problem creates the following arrays:\n",
    "\n",
    "* xvals: contains 100 equally spaced partition points on the interval  [−2𝜋,2𝜋] \n",
    "* cosvals: the result from applying the cosine function to xvals.\n",
    "* t2vals: the result from applying the function  𝑇2  to xvals.\n",
    "* t4vals: the result from applying the function  𝑇4  to xvals."
   ]
  },
  {
   "cell_type": "code",
   "execution_count": 52,
   "metadata": {},
   "outputs": [
    {
     "data": {
      "image/png": "[encoded data removed]",
      "text/plain": [
       "<Figure size 432x288 with 1 Axes>"
      ]
     },
     "metadata": {},
     "output_type": "display_data"
    }
   ],
   "source": [
    "xvals = np.linspace(-2*m.pi, 2*m.pi, 100)\n",
    "cosvals = [np.cos(i) for i in xvals]\n",
    "t2vals = [1 - (i**2 / 2) for i in xvals]\n",
    "t4vals = [1 - (i**2 / 2) + (i**4 / 24) for i in xvals]\n",
    "\n",
    "plt.plot(xvals, cosvals)\n",
    "plt.plot(xvals, t2vals)\n",
    "plt.plot(xvals, t4vals)\n",
    "plt.ylim(-2,2)\n",
    "plt.legend((\"cos(x)\", \"T_2(x)\", \"T_4(x)\"), loc = \"upper right\")\n",
    "plt.show()"
   ]
  },
  {
   "cell_type": "markdown",
   "metadata": {},
   "source": [
    "Problem 7.1: This function takes a list of numbers and does the following:\n",
    "\n",
    "* generates nsamples samples of the given size\n",
    "* computes the mean for each of the samples\n",
    "* returns the list of sample means."
   ]
  },
  {
   "cell_type": "code",
   "execution_count": 65,
   "metadata": {},
   "outputs": [
    {
     "data": {
      "text/plain": [
       "[[2, 1], [4, 2], [4, 2], [2, 4], [5, 3]]"
      ]
     },
     "execution_count": 65,
     "metadata": {},
     "output_type": "execute_result"
    }
   ],
   "source": [
    "def sample_means(nums, size, nsamples):\n",
    "    r_sample = [r.sample(nums, size) for i in range(nsamples)]\n",
    "    return r_sample\n",
    "\n",
    "sample_means([1,2,3,4,5], 2, 5)"
   ]
  },
  {
   "cell_type": "markdown",
   "metadata": {},
   "source": [
    "Problem 7.2: Plots the sample means as a histogram by calling plt.hist(sinmeans)"
   ]
  },
  {
   "cell_type": "code",
   "execution_count": 87,
   "metadata": {},
   "outputs": [
    {
     "data": {
      "image/png": "[encoded data removed]",
      "text/plain": [
       "<Figure size 432x288 with 1 Axes>"
      ]
     },
     "metadata": {},
     "output_type": "display_data"
    }
   ],
   "source": [
    "sinvals = list(np.linspace(0, m.pi, 1000))\n",
    "sinmeans = sample_means(sinvals, 30, 200) \n",
    "\n",
    "sinmeans = [np.mean(i) for i in np.array(sinmeans)]\n",
    "\n",
    "sinmeans\n",
    "plt.hist(sinmeans)\n",
    "plt.axvline(x=np.mean(sinmeans), c = \"r\")\n",
    "plt.show()"
   ]
  },
  {
   "cell_type": "markdown",
   "metadata": {},
   "source": [
    "Problem 8.1: This function tests if a matrix is a semi-magic square"
   ]
  },
  {
   "cell_type": "code",
   "execution_count": 56,
   "metadata": {},
   "outputs": [
    {
     "data": {
      "text/plain": [
       "True"
      ]
     },
     "execution_count": 56,
     "metadata": {},
     "output_type": "execute_result"
    }
   ],
   "source": [
    "def is_semimagic(mat):\n",
    "    row_sum_list = []\n",
    "    col_sum_list = [0 for i in range(len(mat[0]))]\n",
    "    for i in mat:\n",
    "        row_sum_list.append(sum(i))\n",
    "    for i in range(len(mat)):\n",
    "        for j in range(len(mat[0])):\n",
    "            col_sum_list[j] += mat[i][j]\n",
    "    all_elements = row_sum_list + col_sum_list\n",
    "    check = True\n",
    "    for i in all_elements:\n",
    "        if all_elements[0] != i:\n",
    "            check = False \n",
    "    return check\n",
    "\n",
    "            \n",
    "    \n",
    "is_semimagic([[3,7,5], [8,6,1], [4,2,9]]), "
   ]
  },
  {
   "cell_type": "markdown",
   "metadata": {},
   "source": [
    "Problem 8.2: This function test if a matrix is magic."
   ]
  },
  {
   "cell_type": "code",
   "execution_count": 64,
   "metadata": {},
   "outputs": [
    {
     "data": {
      "text/plain": [
       "False"
      ]
     },
     "execution_count": 64,
     "metadata": {},
     "output_type": "execute_result"
    }
   ],
   "source": [
    "def is_magic(mat):\n",
    "\n",
    "    diagonal_sum1 = 0\n",
    "    for i in range(len(mat)):\n",
    "        diagonal_sum1 += mat[i][i]\n",
    "    diagonal_sum2 = 0\n",
    "    for i in range(len(mat)): \n",
    "        diagonal_sum2 += mat[i][len(mat) - i - 1]\n",
    "    row_sum_list = []\n",
    "    col_sum_list = [0 for i in range(len(mat[0]))]\n",
    "    for i in mat:\n",
    "        row_sum_list.append(sum(i))\n",
    "    for i in range(len(mat)):\n",
    "        for j in range(len(mat[0])):\n",
    "            col_sum_list[j] += mat[i][j]\n",
    "    all_elements = row_sum_list + col_sum_list + [diagonal_sum1] + [diagonal_sum2]\n",
    "\n",
    "    check = True\n",
    "    for i in all_elements:\n",
    "        if all_elements[0] != i:\n",
    "            check = False \n",
    "    return check\n",
    "    \n",
    "\n",
    "is_magic([[3,7,5], [8,6,1], [4,2,9]])"
   ]
  },
  {
   "cell_type": "markdown",
   "metadata": {},
   "source": [
    "Problem 8.3: Check Franklin's Squares"
   ]
  },
  {
   "cell_type": "code",
   "execution_count": 100,
   "metadata": {},
   "outputs": [
    {
     "data": {
      "text/plain": [
       "(False, True)"
      ]
     },
     "execution_count": 100,
     "metadata": {},
     "output_type": "execute_result"
    }
   ],
   "source": [
    "with open('franklin1.txt') as fp: \n",
    "    lines = [line.strip().split() for line in fp]\n",
    "\n",
    "lines = np.array(lines)\n",
    "lines = lines.astype(int)\n",
    "\n",
    "is_magic(lines), is_semimagic(lines) #Franklin1 is semi-magic"
   ]
  },
  {
   "cell_type": "code",
   "execution_count": 101,
   "metadata": {},
   "outputs": [
    {
     "data": {
      "text/plain": [
       "(True, True)"
      ]
     },
     "execution_count": 101,
     "metadata": {},
     "output_type": "execute_result"
    }
   ],
   "source": [
    "with open('franklin2.txt') as fp: \n",
    "    lines2 = [line.strip().split() for line in fp]\n",
    "\n",
    "lines2 = np.array(lines2)\n",
    "lines2 = lines2.astype(int)\n",
    "\n",
    "is_magic(lines2), is_semimagic(lines2) #Franklin2 is magic"
   ]
  },
  {
   "cell_type": "markdown",
   "metadata": {},
   "source": [
    "Challenge Problem: Write a function shoelace(vertices) that takes an  𝑛×2  numpy array of vertices and returns the area of the corresponding polygon."
   ]
  },
  {
   "cell_type": "code",
   "execution_count": 106,
   "metadata": {},
   "outputs": [
    {
     "data": {
      "text/plain": [
       "7.0"
      ]
     },
     "execution_count": 106,
     "metadata": {},
     "output_type": "execute_result"
    }
   ],
   "source": [
    "def shoelace(vertices):\n",
    "    x_vals = []\n",
    "    y_vals = []\n",
    "    for i in vertices:\n",
    "        x_vals.append(i[0])\n",
    "        y_vals.append(i[1])\n",
    "    \n",
    "    area = 0\n",
    "    for i in range(len(vertices)):\n",
    "        area += (x_vals[i-1] + x_vals[i]) * (y_vals[i-1] - y_vals[i]) \n",
    "    return abs(area / 2)\n",
    "\n",
    "shoelace([(2,4),(3,-8),(1,2)])"
   ]
  }
 ],
 "metadata": {
  "kernelspec": {
   "display_name": "Python 3",
   "language": "python",
   "name": "python3"
  },
  "language_info": {
   "codemirror_mode": {
    "name": "ipython",
    "version": 3
   },
   "file_extension": ".py",
   "mimetype": "text/x-python",
   "name": "python",
   "nbconvert_exporter": "python",
   "pygments_lexer": "ipython3",
   "version": "3.6.5"
  }
 },
 "nbformat": 4,
 "nbformat_minor": 2
}
