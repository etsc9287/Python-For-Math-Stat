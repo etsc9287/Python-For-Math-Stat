{
 "cells": [
  {
   "cell_type": "markdown",
   "metadata": {},
   "source": [
    "# Lab 6"
   ]
  },
  {
   "cell_type": "code",
   "execution_count": 39,
   "metadata": {},
   "outputs": [],
   "source": [
    "import matplotlib.pyplot as plt\n",
    "import random\n",
    "import math"
   ]
  },
  {
   "cell_type": "markdown",
   "metadata": {},
   "source": [
    "### 50 Random Integers\n",
    "Generate 50 random integers, each with a value from 1 to 10.\n",
    "Sort the integers and plot them using a bar chart, a scatter plot, and a line graph.\n",
    "\n",
    "<img src=\"https://spot.colorado.edu/~sschang/python/random50bar.png\" />\n",
    "\n",
    "<img src=\"https://spot.colorado.edu/~sschang/python/random50scatter.png\" />\n",
    "\n",
    "<img src=\"https://spot.colorado.edu/~sschang/python/random50line.png\" />"
   ]
  },
  {
   "cell_type": "code",
   "execution_count": 21,
   "metadata": {},
   "outputs": [
    {
     "name": "stdout",
     "output_type": "stream",
     "text": [
      "[0, 1, 2, 3, 4, 5, 6, 7, 8, 9] [1, 2, 3, 5, 6, 8, 9, 10, 10, 10]\n"
     ]
    },
    {
     "data": {
      "image/png": "[encoded data removed]",
      "text/plain": [
       "<Figure size 432x288 with 1 Axes>"
      ]
     },
     "metadata": {},
     "output_type": "display_data"
    }
   ],
   "source": [
    "x = list(range(10))\n",
    "\n",
    "y = [random.randint(1,10) for i in range(10)]\n",
    "y = sorted(y)\n",
    "\n",
    "print(x,y)\n",
    "\n",
    "plt.bar(x,y)\n",
    "plt.show()\n",
    "\n"
   ]
  },
  {
   "cell_type": "code",
   "execution_count": 22,
   "metadata": {},
   "outputs": [
    {
     "data": {
      "image/png": "[encoded data removed]",
      "text/plain": [
       "<Figure size 432x288 with 1 Axes>"
      ]
     },
     "metadata": {},
     "output_type": "display_data"
    }
   ],
   "source": [
    "plt.scatter(x,y)\n",
    "plt.show()"
   ]
  },
  {
   "cell_type": "code",
   "execution_count": 25,
   "metadata": {},
   "outputs": [
    {
     "data": {
      "image/png": "[encoded data removed]",
      "text/plain": [
       "<Figure size 432x288 with 1 Axes>"
      ]
     },
     "metadata": {},
     "output_type": "display_data"
    }
   ],
   "source": [
    "plt.plot(x,y)\n",
    "plt.show()"
   ]
  },
  {
   "cell_type": "markdown",
   "metadata": {},
   "source": [
    "### A parametric curve\n",
    "\n",
    "Plot the parametric curve $x=\\cos(t)$, $y=\\sin(t)$.\n",
    "\n",
    "*Hint:* The command `plt.axis('equal')` sets the aspect ratio to 1.\n",
    "\n",
    "<img src=\"https://spot.colorado.edu/~sschang/python/param-circle.png\" />"
   ]
  },
  {
   "cell_type": "code",
   "execution_count": 41,
   "metadata": {},
   "outputs": [
    {
     "data": {
      "image/png": "[encoded data removed]",
      "text/plain": [
       "<Figure size 432x288 with 1 Axes>"
      ]
     },
     "metadata": {},
     "output_type": "display_data"
    }
   ],
   "source": [
    "x = [math.cos(i/100) for i in range(5000)]\n",
    "y = [math.sin(i/100) for i in range(5000)]\n",
    "\n",
    "plt.scatter(x,y)\n",
    "plt.axis('equal')\n",
    "plt.show()"
   ]
  },
  {
   "cell_type": "markdown",
   "metadata": {},
   "source": [
    "### Rock Paper Scissors\n",
    "Call `random.choice()` 100 times to randomly select one of 'r', 'p', or 's'. Use a loop to count the number of occurrences of each choice. Create a bar chart showing the frequencies. \n",
    "\n",
    "For example, if 'r' appears 31 times, 'p' appears 39 times, and 's' appears 30 times, `plt.bar(['r', 'p', 's'], [31, 39, 30])` will produce the following chart.\n",
    "\n",
    "<img src=\"https://spot.colorado.edu/~sschang/python/rps-freq.png\" />"
   ]
  },
  {
   "cell_type": "code",
   "execution_count": 38,
   "metadata": {},
   "outputs": [
    {
     "data": {
      "image/png": "[encoded data removed]",
      "text/plain": [
       "<Figure size 432x288 with 1 Axes>"
      ]
     },
     "metadata": {},
     "output_type": "display_data"
    }
   ],
   "source": [
    "rps = [\"r\", \"p\", \"s\"]\n",
    "sims = [random.choice(rps) for i in range(100)]\n",
    "\n",
    "rock_counter = 0\n",
    "scissor_counter = 0\n",
    "paper_counter = 0\n",
    "for i in sims:\n",
    "    if i == \"r\":\n",
    "        rock_counter += 1\n",
    "    elif i == \"s\":\n",
    "        scissor_counter +=1\n",
    "    else:\n",
    "        paper_counter += 1\n",
    "counts = []\n",
    "counts.append(rock_counter)\n",
    "counts.append(paper_counter)\n",
    "counts.append(scissor_counter)\n",
    "\n",
    "plt.bar(rps, counts)\n",
    "plt.show()"
   ]
  },
  {
   "cell_type": "markdown",
   "metadata": {},
   "source": [
    "### Exponential Functions\n",
    "Plot the curves $y=a^x$ for $a=2,3,\\ldots, 11$ and $a=\\frac 12, \\frac 13, \\ldots, \\frac{1}{11}$ on $[-5,5]$ with a maximum $y$-coordinate of $50$.\n",
    "\n",
    "<img src=\"https://spot.colorado.edu/~sschang/python/exp-graphs.png\" />"
   ]
  },
  {
   "cell_type": "code",
   "execution_count": 1,
   "metadata": {},
   "outputs": [
    {
     "data": {
      "text/plain": [
       "18"
      ]
     },
     "execution_count": 1,
     "metadata": {},
     "output_type": "execute_result"
    }
   ],
   "source": [
    "sum([5,6,7])"
   ]
  },
  {
   "cell_type": "markdown",
   "metadata": {},
   "source": [
    "# Extra Problems"
   ]
  },
  {
   "cell_type": "markdown",
   "metadata": {},
   "source": [
    "### Hearts\n",
    "Write a function `plot_heart(a)` that plots the functions\n",
    " $$\\begin{align*}\n",
    " f(x) &= |x| + \\sqrt{a^2-x^2}\\\\\n",
    " g(x) &= |x| - \\sqrt{a^2-x^2}\n",
    " \\end{align*}$$\n",
    "\n",
    "for a given value of $a$. Use it to produce the following image.\n",
    "\n",
    "<img src=\"https://spot.colorado.edu/~sschang/python/hearts.png\" />"
   ]
  },
  {
   "cell_type": "markdown",
   "metadata": {},
   "source": [
    "### Diamonds\n",
    "\n",
    "Write a function `plot_diamond(diaglen, color)` that draws a square diamond centered at the origin with the given diagonal length and color. \n",
    "\n",
    "Example: `plot_diamond(1, 'm')` displays the following.\n",
    "\n",
    "<img src=\"https://spot.colorado.edu/~sschang/python/diamond.png\" />\n",
    "\n",
    "Now plot 20 concentric diamonds in different colors as shown below.\n",
    "<img src=\"https://spot.colorado.edu/~sschang/python/diamonds.png\" />"
   ]
  }
 ],
 "metadata": {
  "kernelspec": {
   "display_name": "Python 3",
   "language": "python",
   "name": "python3"
  },
  "language_info": {
   "codemirror_mode": {
    "name": "ipython",
    "version": 3
   },
   "file_extension": ".py",
   "mimetype": "text/x-python",
   "name": "python",
   "nbconvert_exporter": "python",
   "pygments_lexer": "ipython3",
   "version": "3.6.5"
  }
 },
 "nbformat": 4,
 "nbformat_minor": 2
}
