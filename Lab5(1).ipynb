{
 "cells": [
  {
   "cell_type": "markdown",
   "metadata": {},
   "source": [
    "# Lab 5"
   ]
  },
  {
   "cell_type": "markdown",
   "metadata": {},
   "source": [
    "### Code Tracing\n",
    "Can you figure out what each cell outputs (without running the code)? Check your answers."
   ]
  },
  {
   "cell_type": "markdown",
   "metadata": {},
   "source": [
    "s = 0\n",
    "for x in range(1, 10, 3):\n",
    "    print(x, s)\n",
    "    s += x\n",
    "s "
   ]
  },
  {
   "cell_type": "code",
   "execution_count": null,
   "metadata": {},
   "outputs": [],
   "source": [
    "#x = 1, 4, 7\n",
    "#s = 0, 1, 5, 12"
   ]
  },
  {
   "cell_type": "code",
   "execution_count": 31,
   "metadata": {},
   "outputs": [
    {
     "name": "stdout",
     "output_type": "stream",
     "text": [
      "1 0\n",
      "4 1\n",
      "7 5\n"
     ]
    },
    {
     "data": {
      "text/plain": [
       "12"
      ]
     },
     "execution_count": 31,
     "metadata": {},
     "output_type": "execute_result"
    }
   ],
   "source": [
    "s = 0\n",
    "for x in range(1, 10, 3):\n",
    "    print(x, s)\n",
    "    s += x\n",
    "s "
   ]
  },
  {
   "cell_type": "markdown",
   "metadata": {},
   "source": [
    "lst = [25, -3, 2, 5.7]\n",
    "s = 0\n",
    "for x in range(len(lst)):\n",
    "    print(x, lst[x])\n",
    "    s += 1\n",
    "s"
   ]
  },
  {
   "cell_type": "code",
   "execution_count": null,
   "metadata": {},
   "outputs": [],
   "source": [
    "#x = 0, 1, 2, 3\n",
    "#y = 25, -3, 2, 5.7, 4"
   ]
  },
  {
   "cell_type": "code",
   "execution_count": 32,
   "metadata": {},
   "outputs": [
    {
     "name": "stdout",
     "output_type": "stream",
     "text": [
      "0 25\n",
      "1 -3\n",
      "2 2\n",
      "3 5.7\n"
     ]
    },
    {
     "data": {
      "text/plain": [
       "4"
      ]
     },
     "execution_count": 32,
     "metadata": {},
     "output_type": "execute_result"
    }
   ],
   "source": [
    "lst = [25, -3, 2, 5.7]\n",
    "s = 0\n",
    "for x in range(len(lst)):\n",
    "    print(x, lst[x])\n",
    "    s += 1\n",
    "s"
   ]
  },
  {
   "cell_type": "markdown",
   "metadata": {},
   "source": [
    "### Palindromic Number\n",
    "Write a function **`palindromic(num)`** that returns `True` if an integer `num` is *palindromic*, meaning the number is the same when the digits are reversed.\n",
    "\n",
    "*Hint:* `str(num)` converts a number into a string. If `num` is an integer, then `list(str(num))` returns a list of the digits of `num` as characters. For example, `list(str(37))` returns `['3', '7']`.\n",
    "\n",
    " Examples:  \n",
    " `palindromic(3)` returns `True`.  \n",
    " `palindromic(37973)` returns `True`.    \n",
    " `palindromic(37971)` returns `False`."
   ]
  },
  {
   "cell_type": "code",
   "execution_count": 7,
   "metadata": {},
   "outputs": [
    {
     "data": {
      "text/plain": [
       "(True, False)"
      ]
     },
     "execution_count": 7,
     "metadata": {},
     "output_type": "execute_result"
    }
   ],
   "source": [
    "def palindromic(num):\n",
    "    str_num_list = list(str(num))\n",
    "    reversed_list = []\n",
    "    for i in range(len(str_num_list)):\n",
    "        reversed_list.append(str_num_list[len(str_num_list) - i - 1])\n",
    "    if str_num_list == reversed_list:\n",
    "        return True\n",
    "    else:\n",
    "        return False\n",
    "    return str_num_list\n",
    "palindromic(37973), palindromic(345)"
   ]
  },
  {
   "cell_type": "markdown",
   "metadata": {},
   "source": [
    "Use a list comprehension to create a list containing all of the 3-digit numbers less than 400 that are palindromic."
   ]
  },
  {
   "cell_type": "code",
   "execution_count": 12,
   "metadata": {},
   "outputs": [
    {
     "name": "stdout",
     "output_type": "stream",
     "text": [
      "[True, True, True, True, True, True, True, True, True, True, False, True, False, False, False, False, False, False, False, False, False, False, True, False, False, False, False, False, False, False, False, False, False, True, False, False, False, False, False, False, False, False, False, False, True, False, False, False, False, False, False, False, False, False, False, True, False, False, False, False, False, False, False, False, False, False, True, False, False, False, False, False, False, False, False, False, False, True, False, False, False, False, False, False, False, False, False, False, True, False, False, False, False, False, False, False, False, False, False, True, False, True, False, False, False, False, False, False, False, False, False, True, False, False, False, False, False, False, False, False, False, True, False, False, False, False, False, False, False, False, False, True, False, False, False, False, False, False, False, False, False, True, False, False, False, False, False, False, False, False, False, True, False, False, False, False, False, False, False, False, False, True, False, False, False, False, False, False, False, False, False, True, False, False, False, False, False, False, False, False, False, True, False, False, False, False, False, False, False, False, False, True, False, False, False, False, False, False, False, False, False, False, True, False, False, False, False, False, False, False, False, False, True, False, False, False, False, False, False, False, False, False, True, False, False, False, False, False, False, False, False, False, True, False, False, False, False, False, False, False, False, False, True, False, False, False, False, False, False, False, False, False, True, False, False, False, False, False, False, False, False, False, True, False, False, False, False, False, False, False, False, False, True, False, False, False, False, False, False, False, False, False, True, False, False, False, False, False, False, False, False, False, True, False, False, False, False, False, False, False, False, False, False, True, False, False, False, False, False, False, False, False, False, True, False, False, False, False, False, False, False, False, False, True, False, False, False, False, False, False, False, False, False, True, False, False, False, False, False, False, False, False, False, True, False, False, False, False, False, False, False, False, False, True, False, False, False, False, False, False, False, False, False, True, False, False, False, False, False, False, False, False, False, True, False, False, False, False, False, False, False, False, False, True, False, False, False, False, False, False, False, False, False, True, False, False, False, False, False, False]\n"
     ]
    }
   ],
   "source": [
    "palindromic_nums = []\n",
    "[palindromic_nums.append(palindromic(i)) for i in range(400)]\n",
    "    \n",
    "print(palindromic_nums)"
   ]
  },
  {
   "cell_type": "markdown",
   "metadata": {},
   "source": [
    "### Cumulative Sum\n",
    "Write a function **`cumsum(nums)`** that returns the *cumulative sum* of the numbers in a list. The $k$th element of the result equals the sum of the first $k$ numbers in `nums`. You may assume that the elements of the list are all numbers.\n",
    "\n",
    " Example: `cumsum([2, 4, -7, 13])` returns $[2, 6, -1, 12]$ which corresponds to \n",
    " \n",
    " $$\\begin{align*}\n",
    " 2 &= 2\\\\\n",
    " 6 &= 2+4\\\\\n",
    " -1 &= 2+4-7\\\\\n",
    " 12 &= 2+4-7+13.\n",
    " \\end{align*}\n",
    " $$"
   ]
  },
  {
   "cell_type": "code",
   "execution_count": 24,
   "metadata": {
    "scrolled": true
   },
   "outputs": [
    {
     "data": {
      "text/plain": [
       "[2, 6, -1, 12]"
      ]
     },
     "execution_count": 24,
     "metadata": {},
     "output_type": "execute_result"
    }
   ],
   "source": [
    "def cumsum(nums):\n",
    "    sum_list = []\n",
    "    count = 0\n",
    "    for i in nums:\n",
    "        count += i\n",
    "        sum_list.append(count)\n",
    "    return sum_list\n",
    "cumsum([2, 4, -7, 13])"
   ]
  },
  {
   "cell_type": "markdown",
   "metadata": {},
   "source": [
    "### Intersection of Two Lines\n",
    "Write a function **`intersect(line1, line2)`** that returns the `(x,y)` coordinates of the intersection point of two lines. If none, the function returns an empty tuple. Each non-vertical line  $𝑦=𝑚𝑥+𝑏$  is represented by a tuple `(m, b)`.\n",
    "\n",
    "  Examples:  \n",
    "      `intersect((2,3), (2,4))` returns `()`.  \n",
    "      `intersect((2,3), (-3,4))` returns `(0.2, 3.4)` which the intersection point of $y=2x+3$ and $y=-3x+4$."
   ]
  },
  {
   "cell_type": "code",
   "execution_count": 28,
   "metadata": {},
   "outputs": [
    {
     "data": {
      "text/plain": [
       "(0.2, 3.4)"
      ]
     },
     "execution_count": 28,
     "metadata": {},
     "output_type": "execute_result"
    }
   ],
   "source": [
    "def intersect(line1, line2):\n",
    "    if line1[0] == line2[0]:\n",
    "        return ()\n",
    "    else:\n",
    "        eq_side1 = line2[1] - line1[1]\n",
    "        eq_side2 = line1[0] - line2[0]\n",
    "        x = eq_side1 / eq_side2\n",
    "        y = (line1[0] * x) + line1[1]\n",
    "        return((x,y))\n",
    "        \n",
    "intersect((2,3), (-3,4))"
   ]
  },
  {
   "cell_type": "markdown",
   "metadata": {},
   "source": [
    "### A Sequence\n",
    "A *sequence* is an ordered list of numbers: $a_1, a_2, a_3, \\ldots$. Consider the recursively defined sequence $a_{n} = \\frac{3}{4}a_{n-1}$ where each term is $\\frac 34$ of the previous term. Write a function **`seq34(a1, n)`** that returns a list containing the first `n` terms of the sequence given that the first term is `a1`. Assume that `n` is a positive `int`.\n",
    "\n",
    "  Example:  \n",
    "  `seq34(16.0, 4)` returns `[16.0, 12.0, 9.0, 6.75]` which represents the first 4 terms of the sequence with $a_1 = 16$.\n",
    " "
   ]
  },
  {
   "cell_type": "code",
   "execution_count": 30,
   "metadata": {},
   "outputs": [
    {
     "data": {
      "text/plain": [
       "[16.0, 12.0, 9.0, 6.75]"
      ]
     },
     "execution_count": 30,
     "metadata": {},
     "output_type": "execute_result"
    }
   ],
   "source": [
    "def seq34(a1, n):\n",
    "    seq_list = []\n",
    "    for i in range(n):\n",
    "        seq_list.append(((3/4)**i) * a1)\n",
    "    return seq_list\n",
    "seq34(16.0, 4)"
   ]
  },
  {
   "cell_type": "markdown",
   "metadata": {},
   "source": [
    "### Extra Problems\n",
    "\n",
    "### Triangle of Integers\n",
    "Write a function **`triangle_ints(n)`** that displays `n` rows of integers (1, 2, ...) in a triangle formation. \n",
    "You may assume that `n` is a positive `int`.\n",
    "\n",
    " Examples:  \n",
    " `triangle_ints(4)` displays\n",
    " ```\n",
    " 1  \n",
    " 2 3  \n",
    " 4 5 6  \n",
    " 7 8 9 10\n",
    " ```\n",
    "___\n",
    "\n",
    "  *Hint:* By default the `print` function always ends by inserting a newline. You can use the parameter `end` to indicate that the printing should end with a character other than a newline. To print only a newline you can call `print()`. The newline character is `'\\n'`.\n",
    " \n",
    " Example:  \n",
    " ```\n",
    " print(8, end=\" \")\n",
    " print(9)\n",
    " ```\n",
    " \n",
    " displays\n",
    " ```\n",
    " 8 9\n",
    " ```\n",
    " "
   ]
  },
  {
   "cell_type": "code",
   "execution_count": null,
   "metadata": {
    "scrolled": true
   },
   "outputs": [],
   "source": []
  }
 ],
 "metadata": {
  "kernelspec": {
   "display_name": "Python 3",
   "language": "python",
   "name": "python3"
  },
  "language_info": {
   "codemirror_mode": {
    "name": "ipython",
    "version": 3
   },
   "file_extension": ".py",
   "mimetype": "text/x-python",
   "name": "python",
   "nbconvert_exporter": "python",
   "pygments_lexer": "ipython3",
   "version": "3.6.5"
  }
 },
 "nbformat": 4,
 "nbformat_minor": 2
}
