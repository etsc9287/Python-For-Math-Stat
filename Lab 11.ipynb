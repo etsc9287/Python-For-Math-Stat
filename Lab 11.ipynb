{
 "cells": [
  {
   "cell_type": "markdown",
   "metadata": {},
   "source": [
    "# Lab 11"
   ]
  },
  {
   "cell_type": "markdown",
   "metadata": {},
   "source": [
    "### Pi Approximation\n",
    "Consider a unit circle inscribed inside of a square. If we randomly throw darts at the square, some of the darts will land inside the circle and others will land outside the circle but within the square. The probability that a dart lands inside of the circle equals the area of the circle divided by the area of the square. We can use a simulation of the dart throws to approximate the value of $\\pi$.\n",
    "\n",
    "Write a function **`approx_pi(ndarts)`** that simulates the throwing of `ndarts` darts and calculates the fraction of throws that land inside of the circle. The function uses this calculation to return an estimate for the value of $\\pi$.\n",
    "\n",
    " <img src=\"http://www.coloradomath.org/temp/circle_inscribed.png\" width=\"200\" />\n",
    "\n"
   ]
  },
  {
   "cell_type": "code",
   "execution_count": 2,
   "metadata": {},
   "outputs": [],
   "source": [
    "import math as m\n",
    "import random as r\n",
    "import numpy as np\n",
    "import matplotlib.pyplot as plt"
   ]
  },
  {
   "cell_type": "code",
   "execution_count": 11,
   "metadata": {},
   "outputs": [
    {
     "data": {
      "text/plain": [
       "3.172"
      ]
     },
     "execution_count": 11,
     "metadata": {},
     "output_type": "execute_result"
    }
   ],
   "source": [
    "def approx_pi(ndarts):\n",
    "    inside = []\n",
    "    for i in range(ndarts):\n",
    "        x_pos = r.uniform(-1,1)\n",
    "        y_pos = r.uniform(-1,1)\n",
    "        if m.sqrt(x_pos ** 2 + y_pos ** 2) < 1:\n",
    "            inside.append(True)\n",
    "    return (len(inside) / ndarts) * 4\n",
    "    \n",
    "            \n",
    "approx_pi(1000)"
   ]
  },
  {
   "cell_type": "markdown",
   "metadata": {},
   "source": [
    "### Wizard or Muggle\n",
    "Suppose 1% of the world's population are wizards and 99% are Muggles. A test has been developed that is 95% accurate in determining whether a person is a wizard or a Muggle.\n",
    "All CU incoming students must be tested upon arrival to campus. Any student identified as a wizard must undergo extra supervision, especially during exams. \n",
    "\n",
    "Your classmate, Luna, has been identified by the test as a wizard but she claims that she is a Muggle. How likely is it that Luna actually is a wizard? Use Monte Carlo methods to calculate the probability.\n",
    "\n",
    "* Write a function **`random_wizard_muggle()`** that returns 'wizard' 1% of the time and 'Muggle' 99% of the time.  \n",
    "(*Hint:* You may want to call the `random.random()` function.)\n",
    "* Write a function **`random_wizard_test()`** that returns 'accurate' 95% of the time and 'not accurate' 5% of the time.\n",
    "* Write a function **`wizard_test_sim(npeople)`** that randomly tests a given number of people and returns the probability that a person identified by the test as a wizard actually is a wizard."
   ]
  },
  {
   "cell_type": "code",
   "execution_count": 18,
   "metadata": {},
   "outputs": [
    {
     "data": {
      "text/plain": [
       "'muggle'"
      ]
     },
     "execution_count": 18,
     "metadata": {},
     "output_type": "execute_result"
    }
   ],
   "source": [
    "def random_wizard_muggle():\n",
    "    nums = list(range(1, 101))\n",
    "    ran_num = r.choice(nums)\n",
    "    if ran_num == 20:\n",
    "        return \"wizard\"\n",
    "    else:\n",
    "        return \"muggle\"\n",
    "\n",
    "random_wizard_muggle()"
   ]
  },
  {
   "cell_type": "code",
   "execution_count": 19,
   "metadata": {},
   "outputs": [],
   "source": [
    "def random_wizard_test():\n",
    "    nums = list(range(1, 101))\n",
    "    ran_num = r.choice(nums)\n",
    "    if ran_num <= 5:\n",
    "        return \"not accurate\"\n",
    "    else:\n",
    "        return \"accurate\""
   ]
  },
  {
   "cell_type": "code",
   "execution_count": 23,
   "metadata": {},
   "outputs": [
    {
     "data": {
      "text/plain": [
       "0.9550561797752809"
      ]
     },
     "execution_count": 23,
     "metadata": {},
     "output_type": "execute_result"
    }
   ],
   "source": [
    "def wizard_test_sim(npeople):\n",
    "    counter = 0\n",
    "    wizard_count = 0\n",
    "    for i in range(npeople):\n",
    "        test = random_wizard_muggle()\n",
    "        if test == \"wizard\":\n",
    "            test2 = random_wizard_test()\n",
    "            wizard_count += 1\n",
    "            if test2 == \"accurate\":\n",
    "                counter += 1\n",
    "    return counter / wizard_count\n",
    "\n",
    "wizard_test_sim(10000)"
   ]
  },
  {
   "cell_type": "markdown",
   "metadata": {},
   "source": [
    "### Birthday Problem\n",
    "\n",
    "Use the `birthday_sim(n, nsim)` function to estimate the probability that among `n` people there are at least two people with the same birthday. Create a chart like the one below which shows a blue curve representing the probability that there is a birthday match for a given `n` and a red curve representing the probability that there is no match. Answers will vary.\n",
    "\n",
    "<img src=\"http://www.coloradomath.org/temp/birthday_chart.png\" />\n"
   ]
  },
  {
   "cell_type": "markdown",
   "metadata": {},
   "source": [
    "### Extra Problems\n",
    "\n",
    "### Robot Simulation\n",
    "In Lab 8 we were introduced to a robot that begins in the center square of a $3\\times 3$ grid and moves one square at a time according to the instructions 'U', 'D', 'L', or 'R', wrapping around when necessary.\n",
    "\n",
    " <img src=\"https://spot.colorado.edu/~sschang/python/grid3x3.jpg\" width=\"150\" />\n",
    " \n",
    " Write a function **`robot3x3_sim(nmoves, nsim)`** that calculates the probability that after a given number of moves, the robot is back in the center square. Assume that the robot moves up, down, left, or right with equal probability.\n"
   ]
  }
 ],
 "metadata": {
  "kernelspec": {
   "display_name": "Python 3",
   "language": "python",
   "name": "python3"
  },
  "language_info": {
   "codemirror_mode": {
    "name": "ipython",
    "version": 3
   },
   "file_extension": ".py",
   "mimetype": "text/x-python",
   "name": "python",
   "nbconvert_exporter": "python",
   "pygments_lexer": "ipython3",
   "version": "3.6.5"
  }
 },
 "nbformat": 4,
 "nbformat_minor": 2
}
