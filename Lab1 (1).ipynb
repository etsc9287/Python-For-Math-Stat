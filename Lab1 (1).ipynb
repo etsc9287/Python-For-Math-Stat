{
 "cells": [
  {
   "cell_type": "markdown",
   "metadata": {},
   "source": [
    "# Lab 1\n",
    "\n",
    "Be sure to `import math` before beginning these exercises.  \n",
    "Answers shown are rounded to 6 decimal digits. It is not necessary for you to round your answers."
   ]
  },
  {
   "cell_type": "markdown",
   "metadata": {},
   "source": [
    "* The expression $a^3 - b^3$ is evenly divisible by $a-b$. Verify that $\\dfrac{180^3 - 19^3}{180-19}$ simplifies to a whole number.\n",
    "\n",
    " Answer: `36181.0`"
   ]
  },
  {
   "cell_type": "code",
   "execution_count": 5,
   "metadata": {},
   "outputs": [],
   "source": [
    "import math as m"
   ]
  },
  {
   "cell_type": "code",
   "execution_count": 1,
   "metadata": {},
   "outputs": [
    {
     "data": {
      "text/plain": [
       "36181.0"
      ]
     },
     "execution_count": 1,
     "metadata": {},
     "output_type": "execute_result"
    }
   ],
   "source": [
    "(180**3 - 19**3) / (180 - 19)"
   ]
  },
  {
   "cell_type": "markdown",
   "metadata": {},
   "source": [
    "* For any two-digit number $\\underline{a}\\underline{b}$, the fraction $ab/99$ corresponds to a repeating decimal:\n",
    " $$\\frac{ab}{99} = 0.ababab\\ldots = 0.\\overline{ab}.$$\n",
    " \n",
    " Verify by calculating $\\frac{7}{99}$ and $\\frac{73}{99}$.\n",
    " \n",
    " Answers: `0.070707` and `0.737373`"
   ]
  },
  {
   "cell_type": "code",
   "execution_count": 3,
   "metadata": {},
   "outputs": [
    {
     "data": {
      "text/plain": [
       "(0.0707070707070707, 0.7373737373737373)"
      ]
     },
     "execution_count": 3,
     "metadata": {},
     "output_type": "execute_result"
    }
   ],
   "source": [
    "7 / 99, 73 / 99"
   ]
  },
  {
   "cell_type": "markdown",
   "metadata": {},
   "source": [
    "* $(3,4,5)$ is a Pythagorean triple: $3^2 + 4^2 = 5^2$. Another triple is $(19, b, 181)$. What is $c$?\n",
    "\n",
    " Answer: `180`"
   ]
  },
  {
   "cell_type": "code",
   "execution_count": 6,
   "metadata": {},
   "outputs": [
    {
     "data": {
      "text/plain": [
       "180.0"
      ]
     },
     "execution_count": 6,
     "metadata": {},
     "output_type": "execute_result"
    }
   ],
   "source": [
    "m.sqrt(181**2 - 19**2)"
   ]
  },
  {
   "cell_type": "markdown",
   "metadata": {},
   "source": [
    "* The fraction $\\frac{22}{7}$ can be used as an approximation for $\\pi$. What is the absolute difference of the two values? Use the `abs` function and the `math.pi` constant.\n",
    "\n",
    " Answer: `0.001264`"
   ]
  },
  {
   "cell_type": "code",
   "execution_count": 8,
   "metadata": {},
   "outputs": [
    {
     "data": {
      "text/plain": [
       "0.0012644892673496777"
      ]
     },
     "execution_count": 8,
     "metadata": {},
     "output_type": "execute_result"
    }
   ],
   "source": [
    "abs(22 / 7 - m.pi)"
   ]
  },
  {
   "cell_type": "markdown",
   "metadata": {},
   "source": [
    "* What is the difference between `0.9` and `0.3 * 3`?\n",
    "\n",
    " Answer: `1.110223e-16`\n",
    " "
   ]
  },
  {
   "cell_type": "code",
   "execution_count": 9,
   "metadata": {},
   "outputs": [
    {
     "data": {
      "text/plain": [
       "1.1102230246251565e-16"
      ]
     },
     "execution_count": 9,
     "metadata": {},
     "output_type": "execute_result"
    }
   ],
   "source": [
    "0.9 - (0.3*3)"
   ]
  },
  {
   "cell_type": "markdown",
   "metadata": {},
   "source": [
    "### Quotients and Remainders\n",
    "\n",
    "* Find the quotient when $123456$ is divided by $19$. Use the `//` operator.\n",
    "\n",
    " Answer: `6497`"
   ]
  },
  {
   "cell_type": "code",
   "execution_count": 10,
   "metadata": {},
   "outputs": [
    {
     "data": {
      "text/plain": [
       "6497"
      ]
     },
     "execution_count": 10,
     "metadata": {},
     "output_type": "execute_result"
    }
   ],
   "source": [
    "123456 // 19"
   ]
  },
  {
   "cell_type": "markdown",
   "metadata": {},
   "source": [
    "* Find the remainder when $123456$ is divided by $19$. Use the `%` operator.\n",
    "\n",
    " Answer: `13`\n",
    " "
   ]
  },
  {
   "cell_type": "code",
   "execution_count": 11,
   "metadata": {},
   "outputs": [
    {
     "data": {
      "text/plain": [
       "13"
      ]
     },
     "execution_count": 11,
     "metadata": {},
     "output_type": "execute_result"
    }
   ],
   "source": [
    "123456 % 19"
   ]
  },
  {
   "cell_type": "markdown",
   "metadata": {},
   "source": [
    "* Use the `%` operator to calculate the units digit of $17^{19}$.\n",
    "\n",
    " Answer: `3`\n",
    " "
   ]
  },
  {
   "cell_type": "code",
   "execution_count": 16,
   "metadata": {},
   "outputs": [
    {
     "data": {
      "text/plain": [
       "3"
      ]
     },
     "execution_count": 16,
     "metadata": {},
     "output_type": "execute_result"
    }
   ],
   "source": [
    "17 ** 19 % (10)"
   ]
  },
  {
   "cell_type": "markdown",
   "metadata": {},
   "source": [
    "* Use the `%` operator to calculate the last two digits of $17^{19}$.\n",
    "\n",
    " Answer: `53`"
   ]
  },
  {
   "cell_type": "code",
   "execution_count": 17,
   "metadata": {},
   "outputs": [
    {
     "data": {
      "text/plain": [
       "53"
      ]
     },
     "execution_count": 17,
     "metadata": {},
     "output_type": "execute_result"
    }
   ],
   "source": [
    "17 ** 19 % 100"
   ]
  },
  {
   "cell_type": "markdown",
   "metadata": {},
   "source": [
    "### Exponentials and Logarithms\n",
    "\n",
    "* Calculate $\\sqrt[3]{e}$ and round to $6$ decimal digits. (Use the `round` function and either the `math.e` constant or the `math.exp` function.)\n",
    "\n",
    " Answer: `1.395612`"
   ]
  },
  {
   "cell_type": "code",
   "execution_count": 20,
   "metadata": {},
   "outputs": [
    {
     "data": {
      "text/plain": [
       "1.395612"
      ]
     },
     "execution_count": 20,
     "metadata": {},
     "output_type": "execute_result"
    }
   ],
   "source": [
    "round(((m.e) ** (1/3)), 6)"
   ]
  },
  {
   "cell_type": "markdown",
   "metadata": {},
   "source": [
    "* Which number is larger: $e^\\pi$ or $\\pi^e$? (Use the `max` function.)\n",
    "\n",
    " Answer: `23.140692` which corresponds to $e^\\pi$."
   ]
  },
  {
   "cell_type": "code",
   "execution_count": 21,
   "metadata": {},
   "outputs": [
    {
     "data": {
      "text/plain": [
       "23.140692632779263"
      ]
     },
     "execution_count": 21,
     "metadata": {},
     "output_type": "execute_result"
    }
   ],
   "source": [
    "max(m.e ** m.pi, m.pi ** m.e)"
   ]
  },
  {
   "cell_type": "markdown",
   "metadata": {},
   "source": [
    "* What is the value of $10\\ln \\left(e^3 + e^2 \\right) $?\n",
    "\n",
    " Answer: `33.132617`"
   ]
  },
  {
   "cell_type": "code",
   "execution_count": 22,
   "metadata": {},
   "outputs": [
    {
     "data": {
      "text/plain": [
       "33.13261687518222"
      ]
     },
     "execution_count": 22,
     "metadata": {},
     "output_type": "execute_result"
    }
   ],
   "source": [
    "10 * m.log(m.e**3 + m.e**2)"
   ]
  },
  {
   "cell_type": "markdown",
   "metadata": {},
   "source": [
    "* What is the value of $\\log_2{1048576}$?\n",
    "\n",
    " Answer: `20.0`"
   ]
  },
  {
   "cell_type": "code",
   "execution_count": 23,
   "metadata": {},
   "outputs": [
    {
     "data": {
      "text/plain": [
       "20.0"
      ]
     },
     "execution_count": 23,
     "metadata": {},
     "output_type": "execute_result"
    }
   ],
   "source": [
    "m.log(1048576, 2)"
   ]
  },
  {
   "cell_type": "markdown",
   "metadata": {},
   "source": [
    "### Trigonometry\n",
    "\n",
    "* Calculate the degree measure of $1$ radian. Use the `math.degrees` function.\n",
    "\n",
    " Answer: `57.295790`"
   ]
  },
  {
   "cell_type": "code",
   "execution_count": 24,
   "metadata": {},
   "outputs": [
    {
     "data": {
      "text/plain": [
       "57.29577951308232"
      ]
     },
     "execution_count": 24,
     "metadata": {},
     "output_type": "execute_result"
    }
   ],
   "source": [
    "m.degrees(1)"
   ]
  },
  {
   "cell_type": "markdown",
   "metadata": {},
   "source": [
    "* Calculate the value of $\\sec(75^\\circ)$. Use the `math.cos` and `math.radians` function.\n",
    "\n",
    " Answer: `3.863703`"
   ]
  },
  {
   "cell_type": "code",
   "execution_count": 25,
   "metadata": {},
   "outputs": [
    {
     "data": {
      "text/plain": [
       "3.8637033051562737"
      ]
     },
     "execution_count": 25,
     "metadata": {},
     "output_type": "execute_result"
    }
   ],
   "source": [
    "(1/m.cos(m.radians(75)))"
   ]
  },
  {
   "cell_type": "markdown",
   "metadata": {},
   "source": [
    "* The value of $\\tan(\\pi/2)$ is undefined. What happens if the angle is close to $\\pi/2$? Evaluate the `math.tan` function at the angles $\\pi/2 \\pm 10^{-6}$. Use scientific notation for `1e-6`.\n",
    "\n",
    "Answers: `-1000000.000143` and `1000000.000021`"
   ]
  },
  {
   "cell_type": "code",
   "execution_count": 27,
   "metadata": {},
   "outputs": [
    {
     "data": {
      "text/plain": [
       "(-1000000.0001431657, 1000000.0000207009)"
      ]
     },
     "execution_count": 27,
     "metadata": {},
     "output_type": "execute_result"
    }
   ],
   "source": [
    "m.tan(m.pi / 2 + 1e-6), m.tan(m.pi / 2 - 1e-6)"
   ]
  },
  {
   "cell_type": "markdown",
   "metadata": {},
   "source": [
    "### Defining Functions"
   ]
  },
  {
   "cell_type": "markdown",
   "metadata": {},
   "source": [
    "* Write a function `sum_squares(n)` that returns the integer sum of the perfect squares $1^2 + 2^2 + \\cdots + n^2$ using the formula\n",
    "$$ S = \\frac{n(n+1)(2n+1)}{6} $$\n",
    "which always evaluates to an integer. (Why is that?)\n",
    "\n",
    " Example: `sum_squares(200)` returns `2686700`, an integer."
   ]
  },
  {
   "cell_type": "code",
   "execution_count": 30,
   "metadata": {},
   "outputs": [
    {
     "data": {
      "text/plain": [
       "2686700.0"
      ]
     },
     "execution_count": 30,
     "metadata": {},
     "output_type": "execute_result"
    }
   ],
   "source": [
    "def sum_squares(n):\n",
    "    s = (n * (n+1) * ((2*n)+1)) / 6\n",
    "    return(s)\n",
    "sum_squares(200)"
   ]
  },
  {
   "cell_type": "markdown",
   "metadata": {},
   "source": [
    "* Write a function `mins_to_msec(mins)` that returns the number of milliseconds in the given number of minutes.\n",
    "\n",
    " Example: `mins_to_msec(4.5)` returns `270000.0`."
   ]
  },
  {
   "cell_type": "code",
   "execution_count": 31,
   "metadata": {},
   "outputs": [
    {
     "data": {
      "text/plain": [
       "270000.0"
      ]
     },
     "execution_count": 31,
     "metadata": {},
     "output_type": "execute_result"
    }
   ],
   "source": [
    "def mins_to_msec(mins):\n",
    "    mil = mins * 60000\n",
    "    return mil\n",
    "mins_to_msec(4.5)"
   ]
  },
  {
   "cell_type": "markdown",
   "metadata": {},
   "source": [
    "* Write a function `days_to_msec(days)` that returns the number of milliseconds in the given number of days. It should call the `mins_to_msec` function.\n",
    "\n",
    " Example: `days_to_msec(4.5)` returns `388800000.0`."
   ]
  },
  {
   "cell_type": "code",
   "execution_count": 32,
   "metadata": {},
   "outputs": [
    {
     "data": {
      "text/plain": [
       "388800000.0"
      ]
     },
     "execution_count": 32,
     "metadata": {},
     "output_type": "execute_result"
    }
   ],
   "source": [
    "def days_to_msec(days):\n",
    "    mil = days * 60000 * 24 * 60\n",
    "    return mil\n",
    "days_to_msec(4.5)"
   ]
  },
  {
   "cell_type": "markdown",
   "metadata": {},
   "source": [
    "* Write a function `fah_to_cel(fah)` that converts a Fahrenheit temperature to Celsius. *Hint:* Use the fact that $32^\\circ F = 0^\\circ C$ and $212^\\circ F = 100^\\circ C$.\n",
    "\n",
    " Example:  `fah_to_cel(-10)` returns `-23.333333`."
   ]
  },
  {
   "cell_type": "code",
   "execution_count": 33,
   "metadata": {},
   "outputs": [
    {
     "data": {
      "text/plain": [
       "-23.333333333333336"
      ]
     },
     "execution_count": 33,
     "metadata": {},
     "output_type": "execute_result"
    }
   ],
   "source": [
    "def fah_to_cel(fah):\n",
    "    cel = 5/9 * (fah - 32)\n",
    "    return cel\n",
    "fah_to_cel(-10)"
   ]
  },
  {
   "cell_type": "markdown",
   "metadata": {},
   "source": [
    "* Write a function `cel_to_fah(cel)` that converts a Celsius temperature to Fahrenheit.\n",
    " \n",
    " Example: `cel_to_fah(50)` returns `122.0`."
   ]
  },
  {
   "cell_type": "code",
   "execution_count": 36,
   "metadata": {},
   "outputs": [
    {
     "data": {
      "text/plain": [
       "122.0"
      ]
     },
     "execution_count": 36,
     "metadata": {},
     "output_type": "execute_result"
    }
   ],
   "source": [
    "def cel_to_fah(cel):\n",
    "    fah = (9/5 * cel) + 32\n",
    "    return fah\n",
    "cel_to_fah(50)"
   ]
  },
  {
   "cell_type": "markdown",
   "metadata": {},
   "source": [
    "* The *binomial coefficient* $\\binom{n}{r}$ represents the number of unordered ways to select a set of $r$ objects from a total of $n$ objects:\n",
    "$$ \\binom{n}{r} = \\frac{n!}{r!(n-r)!}. $$\n",
    "\n",
    " Write a function `binom(n, r)` that takes two non-negative integers $n$ and $r$ and returns the integer value of $\\binom{n}{r}$.\n",
    "\n",
    " Examples:  \n",
    " The number of ways to randomly choose 3 students out of 10 to dine for free at Carelli's is `binom(10, 3)` which equals `120`.  \n",
    " The number of ways to randomly give out 4 free ski lift tickets to 15 students is `binom(15, 4)` which equals `1365`.  "
   ]
  },
  {
   "cell_type": "code",
   "execution_count": 37,
   "metadata": {},
   "outputs": [
    {
     "data": {
      "text/plain": [
       "120.0"
      ]
     },
     "execution_count": 37,
     "metadata": {},
     "output_type": "execute_result"
    }
   ],
   "source": [
    "def binom(n,r):\n",
    "    cof = (m.factorial(n)) / (m.factorial(r) * m.factorial(n - r))\n",
    "    return cof\n",
    "binom(10,3)"
   ]
  },
  {
   "cell_type": "markdown",
   "metadata": {},
   "source": [
    "### Printing\n",
    "\n",
    "* Print this pattern without writing out each character. There are 20 CUs in each row.\n",
    "```\n",
    "  CU CU CU CU CU CU CU CU CU CU CU CU CU CU CU CU CU CU CU CU \n",
    "   CU CU CU CU CU CU CU CU CU CU CU CU CU CU CU CU CU CU CU CU \n",
    "    CU CU CU CU CU CU CU CU CU CU CU CU CU CU CU CU CU CU CU CU \n",
    "     CU CU CU CU CU CU CU CU CU CU CU CU CU CU CU CU CU CU CU CU \n",
    "```"
   ]
  },
  {
   "cell_type": "code",
   "execution_count": 44,
   "metadata": {},
   "outputs": [
    {
     "name": "stdout",
     "output_type": "stream",
     "text": [
      "CU CU CU CU CU CU CU CU CU CU CU CU CU CU CU CU CU CU CU CU \n",
      " CU CU CU CU CU CU CU CU CU CU CU CU CU CU CU CU CU CU CU CU \n",
      "  CU CU CU CU CU CU CU CU CU CU CU CU CU CU CU CU CU CU CU CU \n",
      "   CU CU CU CU CU CU CU CU CU CU CU CU CU CU CU CU CU CU CU CU \n"
     ]
    }
   ],
   "source": [
    "print(\"CU \" * 20)\n",
    "print(\"\", \"CU \" * 20)\n",
    "print(\" \",\"CU \" * 20)\n",
    "print(\"  \",\"CU \" * 20)"
   ]
  },
  {
   "cell_type": "markdown",
   "metadata": {},
   "source": [
    "* Print this pattern.\n",
    "\n",
    "```\n",
    "   CU CU CU CU CU CU CU CU CU CU CU CU CU CU CU CU CU CU CU CU \n",
    "   CU                                                       CU\n",
    "   CU                                                       CU\n",
    "   CU                                                       CU\n",
    "   CU CU CU CU CU CU CU CU CU CU CU CU CU CU CU CU CU CU CU CU \n",
    "```"
   ]
  },
  {
   "cell_type": "code",
   "execution_count": 51,
   "metadata": {},
   "outputs": [
    {
     "name": "stdout",
     "output_type": "stream",
     "text": [
      "CU CU CU CU CU CU CU CU CU CU CU CU CU CU CU CU CU CU CU CU \n",
      "CU                                                       CU\n",
      "CU                                                       CU\n",
      "CU                                                       CU\n",
      "CU CU CU CU CU CU CU CU CU CU CU CU CU CU CU CU CU CU CU CU \n"
     ]
    }
   ],
   "source": [
    "print(\"CU \" * 20)\n",
    "print(\"CU\", \"                                                     \", \"CU\")\n",
    "print(\"CU\", \"                                                     \", \"CU\")\n",
    "print(\"CU\", \"                                                     \", \"CU\")\n",
    "print(\"CU \" * 20)"
   ]
  },
  {
   "cell_type": "markdown",
   "metadata": {},
   "source": [
    "* Write a function `str_repeat(text, n)` that returns a string with `text` concatenated `n` times. It should **not** print the string.\n",
    "\n",
    " Example:  \n",
    " `haha = str_repeat('ha', 5)`  \n",
    " `haha`  \n",
    " displays `'hahahahaha'`."
   ]
  },
  {
   "cell_type": "code",
   "execution_count": 56,
   "metadata": {},
   "outputs": [
    {
     "data": {
      "text/plain": [
       "'hahahahaha'"
      ]
     },
     "execution_count": 56,
     "metadata": {},
     "output_type": "execute_result"
    }
   ],
   "source": [
    "def str_repeat(text, n):\n",
    "    s = text * n\n",
    "    return s\n",
    "str_repeat(\"ha\",5)"
   ]
  },
  {
   "cell_type": "markdown",
   "metadata": {},
   "source": [
    "* Write a function `stars50()` that displays the 50-star pattern found in the U.S. flag. It should call the `str_repeat` function.\n",
    "\n",
    "  ```\n",
    "  * * * * * *\n",
    "   * * * * *\n",
    "  * * * * * *\n",
    "   * * * * *\n",
    "  * * * * * *\n",
    "   * * * * *\n",
    "  * * * * * *\n",
    "  ```"
   ]
  },
  {
   "cell_type": "code",
   "execution_count": 63,
   "metadata": {},
   "outputs": [
    {
     "name": "stdout",
     "output_type": "stream",
     "text": [
      "* * * * * * \n",
      " * * * * *\n",
      "* * * * * * \n",
      " * * * * *\n",
      "* * * * * * \n",
      " * * * * *\n",
      "* * * * * * \n"
     ]
    }
   ],
   "source": [
    "def stars50():\n",
    "    print(str_repeat(\"* \", 6))\n",
    "    print(str_repeat(\" *\", 5))\n",
    "    print(str_repeat(\"* \", 6))\n",
    "    print(str_repeat(\" *\", 5))\n",
    "    print(str_repeat(\"* \", 6))\n",
    "    print(str_repeat(\" *\", 5))\n",
    "    print(str_repeat(\"* \", 6))\n",
    "    \n",
    "stars50()"
   ]
  },
  {
   "cell_type": "markdown",
   "metadata": {},
   "source": [
    "* Create your own pattern."
   ]
  },
  {
   "cell_type": "code",
   "execution_count": 66,
   "metadata": {},
   "outputs": [
    {
     "name": "stdout",
     "output_type": "stream",
     "text": [
      "* * * * * * \n",
      " * * * * *\n",
      "* * * * \n",
      " * * * * *\n",
      "* * * * * * \n",
      " * * * * *\n",
      "* * * * \n",
      " * * * * *\n",
      "* * * * * * \n"
     ]
    }
   ],
   "source": [
    "def starsMe():\n",
    "    print(str_repeat(\"* \", 6))\n",
    "    print(str_repeat(\" *\", 5))\n",
    "    print(str_repeat(\"* \", 4))\n",
    "    print(str_repeat(\" *\", 5))\n",
    "    print(str_repeat(\"* \", 6))\n",
    "    print(str_repeat(\" *\", 5))\n",
    "    print(str_repeat(\"* \", 4))\n",
    "    print(str_repeat(\" *\", 5))\n",
    "    print(str_repeat(\"* \", 6))\n",
    "    \n",
    "    \n",
    "starsMe()"
   ]
  },
  {
   "cell_type": "markdown",
   "metadata": {},
   "source": [
    "## Extra Problems"
   ]
  },
  {
   "cell_type": "markdown",
   "metadata": {},
   "source": [
    "### Parabola Vertex\n",
    "\n",
    "Write a function `parabola_vertex(a, b, c)` that returns the vertex of a parabola $y=ax^2+bx+c$.\n",
    "\n",
    "Example: `parabola_vertex(-2, -12, -11)` returns `(-3, 7)`."
   ]
  },
  {
   "cell_type": "markdown",
   "metadata": {},
   "source": [
    "### Triangle Angles\n",
    "\n",
    "Write a function `triangle_angles(a, b, c)` that takes the positive side lengths of a triangle and returns the measures of the interior angles.\n",
    "\n",
    "*Hint:* Use the *Law of Cosines* $c^2 = a^2 + b^2 - 2ab\\cos C$.\n",
    "\n",
    "Example: `triangle_angles(3, 4, 5)` returns `(1.570796, 0.643501, 0.927295)` in any order."
   ]
  },
  {
   "cell_type": "markdown",
   "metadata": {},
   "source": [
    "### Complex Numbers\n",
    "To represent complex numbers in Python use the letter `j` for $i = \\sqrt{-1}$. For example the complex numbers $7i$ and $3+2i$ are represented as `7j` and `3+2j`.\n",
    "\n",
    "* Evaluate $i(3+2i)(4-5i)$.\n",
    " \n",
    " Answer: `(7+22j)`\n",
    " "
   ]
  },
  {
   "cell_type": "markdown",
   "metadata": {},
   "source": [
    "* The equation $e^{i\\pi} + 1 = 0$ is known as *Euler's Identity*. Verify the identity. "
   ]
  }
 ],
 "metadata": {
  "kernelspec": {
   "display_name": "Python 3",
   "language": "python",
   "name": "python3"
  },
  "language_info": {
   "codemirror_mode": {
    "name": "ipython",
    "version": 3
   },
   "file_extension": ".py",
   "mimetype": "text/x-python",
   "name": "python",
   "nbconvert_exporter": "python",
   "pygments_lexer": "ipython3",
   "version": "3.6.5"
  }
 },
 "nbformat": 4,
 "nbformat_minor": 2
}
