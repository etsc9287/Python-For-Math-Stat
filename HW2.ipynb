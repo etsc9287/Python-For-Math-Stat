{
 "cells": [
  {
   "cell_type": "markdown",
   "metadata": {},
   "source": [
    "# Homework 2\n",
    "\n",
    "*Answers shown are rounded to 6 decimal digits. Unless specified it is not necessary for you to round your answers.*\n"
   ]
  },
  {
   "cell_type": "markdown",
   "metadata": {},
   "source": [
    "### Divisibility\n",
    "\n",
    "Write a function **`divides(d, n)`** that takes two integers `d` and `n` and returns the boolean value `True` if `n` is evenly divisible by `d`, and returns `False` otherwise. Use the % operator.\n",
    "\n",
    "If `d` equals 0 or if `d` and `n` are not both integers, the function returns `False`. \n",
    "\n",
    "Examples:  \n",
    "`divides(17, 2019)` returns `False`.  \n",
    "`divides(673, 2019)` returns `True`.  \n",
    "`divides(673, 2019.0)` returns `False`.  \n",
    "`divides(0, 2019)` returns `False`.  \n"
   ]
  },
  {
   "cell_type": "code",
   "execution_count": 6,
   "metadata": {},
   "outputs": [
    {
     "data": {
      "text/plain": [
       "(False, True, False, False)"
      ]
     },
     "execution_count": 6,
     "metadata": {},
     "output_type": "execute_result"
    }
   ],
   "source": [
    "def divides(d, n):\n",
    "    if (d == 0 or type(d) != int or type(n) != int):\n",
    "        return False\n",
    "    elif (n % d == 0):\n",
    "        return True\n",
    "    else:\n",
    "        return False\n",
    "divides(17, 2019), divides(673, 2019), divides(673, 2019.0), divides(0, 2019)"
   ]
  },
  {
   "cell_type": "markdown",
   "metadata": {},
   "source": [
    "### Rock Paper Scissors\n",
    "\n",
    "In the rock-paper-scissors game, two people simultaneously choose one of the three items. The winner is chosen by this rule: rock blunts scissors, scissors cut paper, and paper covers rock.\n",
    "\n",
    "Write a function **`beat(rps)`** that takes one of the three items in string format and returns the item that beats it. For any other input, return the null string `''`.\n",
    "\n",
    "Examples:  \n",
    "`beat('rock')` returns `'paper'`.  \n",
    "`beat('paper') + beat('scissors')` returns `'scissorsrock'`.    \n",
    "`beat(19)` returns `''`."
   ]
  },
  {
   "cell_type": "code",
   "execution_count": 10,
   "metadata": {},
   "outputs": [
    {
     "data": {
      "text/plain": [
       "('paper', 'scissorsrock', '')"
      ]
     },
     "execution_count": 10,
     "metadata": {},
     "output_type": "execute_result"
    }
   ],
   "source": [
    "def beat(rps):\n",
    "    if (rps == \"paper\"):\n",
    "        return \"scissors\"\n",
    "    elif (rps == \"scissors\"):\n",
    "        return \"rock\"\n",
    "    elif (rps == \"rock\"):\n",
    "        return \"paper\"\n",
    "    else:\n",
    "        return \"\"\n",
    "beat(\"rock\"), beat('paper') + beat('scissors'), beat(19)\n"
   ]
  },
  {
   "cell_type": "markdown",
   "metadata": {},
   "source": [
    "### Sinc Function\n",
    "\n",
    "The *normalized sinc function*, used in digital signal processing, is defined as\n",
    "\n",
    "$$\\text{sinc}(x) = \\begin{cases}\n",
    "\\dfrac{\\sin(\\pi x)}{\\pi x} & \\text{for }x \\ne 0\\\\[.5em]\n",
    "1 & \\text{for }x = 0\n",
    "\\end{cases}\n",
    "$$\n",
    "\n",
    "Write a function **`sinc(x)`** that returns the value of this function given a real number `x`.\n",
    "\n",
    "Examples:  \n",
    "`sinc(0.5)` returns `0.636620`.  \n",
    "`sinc(0)` returns `1.0`."
   ]
  },
  {
   "cell_type": "code",
   "execution_count": 18,
   "metadata": {},
   "outputs": [
    {
     "data": {
      "text/plain": [
       "(0.63662, 1.0)"
      ]
     },
     "execution_count": 18,
     "metadata": {},
     "output_type": "execute_result"
    }
   ],
   "source": [
    "import math as m\n",
    "\n",
    "def sinc(x):\n",
    "    if (x == 0):\n",
    "        return 1.0\n",
    "    else: \n",
    "        return round((m.sin(m.pi * x) / (m.pi * x)), 6)\n",
    "sinc(0.5), sinc(0)\n",
    "        "
   ]
  },
  {
   "cell_type": "markdown",
   "metadata": {},
   "source": [
    "### Triangle Inequality\n",
    "\n",
    "The side lengths $a, b, c$ of a triangle must satisfy the *triangle inequality*:\n",
    "\n",
    "$$ a+b \\ge c \\qquad b+c \\ge a \\qquad a+c \\ge b.$$ \n",
    "\n",
    "Write a function **`tri_inequality(a, b, c)`** that takes three lengths and returns the boolean value `True` if the lengths can form a triangle. Otherwise it returns `False`.\n",
    "\n",
    "Examples:  \n",
    "`tri_inequality(1.5, 2, 2.5)` returns `True`.  \n",
    "`tri_inequality(4, 8, 3)` returns `False`."
   ]
  },
  {
   "cell_type": "code",
   "execution_count": 20,
   "metadata": {},
   "outputs": [
    {
     "data": {
      "text/plain": [
       "(True, False)"
      ]
     },
     "execution_count": 20,
     "metadata": {},
     "output_type": "execute_result"
    }
   ],
   "source": [
    "def tri_inequality(a, b, c):\n",
    "    if (a + b >= c and b + c >= a and a + c >= b):\n",
    "        return True\n",
    "    else:\n",
    "        return False\n",
    "tri_inequality(1.5, 2, 2.5), tri_inequality(4, 8, 3)"
   ]
  },
  {
   "cell_type": "markdown",
   "metadata": {},
   "source": [
    "### Semiperimeter of a Triangle\n",
    "\n",
    "Write a function **`tri_semiperimeter(a, b, c)`** that takes the side lengths of a triangle and returns half of the perimeter of the triangle. The function should call `tri_inequality` and if the  inequality is not satisfied, the function returns `0.0`.\n",
    "\n",
    "Examples:  \n",
    "`tri_semiperimeter(3, 4, 5)` returns `6.0`.  \n",
    "`tri_semiperimeter(4, 8, 3)` returns `0.0`.  "
   ]
  },
  {
   "cell_type": "code",
   "execution_count": 23,
   "metadata": {},
   "outputs": [
    {
     "data": {
      "text/plain": [
       "(6.0, 0.0)"
      ]
     },
     "execution_count": 23,
     "metadata": {},
     "output_type": "execute_result"
    }
   ],
   "source": [
    "def tri_semiperimeter(a, b, c):\n",
    "    if (tri_inequality(a,b,c) == False):\n",
    "        return 0.0\n",
    "    else:\n",
    "        return ((a + b + c) / 2)\n",
    "tri_semiperimeter(3, 4, 5), tri_semiperimeter(4, 8, 3)"
   ]
  },
  {
   "cell_type": "markdown",
   "metadata": {},
   "source": [
    "### Heron's Formula for Triangle Area\n",
    "\n",
    "Write a function **`heron(a, b, c)`** that takes the side lengths of a triangle and returns the area using *Heron's Formula*:\n",
    "\n",
    "$$ A = \\sqrt{s(s-a)(s-b)(s-c)},$$\n",
    "\n",
    "where $s$ equals the semiperimeter of the triangle. The function should call the `tri_semiperimeter` function. \n",
    "\n",
    "Example: `heron(5, 29, 30)` returns `72.0`."
   ]
  },
  {
   "cell_type": "code",
   "execution_count": 24,
   "metadata": {},
   "outputs": [
    {
     "data": {
      "text/plain": [
       "72.0"
      ]
     },
     "execution_count": 24,
     "metadata": {},
     "output_type": "execute_result"
    }
   ],
   "source": [
    "def heron(a, b, c):\n",
    "    return m.sqrt(tri_semiperimeter(a,b,c) * (tri_semiperimeter(a,b,c) - a) * (tri_semiperimeter(a,b,c) - b) * (tri_semiperimeter(a,b,c) - c))\n",
    "heron(5, 29, 30)"
   ]
  },
  {
   "cell_type": "markdown",
   "metadata": {},
   "source": [
    "### Sine Formula for Triangle Area\n",
    "\n",
    "There is another formula that computes the area of a triangle using any two side lengths $a, b$ and the angle $\\theta$ between them:\n",
    "$$ A = \\frac 12 ab\\sin \\theta. $$\n",
    "\n",
    "Write a function **`sine_area(a, b, theta)`** that calculates this area. Assume that $a, b \\ge 0$ and $0 \\le \\theta \\le \\pi$.\n",
    "\n",
    "Example:  \n",
    "\n",
    "`sine_area(14, 15, math.acos(0.6))` returns `84.0`."
   ]
  },
  {
   "cell_type": "code",
   "execution_count": 26,
   "metadata": {},
   "outputs": [
    {
     "data": {
      "text/plain": [
       "84.0"
      ]
     },
     "execution_count": 26,
     "metadata": {},
     "output_type": "execute_result"
    }
   ],
   "source": [
    "def sine_area(a, b, theta):\n",
    "    return 0.5 * a * b * m.sin(theta)\n",
    "sine_area(14, 15, m.acos(0.6))"
   ]
  },
  {
   "cell_type": "markdown",
   "metadata": {},
   "source": [
    "### Day Num to String\n",
    "\n",
    "Write a function **`day_name(n)`** that takes a number `n` equal to $0,1,\\ldots,6$ corresponding to a day of the week and returns `'Sat'`, `'Sun'`, ..., `'Fri'`, respectively. If `n` equals anything else, return the null string `''`. Use the `if` statement.\n",
    "\n",
    "Example:  \n",
    "`day_name(3)` returns `'Tue'`.  \n",
    "`day_name(7)` returns `''`."
   ]
  },
  {
   "cell_type": "code",
   "execution_count": 28,
   "metadata": {},
   "outputs": [
    {
     "data": {
      "text/plain": [
       "('Tue', '')"
      ]
     },
     "execution_count": 28,
     "metadata": {},
     "output_type": "execute_result"
    }
   ],
   "source": [
    "def day_name(n):\n",
    "    days = ['Sat', 'Sun', 'Mon', 'Tue', 'Wed', 'Thu', 'Fri']\n",
    "    if (n >= 0 and n < 7):\n",
    "        return days[n]\n",
    "    else:\n",
    "        return \"\"\n",
    "day_name(3), day_name(7)"
   ]
  },
  {
   "cell_type": "markdown",
   "metadata": {},
   "source": [
    "### Day of Week\n",
    "\n",
    "Write a function **`day_of_week(m, d, y)`** that takes a date (represented by month `m` (1-12), day `d` (1-31), and 4-digit year `y`), and returns the day of the week (as a string) corresponding to that date. The function should use this formula:\n",
    "\n",
    "$$ \\left( d + 2m + \\left\\lfloor \\frac{3(m+1)}{5}\\right\\rfloor + y + \\left \\lfloor \\frac{y}{4}\\right\\rfloor - \\left \\lfloor \\frac{y}{100}\\right\\rfloor + \\left \\lfloor \\frac{y}{400}\\right\\rfloor + 2 \\right) \\bmod 7. $$\n",
    "\n",
    "*Important:*  If month `m` equals 1 (Jan) or 2 (Feb), then before using the formula, your function must convert the month to 13 or 14, respectively, *of the previous year*.  For example, to find the day of the week for Jan 1, 2020, your function should let $m=13$, $d=1$, and $y=2019$ before substituting into the formula.\n",
    "\n",
    "Note: The notation $\\lfloor x \\rfloor$ represents the greatest integer less than or equal to $x$. For example $\\lfloor 17.9 \\rfloor$ equals $17$. In the formula you can use the `//` operator to compute $\\left\\lfloor \\frac ab \\right\\rfloor$ or you can use the `math.floor` function.\n",
    "\n",
    "Note: The notation $n$ mod 7 represents the remainder when $n$ is divided by 7. For example $25$ mod 7 equals 4. To compute $n$ mod 7 use the `% 7` operation.\n",
    "\n",
    "Examples:  \n",
    "`day_of_week(7, 4, 1776)` returns `'Thu'`.  \n",
    "`day_of_week(2, 12, 1809)` returns `'Sun'`.  \n",
    "`day_of_week(7, 20, 1969)` returns `'Sun'`.  \n",
    "\n"
   ]
  },
  {
   "cell_type": "code",
   "execution_count": 59,
   "metadata": {},
   "outputs": [
    {
     "data": {
      "text/plain": [
       "('Thu', 'Sun', 'Sun', 'Tue')"
      ]
     },
     "execution_count": 59,
     "metadata": {},
     "output_type": "execute_result"
    }
   ],
   "source": [
    "def day_of_week(m, d, y):\n",
    "    days = ['Sat', 'Sun', 'Mon', 'Tue', 'Wed', 'Thu', 'Fri']\n",
    "    if (m == 1 or m == 2):\n",
    "        m = m + 12 #conditionals if the month is jan or feb\n",
    "        y = y - 1\n",
    "    day_num = (d + (2 * m) + ((3 * (m + 1)) // 5) + y + (y // 4) - (y // 100) + (y // 400) + 2) % 7\n",
    "    return days[day_num] #return the day_num index of our days list\n",
    "\n",
    "day_of_week(7, 4, 1776), day_of_week(2, 12, 1809), day_of_week(7, 20, 1969), day_of_week(9, 10, 2019)\n",
    "    "
   ]
  },
  {
   "cell_type": "markdown",
   "metadata": {},
   "source": [
    "## Challenge Problems\n",
    "\n",
    "The following problems are optional."
   ]
  },
  {
   "cell_type": "markdown",
   "metadata": {},
   "source": [
    "### Approximating Pi with Inscribed Polygons\n",
    "\n",
    "In ancient times Archimedes approximated the value of $\\pi$ by calculating the areas of regular polygons. Write a function **`approx_pi_inscribed(n)`** that returns the area of a regular $n$-sided polygon inscribed in a unit circle. Note that a regular $n$-gon can be divided into $n$ congruent isosceles triangles. See the example below for $n=8$. Include an explanation of your code.\n",
    "\n",
    "Example:  \n",
    "`approx_pi_inscribed(16)` returns `3.061467`.\n",
    "\n",
    "<img src=\"https://spot.colorado.edu/~sschang/python/inscribed-polygon.png\" width=231 />"
   ]
  },
  {
   "cell_type": "code",
   "execution_count": 64,
   "metadata": {},
   "outputs": [],
   "source": [
    "#WASNT ABLE TO FIGURE OUT MOST OF THE MATH AND HOW TO IMPLEMENT THIS INTO CODE AFTER A LOT OF TIME SPENT "
   ]
  },
  {
   "cell_type": "markdown",
   "metadata": {},
   "source": [
    "### Approximating Pi with Circumscribed Polygons\n",
    "\n",
    "Note that any inscribed polygon will underestimate the value of $\\pi$. Archimedes also used the areas of circumscribed regular $n$-gons to find an upper bound for the value of $\\pi$. Write a function **`approx_pi_circumscribed(n)`** that calculates this approxmation. Include an explanation of your code.\n",
    "\n",
    "Example:  \n",
    "`approx_pi_circumscribed(16)` returns `3.182598`.\n",
    "\n",
    "<img src=\"https://spot.colorado.edu/~sschang/python/circumscribed-polygon.png\" width=275 />\n",
    "\n",
    "\n"
   ]
  },
  {
   "cell_type": "code",
   "execution_count": null,
   "metadata": {},
   "outputs": [],
   "source": []
  }
 ],
 "metadata": {
  "kernelspec": {
   "display_name": "Python 3",
   "language": "python",
   "name": "python3"
  },
  "language_info": {
   "codemirror_mode": {
    "name": "ipython",
    "version": 3
   },
   "file_extension": ".py",
   "mimetype": "text/x-python",
   "name": "python",
   "nbconvert_exporter": "python",
   "pygments_lexer": "ipython3",
   "version": "3.6.5"
  }
 },
 "nbformat": 4,
 "nbformat_minor": 2
}
