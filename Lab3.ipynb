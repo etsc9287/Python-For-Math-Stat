{
 "cells": [
  {
   "cell_type": "markdown",
   "metadata": {},
   "source": [
    "# Lab 3"
   ]
  },
  {
   "cell_type": "markdown",
   "metadata": {},
   "source": [
    "* Use the `range` constructor and the `list` function to generate the following lists:  \n",
    " ```\n",
    " [21, 22, 23, 24, ..., 40]  \n",
    " [7, 14, 21, 28, ..., 70]\n",
    " [-65, -55, -45, ..., -5]  \n",
    " [150, 140, 130, ..., 0]\n",
    " ```"
   ]
  },
  {
   "cell_type": "code",
   "execution_count": 5,
   "metadata": {},
   "outputs": [
    {
     "data": {
      "text/plain": [
       "([21,\n",
       "  22,\n",
       "  23,\n",
       "  24,\n",
       "  25,\n",
       "  26,\n",
       "  27,\n",
       "  28,\n",
       "  29,\n",
       "  30,\n",
       "  31,\n",
       "  32,\n",
       "  33,\n",
       "  34,\n",
       "  35,\n",
       "  36,\n",
       "  37,\n",
       "  38,\n",
       "  39,\n",
       "  40],\n",
       " [7, 14, 21, 28, 35, 42, 49, 56, 63, 70],\n",
       " [-65, -60, -55, -50, -45, -40, -35, -30, -25, -20, -15, -10, -5],\n",
       " [150, 140, 130, 120, 110, 100, 90, 80, 70, 60, 50, 40, 30, 20, 10, 0])"
      ]
     },
     "execution_count": 5,
     "metadata": {},
     "output_type": "execute_result"
    }
   ],
   "source": [
    "list(range(21,41)), list(range(7,71,7)), list(range(-65, -4, 5)), list(range(150,-1, -10))"
   ]
  },
  {
   "cell_type": "markdown",
   "metadata": {},
   "source": [
    "* The `range` constructor works for integers only. Write a loop to generate the list  \n",
    " ```\n",
    " [1.5, 2.5, 3.5, ..., 10.5]\n",
    " ```"
   ]
  },
  {
   "cell_type": "code",
   "execution_count": 11,
   "metadata": {},
   "outputs": [
    {
     "name": "stdout",
     "output_type": "stream",
     "text": [
      "[1.5, 2.5, 3.5, 4.5, 5.5, 6.5, 7.5, 8.5, 9.5, 10.5]\n"
     ]
    }
   ],
   "source": [
    "new_list = []\n",
    "for i in range(1,11):\n",
    "    new_list.append(i + 0.5)\n",
    "print(new_list)"
   ]
  },
  {
   "cell_type": "markdown",
   "metadata": {},
   "source": [
    "* Write a function **`mean(nums)`** that returns the average (mean) of a list of numbers.\n",
    "\n",
    " Example: `mean([25, 32, 7, 9, 4, 14])` returns `15.1666667`."
   ]
  },
  {
   "cell_type": "code",
   "execution_count": 13,
   "metadata": {},
   "outputs": [
    {
     "data": {
      "text/plain": [
       "15.166666666666666"
      ]
     },
     "execution_count": 13,
     "metadata": {},
     "output_type": "execute_result"
    }
   ],
   "source": [
    "def mean(nums):\n",
    "    avg = 0\n",
    "    for i in nums:\n",
    "        avg = avg + i\n",
    "    return(avg / len(nums))\n",
    "mean([25, 32, 7, 9, 4, 14])"
   ]
  },
  {
   "cell_type": "markdown",
   "metadata": {},
   "source": [
    "* Write a function **`median(nums)`** that takes an unsorted list of numbers and returns the median. You may call the `sorted` function.\n",
    "\n",
    " Example: `median([25, 32, 7, 9, 4, 14])` returns `11.5`."
   ]
  },
  {
   "cell_type": "code",
   "execution_count": 36,
   "metadata": {},
   "outputs": [
    {
     "data": {
      "text/plain": [
       "4.5"
      ]
     },
     "execution_count": 36,
     "metadata": {},
     "output_type": "execute_result"
    }
   ],
   "source": [
    "def median(nums):\n",
    "    nums = sorted(nums)\n",
    "    num_elements = 0\n",
    "    for i in nums:\n",
    "        num_elements += 1\n",
    "    if num_elements % 2 == 1:\n",
    "        return nums[(num_elements // 2)]\n",
    "    else:\n",
    "        return (nums[num_elements // 2] + nums[(num_elements // 2) - 1]) / 2\n",
    "median([1,2,3,4,5,6,7,8])"
   ]
  },
  {
   "cell_type": "markdown",
   "metadata": {},
   "source": [
    "* Write a function **`tele_sum(n)`** that sums the telescoping series \n",
    " $$S = \\dfrac{1}{1\\cdot 2} + \\dfrac{1}{2\\cdot 3} + \\dfrac{1}{3\\cdot 4} + \\cdots + \\dfrac{1}{n\\cdot (n+1)}.$$ \n",
    "Use a `for` loop.\n",
    "\n",
    " Example: `tele_sum(99)` returns $0.99$."
   ]
  },
  {
   "cell_type": "code",
   "execution_count": 27,
   "metadata": {},
   "outputs": [
    {
     "data": {
      "text/plain": [
       "0.9899999999999997"
      ]
     },
     "execution_count": 27,
     "metadata": {},
     "output_type": "execute_result"
    }
   ],
   "source": [
    "def tele_sum(n):\n",
    "    s = 0\n",
    "    for i in range(1, n+1):\n",
    "        s += 1 / (i * (i + 1))\n",
    "    return s\n",
    "tele_sum(99)"
   ]
  },
  {
   "cell_type": "markdown",
   "metadata": {},
   "source": [
    "* Write a function **`digit_sum(n)`** that returns the sum of the digits of `n`.  \n",
    "*Hint:* `list(str(n))` returns a list of the digits of `n` in string format.\n",
    "\n",
    " Example: The sum of the digits of $50!$ is $216$."
   ]
  },
  {
   "cell_type": "code",
   "execution_count": 34,
   "metadata": {},
   "outputs": [
    {
     "data": {
      "text/plain": [
       "(15, 216)"
      ]
     },
     "execution_count": 34,
     "metadata": {},
     "output_type": "execute_result"
    }
   ],
   "source": [
    "import math as m\n",
    "def digit_sum(n):\n",
    "    n = list(str(n))\n",
    "    new_list = []\n",
    "    for i in n:\n",
    "        new_list.append(int(i))\n",
    "    counter = 0\n",
    "    for i in new_list:\n",
    "        counter += i\n",
    "    return counter\n",
    "digit_sum(294), digit_sum(m.factorial(50))"
   ]
  },
  {
   "cell_type": "markdown",
   "metadata": {},
   "source": [
    "* For each of the integers from 1 to 50, check whether the digit sum is divisible by 9. If so, print the number. The result should be\n",
    "```\n",
    "9  \n",
    "18  \n",
    "27  \n",
    "36  \n",
    "45\n",
    "```"
   ]
  },
  {
   "cell_type": "code",
   "execution_count": 35,
   "metadata": {},
   "outputs": [
    {
     "name": "stdout",
     "output_type": "stream",
     "text": [
      "9\n",
      "18\n",
      "27\n",
      "36\n",
      "45\n"
     ]
    }
   ],
   "source": [
    "for i in range(1,51):\n",
    "    if i % 9 == 0:\n",
    "        print(i)"
   ]
  },
  {
   "cell_type": "markdown",
   "metadata": {},
   "source": [
    "* Write a function **`rectangle(t, w, h, color)`** that takes a Turtle pen `t` and draws a colored filled rectangle using the given width and height.\n",
    "\n",
    " Use `rectangle` to draw four rectangles arranged in the following pattern, each twice as wide as it is high. Additional colors can be found here: https://matplotlib.org/examples/color/named_colors.html.\n",
    " \n",
    " <img src=\"https://spot.colorado.edu/~sschang/python/turtle-rect-grid.png\" height=\"219\" width=\"213\" />"
   ]
  },
  {
   "cell_type": "code",
   "execution_count": null,
   "metadata": {},
   "outputs": [],
   "source": []
  },
  {
   "cell_type": "markdown",
   "metadata": {},
   "source": [
    "* Create your own print pattern or Turtle design."
   ]
  },
  {
   "cell_type": "code",
   "execution_count": null,
   "metadata": {},
   "outputs": [],
   "source": []
  },
  {
   "cell_type": "markdown",
   "metadata": {},
   "source": [
    "# Extra Problems\n",
    " \n",
    " Use `square` to display overlapping squares in an assortment of colors, similar to the figure below.\n",
    "\n",
    " <img src=\"https://spot.colorado.edu/~sschang/python/turtle-squares-decr.png\" height=\"245\" width=\"217\" />"
   ]
  },
  {
   "cell_type": "code",
   "execution_count": null,
   "metadata": {},
   "outputs": [],
   "source": []
  }
 ],
 "metadata": {
  "kernelspec": {
   "display_name": "Python 3",
   "language": "python",
   "name": "python3"
  },
  "language_info": {
   "codemirror_mode": {
    "name": "ipython",
    "version": 3
   },
   "file_extension": ".py",
   "mimetype": "text/x-python",
   "name": "python",
   "nbconvert_exporter": "python",
   "pygments_lexer": "ipython3",
   "version": "3.6.5"
  }
 },
 "nbformat": 4,
 "nbformat_minor": 2
}
