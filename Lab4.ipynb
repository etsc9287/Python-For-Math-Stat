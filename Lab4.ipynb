{
 "cells": [
  {
   "cell_type": "markdown",
   "metadata": {},
   "source": [
    "# Lab 4"
   ]
  },
  {
   "cell_type": "markdown",
   "metadata": {},
   "source": [
    "### List Comprehensions and Generators\n",
    "\n",
    "Use list comprehensions (or generators) to sum the elements in the list:\n",
    "\n",
    "* Reciprocals of the first hundred powers of 2\n",
    "    $$\\left[ \\frac{1}{2}, \\frac{1}{4}, \\frac{1}{8}, \\frac{1}{16}, \\cdots, \\frac{1}{2^{100}} \\right]$$    \n",
    "    Answer: `1.0`\n",
    "\n",
    "    \n",
    "* Reciprocals of the first hundred integers with alternating signs\n",
    "    $$\\left[ 1, -\\frac{1}{2}, \\frac{1}{3}, -\\frac{1}{4}, \\cdots, -\\frac{1}{100} \\right]$$    \n",
    "    Answer: `0.688172`\n",
    "    \n",
    "* The integers that end in 3 or 7 among the first 100 integers\n",
    "    $$[3, 7, 13, 17, \\ldots, 97]$$\n",
    "    \n",
    "    Answer: `1000`\n",
    "\n",
    " "
   ]
  },
  {
   "cell_type": "code",
   "execution_count": 20,
   "metadata": {},
   "outputs": [
    {
     "data": {
      "text/plain": [
       "1.0"
      ]
     },
     "execution_count": 20,
     "metadata": {},
     "output_type": "execute_result"
    }
   ],
   "source": [
    "sum([1/(2**i) for i in range(1,101)])"
   ]
  },
  {
   "cell_type": "code",
   "execution_count": 22,
   "metadata": {},
   "outputs": [
    {
     "data": {
      "text/plain": [
       "0.688172179310195"
      ]
     },
     "execution_count": 22,
     "metadata": {},
     "output_type": "execute_result"
    }
   ],
   "source": [
    "sum([(-1) ** (j+1) / j for j in range(1,101)])"
   ]
  },
  {
   "cell_type": "code",
   "execution_count": 24,
   "metadata": {},
   "outputs": [
    {
     "data": {
      "text/plain": [
       "1000"
      ]
     },
     "execution_count": 24,
     "metadata": {},
     "output_type": "execute_result"
    }
   ],
   "source": [
    "sum([k for k in range(1,101) if k % 10 == 3 or k % 10 == 7])"
   ]
  },
  {
   "cell_type": "markdown",
   "metadata": {},
   "source": [
    "### Count CU\n",
    "\n",
    "Write a function **`count_CU(chars)`** that counts the number of times `CU` appears in a string. You may assume that `chars` is of type `string` and that all characters are in upper case.\n",
    "\n",
    " Examples:  \n",
    " `count_CU('CUBOULDERCUCU')` returns `3`.  \n",
    " `count_CU('THE CULTIVATION OF CUTE CUDDLY CUCUMBER CUBES IS COOL.')` returns `6`.\n",
    " "
   ]
  },
  {
   "cell_type": "code",
   "execution_count": 28,
   "metadata": {},
   "outputs": [
    {
     "data": {
      "text/plain": [
       "3"
      ]
     },
     "execution_count": 28,
     "metadata": {},
     "output_type": "execute_result"
    }
   ],
   "source": [
    "def count_CU(chars):\n",
    "    char_list = []\n",
    "    for i in chars:\n",
    "        char_list.append(i)\n",
    "    cu_list = []\n",
    "    counter = 0\n",
    "    for j in range(len(char_list)):\n",
    "        if chars[j] == 'C' and chars[j+1] == 'U':\n",
    "            counter += 1\n",
    "    return counter\n",
    "count_CU(\"CUBOULDERCUCU\")"
   ]
  },
  {
   "cell_type": "markdown",
   "metadata": {},
   "source": [
    "### Birthday Probability\n",
    "\n",
    "The probability $p$ that a room containing $n$ people has at least two people with the same birthday is:\n",
    " \n",
    " $$p = 1 - \\frac{364}{365}\\cdot \\frac{363}{365}\\cdot \\frac{362}{365} \\cdots \\frac{366-n}{365}.$$\n",
    " \n",
    "(We are assuming that each day of the year is equally probable and that there are 365 possible birthdays. We will discuss this birthday problem in more detail later.)\n",
    "\n",
    "The number of people needed for $p$ to exceed 50% is surprisingly low: 23. Write a function `bday_prob(n)` that calculates $p$ for `n` people. \n",
    "\n",
    "Examples:  \n",
    "`bday_prob(3)` returns `0.008204`.  \n",
    "`bday_prob(23)` returns `0.507297`.\n",
    " \n",
    " "
   ]
  },
  {
   "cell_type": "code",
   "execution_count": 35,
   "metadata": {},
   "outputs": [
    {
     "data": {
      "text/plain": [
       "0.008204165884781345"
      ]
     },
     "execution_count": 35,
     "metadata": {},
     "output_type": "execute_result"
    }
   ],
   "source": [
    "def bday_prob(n):\n",
    "    p = 1\n",
    "    for i in range(n):\n",
    "        p *= ((365 - i) / 365)\n",
    "    return 1 - p\n",
    "bday_prob(3)"
   ]
  },
  {
   "cell_type": "markdown",
   "metadata": {},
   "source": [
    "### Pi Product\n",
    "\n",
    "Calculate the product of the first 100 fractions. \n",
    "\n",
    "$$\\frac{\\pi}{2} = \\frac{2\\cdot 2}{1\\cdot 3}\\cdot \\frac{4\\cdot 4}{3\\cdot 5}\\cdot \\frac{6\\cdot 6}{5\\cdot 7}\\cdots.$$\n",
    "\n",
    "\n",
    "\n",
    "Answer: `1.566894`\n",
    " "
   ]
  },
  {
   "cell_type": "code",
   "execution_count": null,
   "metadata": {},
   "outputs": [],
   "source": []
  },
  {
   "cell_type": "markdown",
   "metadata": {},
   "source": [
    "# Extra Problems"
   ]
  },
  {
   "cell_type": "markdown",
   "metadata": {},
   "source": [
    "### Normalizing Data\n",
    "\n",
    "*Normalize* a list of numbers so that the values range from a minimum of 0 to a maximum of 1.\n",
    "\n",
    "For example the normalization of `[3, 6, 2, 4]` returns `[0.25, 1.0, 0.0, 0.5]` so that the smallest value 2 is now 0, the largest value 6 is now 1, and the remaining values are scaled proportionally."
   ]
  },
  {
   "cell_type": "markdown",
   "metadata": {},
   "source": [
    "### Fibonacci Sequence\n",
    "\n",
    "In the *Fibonacci sequence* $1,1,2,3,5,8,\\ldots$, each term is the sum of the previous two terms. For example the next term in the sequence is $13=5+8$. Write a function **`fibonacci_seq(n)`** that returns a list containing the first `n` Fiboonacci numbers. Assume that `n` is a positive `int`. (Do not use Binet's formula or recursion.)"
   ]
  }
 ],
 "metadata": {
  "kernelspec": {
   "display_name": "Python 3",
   "language": "python",
   "name": "python3"
  },
  "language_info": {
   "codemirror_mode": {
    "name": "ipython",
    "version": 3
   },
   "file_extension": ".py",
   "mimetype": "text/x-python",
   "name": "python",
   "nbconvert_exporter": "python",
   "pygments_lexer": "ipython3",
   "version": "3.6.5"
  }
 },
 "nbformat": 4,
 "nbformat_minor": 2
}
