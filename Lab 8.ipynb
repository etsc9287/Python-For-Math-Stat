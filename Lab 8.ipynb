{
 "cells": [
  {
   "cell_type": "markdown",
   "metadata": {},
   "source": [
    "# Lab 8"
   ]
  },
  {
   "cell_type": "markdown",
   "metadata": {},
   "source": [
    "### Roots\n",
    "Use **f-strings** to print a table like the following which shows the square root and cube root values for the first 10 positive integers.\n",
    " \n",
    " ```\n",
    "  n     Square root   Cube root\n",
    "________________________________\n",
    "  1       1.0000       1.0000\n",
    "  2       1.4142       1.2599\n",
    "  3       1.7321       1.4422\n",
    "  4       2.0000       1.5874\n",
    "  5       2.2361       1.7100\n",
    "  6       2.4495       1.8171\n",
    "  7       2.6458       1.9129\n",
    "  8       2.8284       2.0000\n",
    "  9       3.0000       2.0801\n",
    " 10       3.1623       2.1544\n",
    " ```"
   ]
  },
  {
   "cell_type": "code",
   "execution_count": 1,
   "metadata": {},
   "outputs": [
    {
     "name": "stdout",
     "output_type": "stream",
     "text": [
      "  n   Square root  Cube root\n",
      " ___________________________\n",
      "  1     1.0000      1.0000\n",
      "  2     1.4142      1.2599\n",
      "  3     1.7321      1.4422\n",
      "  4     2.0000      1.5874\n",
      "  5     2.2361      1.7100\n",
      "  6     2.4495      1.8171\n",
      "  7     2.6458      1.9129\n",
      "  8     2.8284      2.0000\n",
      "  9     3.0000      2.0801\n",
      " 10     3.1623      2.1544\n"
     ]
    }
   ],
   "source": [
    "import math as m\n",
    "\n",
    "print(\"  n   Square root  Cube root\")\n",
    "print(\" ___________________________\")\n",
    "for n in range(1,11):\n",
    "    print(f' {n:2d}     {m.sqrt(n):.4f}      {n**(1/3):.4f}')"
   ]
  },
  {
   "cell_type": "markdown",
   "metadata": {},
   "source": [
    "### Roll 6\n",
    "Use a **`while` loop** to write a function **`roll_6()`** that simulates the roll of a die, printing the results in a row until a 6 appears.\n",
    "\n",
    "Example:  \n",
    "`roll_6()` might display `4 6`.  \n",
    "`roll_6()` might display `2 2 3 2 3 5 5 1 4 2 6`."
   ]
  },
  {
   "cell_type": "code",
   "execution_count": 5,
   "metadata": {},
   "outputs": [
    {
     "name": "stdout",
     "output_type": "stream",
     "text": [
      "1 5 3 4 4 1 2 2 3 4 2 6 "
     ]
    }
   ],
   "source": [
    "import random\n",
    "\n",
    "def roll_6():\n",
    "    roll_die = 0\n",
    "    while roll_die != 6:\n",
    "        roll_die = random.randint(1,6)\n",
    "        print(roll_die, end = \" \")\n",
    "roll_6()"
   ]
  },
  {
   "cell_type": "markdown",
   "metadata": {},
   "source": [
    "### Coin HH\n",
    "Use a **`while` loop** to write a function **coin_HH()** that simulates the flip of a coin, printing the results in a row until two consecutive heads appear.\n",
    "\n",
    "`coin_HH()` might display `T H H`.  \n",
    "`coin_HH()` might display `H T T H T T H T H T H H`."
   ]
  },
  {
   "cell_type": "code",
   "execution_count": 31,
   "metadata": {},
   "outputs": [
    {
     "name": "stdout",
     "output_type": "stream",
     "text": [
      "H T T H T H H "
     ]
    }
   ],
   "source": [
    "def coin_HH():\n",
    "    i = \"\"\n",
    "    temp = \" \"\n",
    "    while(i != temp or i == \"T\"):\n",
    "        temp = i\n",
    "        i = random.choice([\"T\",\"H\"])\n",
    "        print(i, end = \" \")\n",
    "        \n",
    "coin_HH()"
   ]
  },
  {
   "cell_type": "markdown",
   "metadata": {},
   "source": [
    "### Guess a Number\n",
    "Write a number-guessing game called **`guess(maxnum, ntries)`** that asks the user to guess a secret number from 1 to $n$ which your program will randomly choose in advance. The game continues until the user correctly guesses the number or the maximum number of tries is reached. Assume that `maxnum` and `ntries` are positive `int`s. Here is a sample transcript for `guess(5, 3)`:\n",
    "\n",
    " ```\n",
    " Guess a number from 1 to 5: 3  \n",
    " Guess a number from 1 to 5: 4  \n",
    " Correct!\n",
    " ```\n",
    " and another:\n",
    " \n",
    " ```\n",
    " Guess a number from 1 to 5: 5\n",
    " Guess a number from 1 to 5: 1\n",
    " Guess a number from 1 to 5: 3\n",
    " Sorry, my number was 2.\n",
    " ```\n",
    " "
   ]
  },
  {
   "cell_type": "markdown",
   "metadata": {},
   "source": [
    " Write a variation of this game called **`guess_hi_lo(maxnum, ntries)`**. This version helps the user by indicating whether an incorrect guess is too high or low. Here is a sample transcript for `guess_hi_lo(10, 3)`:\n",
    "\n",
    " ```\n",
    " Guess a number from 1 to 10: 5  \n",
    " Too low. \n",
    " Guess a number from 1 to 10: 8  \n",
    " Too high. \n",
    " Guess a number from 1 to 10: 6  \n",
    " Correct!\n",
    " ```"
   ]
  },
  {
   "cell_type": "markdown",
   "metadata": {},
   "source": [
    "### Benford's Law\n",
    "This law is based on the frequency distribution of the first digits of many datasets which is not evenly distributed. The digit $1$ appears most frequently, followed by the digit $2$, and so on. In fact the frequencies correspond to a logarithmic scale.\n",
    "\n",
    "This pattern can be found in stock prices, house prices, molecular weights, and physical constants.  Let's check to see if this observation applies to the populations of 3000+ U.S, counties. Read in the file 'counties-pop-2018.txt' which lists each population on a separate line. Examine the first digit of each population. Create a bar chart showing the frequency of each first digit as a **percentage**.\n",
    "\n",
    "<img src=\"https://spot.colorado.edu/~sschang/python/benford.png\" />"
   ]
  },
  {
   "cell_type": "markdown",
   "metadata": {},
   "source": [
    "### Extra Problems\n",
    "\n",
    "### Robot\n",
    "Suppose a robot begins in the center square of the $3\\times 3$ grid shown below and moves one square at a time according to the instructions 'U', 'D', 'L', or 'R', which correspond to up, down, left, or right, respectively.\n",
    "\n",
    " <img src=\"https://spot.colorado.edu/~sschang/python/grid3x3.jpg\" width=\"100\" />\n",
    " \n",
    " Write a function **`robot3x3(moves)`** that takes a string of moves and returns the `(row, column)` of the final position of the robot. Assume that the row indices are $0, 1, 2$, as are the column indices. A move that would take the robot off the board would instead wrap around to the other side of the board.\n",
    " \n",
    " Examples:  \n",
    " `robot3x3('RULLD')` returns `(1,0)` which corresponds to the left square in the second row.   \n",
    " `robot3x3('DD')` returns `(0, 1)` which corresponds to the middle square in the top row.   \n",
    " `robot3x3('RUURUL')` returns `(1, 2)`."
   ]
  }
 ],
 "metadata": {
  "kernelspec": {
   "display_name": "Python 3",
   "language": "python",
   "name": "python3"
  },
  "language_info": {
   "codemirror_mode": {
    "name": "ipython",
    "version": 3
   },
   "file_extension": ".py",
   "mimetype": "text/x-python",
   "name": "python",
   "nbconvert_exporter": "python",
   "pygments_lexer": "ipython3",
   "version": "3.6.5"
  }
 },
 "nbformat": 4,
 "nbformat_minor": 2
}
