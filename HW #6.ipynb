{
 "cells": [
  {
   "cell_type": "markdown",
   "metadata": {},
   "source": [
    "Python for Math and Stat: Homework #6 by Ethan Schacht"
   ]
  },
  {
   "cell_type": "code",
   "execution_count": 36,
   "metadata": {},
   "outputs": [],
   "source": [
    "import math as m\n",
    "import matplotlib.pyplot as plt\n",
    "import random as r"
   ]
  },
  {
   "cell_type": "markdown",
   "metadata": {},
   "source": [
    "Problem 1: Sets of multiples of 3 and 5"
   ]
  },
  {
   "cell_type": "code",
   "execution_count": 2,
   "metadata": {},
   "outputs": [],
   "source": [
    "set3 = set([i for i in range(1,100) if i % 3 == 0])\n",
    "set5 = set([i for i in range(1,100) if i % 5 == 0])\n",
    "\n",
    "set3and5 = set3 & set5\n",
    "set3or5 = set3 | set5\n",
    "set3not5 = set([i for i in range(1,100) if i % 3 == 0 and i % 5 != 0])"
   ]
  },
  {
   "cell_type": "markdown",
   "metadata": {},
   "source": [
    "Problem 2: Read numbers.txt and sum the numbers"
   ]
  },
  {
   "cell_type": "code",
   "execution_count": 4,
   "metadata": {},
   "outputs": [
    {
     "data": {
      "text/plain": [
       "506037476"
      ]
     },
     "execution_count": 4,
     "metadata": {},
     "output_type": "execute_result"
    }
   ],
   "source": [
    "with open('numbers.txt') as fp: \n",
    "    nums = fp.read()\n",
    "    \n",
    "splitted_nums = nums.split()\n",
    "\n",
    "numbers_sum = sum([int(i) for i in splitted_nums])\n",
    "numbers_sum"
   ]
  },
  {
   "cell_type": "markdown",
   "metadata": {},
   "source": [
    "Problem 3.1: Gets the number of words in the file"
   ]
  },
  {
   "cell_type": "code",
   "execution_count": 5,
   "metadata": {},
   "outputs": [],
   "source": [
    "with open('wordlist.txt') as fp: \n",
    "    words = fp.read()\n",
    "split_words = words.splitlines()"
   ]
  },
  {
   "cell_type": "code",
   "execution_count": 6,
   "metadata": {},
   "outputs": [
    {
     "data": {
      "text/plain": [
       "7776"
      ]
     },
     "execution_count": 6,
     "metadata": {},
     "output_type": "execute_result"
    }
   ],
   "source": [
    "words_ct = 0\n",
    "for i in split_words:\n",
    "    words_ct += 1\n",
    "words_ct"
   ]
  },
  {
   "cell_type": "markdown",
   "metadata": {},
   "source": [
    "Problem 3.2: Gets the number of letters in the file"
   ]
  },
  {
   "cell_type": "code",
   "execution_count": 7,
   "metadata": {},
   "outputs": [
    {
     "data": {
      "text/plain": [
       "54368"
      ]
     },
     "execution_count": 7,
     "metadata": {},
     "output_type": "execute_result"
    }
   ],
   "source": [
    "freq_list = []\n",
    "for word in split_words:\n",
    "    counter = 0\n",
    "    for i in word:\n",
    "        counter += 1\n",
    "    freq_list.append(counter)\n",
    "letters_ct = sum(freq_list)\n",
    "letters_ct"
   ]
  },
  {
   "cell_type": "markdown",
   "metadata": {},
   "source": [
    "Problem 3.3: Gets number of three letter words"
   ]
  },
  {
   "cell_type": "code",
   "execution_count": 8,
   "metadata": {},
   "outputs": [
    {
     "data": {
      "text/plain": [
       "82"
      ]
     },
     "execution_count": 8,
     "metadata": {},
     "output_type": "execute_result"
    }
   ],
   "source": [
    "three_let = []\n",
    "letters3_ct = 0\n",
    "for i in freq_list:\n",
    "    if i == 3:\n",
    "        letters3_ct += 1\n",
    "letters3_ct"
   ]
  },
  {
   "cell_type": "markdown",
   "metadata": {},
   "source": [
    "Problem 3.4: Gets number of words where first letter is the same as the last"
   ]
  },
  {
   "cell_type": "code",
   "execution_count": 9,
   "metadata": {},
   "outputs": [
    {
     "data": {
      "text/plain": [
       "403"
      ]
     },
     "execution_count": 9,
     "metadata": {},
     "output_type": "execute_result"
    }
   ],
   "source": [
    "begin_end_words = []\n",
    "for word in split_words:\n",
    "    for i in range(len(word)):\n",
    "        if word[0] == word[len(word) - 1]:\n",
    "            begin_end_words.append(word)\n",
    "distinct_words = list(set(begin_end_words)) #makes list of distinct words due to repeats caused by outer loop (num repeats of the word = num characters in the word)\n",
    "begin_end_ct = 0\n",
    "for i in distinct_words:\n",
    "    begin_end_ct += 1\n",
    "begin_end_ct"
   ]
  },
  {
   "cell_type": "markdown",
   "metadata": {},
   "source": [
    "Problem 3.5: Gets number of words containing \"cu\""
   ]
  },
  {
   "cell_type": "code",
   "execution_count": 10,
   "metadata": {},
   "outputs": [
    {
     "data": {
      "text/plain": [
       "124"
      ]
     },
     "execution_count": 10,
     "metadata": {},
     "output_type": "execute_result"
    }
   ],
   "source": [
    "cu_list = []\n",
    "for word in split_words: #I don't understand why I'm not getting repeats here as opposed to the previous problem as the method is the same\n",
    "    for i in range(len(word)):\n",
    "        if word[i - 1] == \"c\" and word[i] == \"u\":\n",
    "            cu_list.append(word)\n",
    "cu_ct = 0\n",
    "for i in cu_list:\n",
    "    cu_ct += 1\n",
    "cu_ct"
   ]
  },
  {
   "cell_type": "markdown",
   "metadata": {},
   "source": [
    "Problem 3.6: Gets number of words that are palindromes"
   ]
  },
  {
   "cell_type": "code",
   "execution_count": 11,
   "metadata": {},
   "outputs": [
    {
     "data": {
      "text/plain": [
       "10"
      ]
     },
     "execution_count": 11,
     "metadata": {},
     "output_type": "execute_result"
    }
   ],
   "source": [
    "def reverse(word):\n",
    "    rev_list = []\n",
    "    for i in range(len(word)):\n",
    "        rev_list.append(word[len(word) - 1 - i])\n",
    "    return rev_list\n",
    "\n",
    "pal_list = []\n",
    "for word in split_words:\n",
    "    if reverse(word) == list(word):\n",
    "        pal_list.append(word)\n",
    "pal_ct = 0\n",
    "for i in pal_list:\n",
    "    pal_ct += 1\n",
    "pal_ct"
   ]
  },
  {
   "cell_type": "markdown",
   "metadata": {},
   "source": [
    "Problem 3.7: This function returns a list of frequencies of words for each first letter"
   ]
  },
  {
   "cell_type": "code",
   "execution_count": 12,
   "metadata": {},
   "outputs": [
    {
     "data": {
      "text/plain": [
       "[1, 0, 1, 1, 0, 0, 0, 0, 0, 0, 0, 0, 0, 0, 0, 0, 0, 0, 0, 0, 0, 0, 0, 0, 0, 1]"
      ]
     },
     "execution_count": 12,
     "metadata": {},
     "output_type": "execute_result"
    }
   ],
   "source": [
    "def first_letter_freq(words):\n",
    "    first_letters = [chr(i) for i in range(97,123)]\n",
    "    freq_list = []\n",
    "    for i in first_letters:\n",
    "        letter_counter = 0\n",
    "        for word in words:\n",
    "            if word[0] == i:\n",
    "                letter_counter += 1\n",
    "        freq_list.append(letter_counter)\n",
    "    return freq_list\n",
    "first_letter_freq([\"all\", \"cat\", \"dog\", \"zoo\"])"
   ]
  },
  {
   "cell_type": "markdown",
   "metadata": {},
   "source": [
    "Now we will plug wordlist.txt into this function and graph the results"
   ]
  },
  {
   "cell_type": "code",
   "execution_count": null,
   "metadata": {},
   "outputs": [],
   "source": [
    "x_vals = [chr(i) for i in range(97,123)]\n",
    "y_vals = first_letter_freq(split_words)\n",
    "\n",
    "plt.bar(x_vals, y_vals)\n",
    "plt.xlabel(\"Letter\")\n",
    "plt.ylabel(\"Frequency\")\n",
    "plt.title(\"First Letter Frequencies in wordlist.txt\")\n",
    "plt.show()"
   ]
  },
  {
   "cell_type": "markdown",
   "metadata": {},
   "source": [
    "Problem 4: This function returns a dictionary where each key is a letter and the value is the frequency of that letter in \"alice.txt\""
   ]
  },
  {
   "cell_type": "code",
   "execution_count": 38,
   "metadata": {},
   "outputs": [
    {
     "data": {
      "text/plain": [
       "[0, 0, 1, 0, 0, 0, 0, 0, 0, 0, 0, 0, 0, 0, 0, 0, 0, 0, 0, 0, 0, 0, 0, 0, 0, 0]"
      ]
     },
     "execution_count": 38,
     "metadata": {},
     "output_type": "execute_result"
    }
   ],
   "source": [
    "def letter_freq_upper(list_words):\n",
    "    letters = [chr(i) for i in range(65, 91)]\n",
    "    freq_list = []\n",
    "    for i in letters:\n",
    "        letter_counter = 0\n",
    "        for word in list_words:\n",
    "            for letter in word:\n",
    "                if letter == i:\n",
    "                    letter_counter += 1\n",
    "        freq_list.append(letter_counter)\n",
    "    return freq_list\n",
    "first_letter_freq_upper([\"Cat\"])"
   ]
  },
  {
   "cell_type": "code",
   "execution_count": 39,
   "metadata": {},
   "outputs": [
    {
     "data": {
      "text/plain": [
       "{'A': 8825,\n",
       " 'B': 1482,\n",
       " 'C': 2421,\n",
       " 'D': 4940,\n",
       " 'E': 13618,\n",
       " 'F': 2003,\n",
       " 'G': 2534,\n",
       " 'H': 7396,\n",
       " 'I': 7543,\n",
       " 'J': 146,\n",
       " 'K': 1159,\n",
       " 'L': 4732,\n",
       " 'M': 2110,\n",
       " 'N': 7026,\n",
       " 'O': 8160,\n",
       " 'P': 1543,\n",
       " 'Q': 212,\n",
       " 'R': 5467,\n",
       " 'S': 6513,\n",
       " 'T': 10727,\n",
       " 'U': 3475,\n",
       " 'V': 853,\n",
       " 'W': 2678,\n",
       " 'X': 152,\n",
       " 'Y': 2265,\n",
       " 'Z': 78}"
      ]
     },
     "execution_count": 39,
     "metadata": {},
     "output_type": "execute_result"
    }
   ],
   "source": [
    "def letter_freq(file):\n",
    "    with open(file) as fp: \n",
    "        alice = fp.read()\n",
    "    alice = alice.split()\n",
    "    alice = [word.upper() for word in alice]\n",
    "    \n",
    "    letters = [chr(i) for i in range(65, 91)]\n",
    "    alice_freq = letter_freq_upper(alice)\n",
    "    \n",
    "    return dict(zip(letters, alice_freq))\n",
    "\n",
    "letter_freq(\"alice2.txt\")"
   ]
  },
  {
   "cell_type": "markdown",
   "metadata": {},
   "source": [
    "Now the results will be graphed"
   ]
  },
  {
   "cell_type": "code",
   "execution_count": 53,
   "metadata": {},
   "outputs": [
    {
     "data": {
      "image/png": "[encoded data removed]",
      "text/plain": [
       "<Figure size 432x288 with 1 Axes>"
      ]
     },
     "metadata": {},
     "output_type": "display_data"
    }
   ],
   "source": [
    "x_vals = [\"E\",\"T\",\"A\",\"O\",\"I\",\"H\",\"N\",\"S\",\"R\",\"D\",\"L\",\"U\",\"W\",\"G\",\"C\",\"Y\",\"M\",\"F\",\"P\",\"B\",\"K\",\"V\",\"Q\",\"X\",\"J\",\"Z\"]\n",
    "y_vals = sorted(letter_freq(\"alice2.txt\").values())\n",
    "y_vals.reverse()\n",
    "plt.bar(x_vals, y_vals)\n",
    "plt.show()"
   ]
  },
  {
   "cell_type": "markdown",
   "metadata": {},
   "source": [
    "Challenge Problem: Make the caesar and uncaesar shift functions"
   ]
  },
  {
   "cell_type": "code",
   "execution_count": 9,
   "metadata": {},
   "outputs": [
    {
     "data": {
      "text/plain": [
       "'SDCI SGXCZ PCS STGXKT.'"
      ]
     },
     "execution_count": 9,
     "metadata": {},
     "output_type": "execute_result"
    }
   ],
   "source": [
    "def caesar(text, shift):\n",
    "    encoded_txt = []\n",
    "    for letter in text:\n",
    "        if ord(letter) >= 65 and ord(letter) <= 90:\n",
    "            if ord(letter) + shift <= 90:\n",
    "                encoded_txt.append(chr(ord(letter) + shift))\n",
    "            else:\n",
    "                encoded_txt.append(chr(ord(letter) + shift - 26))\n",
    "        else:\n",
    "            encoded_txt.append(letter)\n",
    "    message = \"\"\n",
    "    for letter in encoded_txt:\n",
    "        message += letter\n",
    "        \n",
    "    return message\n",
    "\n",
    "caesar(\"DONT DRINK AND DERIVE.\", 15)"
   ]
  },
  {
   "cell_type": "code",
   "execution_count": 14,
   "metadata": {},
   "outputs": [
    {
     "data": {
      "text/plain": [
       "'DONT DRINK AND DERIVE.'"
      ]
     },
     "execution_count": 14,
     "metadata": {},
     "output_type": "execute_result"
    }
   ],
   "source": [
    "def uncaesar(text, shift):\n",
    "    encoded_txt = []\n",
    "    for letter in text:\n",
    "        if ord(letter) >= 65 and ord(letter) <= 90:\n",
    "            if ord(letter) - shift >= 65:\n",
    "                encoded_txt.append(chr(ord(letter) - shift))\n",
    "            else:\n",
    "                encoded_txt.append(chr(ord(letter) - shift + 26))\n",
    "        else:\n",
    "            encoded_txt.append(letter)\n",
    "    message = \"\"\n",
    "    for letter in encoded_txt:\n",
    "        message += letter\n",
    "        \n",
    "    return message\n",
    "\n",
    "uncaesar(\"SDCI SGXCZ PCS STGXKT.\", 15)"
   ]
  },
  {
   "cell_type": "markdown",
   "metadata": {},
   "source": [
    "Challenge Problem pt 2: Decode the mathematicians"
   ]
  },
  {
   "cell_type": "code",
   "execution_count": 18,
   "metadata": {},
   "outputs": [
    {
     "data": {
      "text/plain": [
       "['U TMHQ TMDPXK QHQD WZAIZ M YMFTQYMFUOUMZ ITA IME OMBMNXQ AR DQMEAZUZS',\n",
       " 'T SLGP SLCOWJ PGPC VYZHY L XLESPXLETNTLY HSZ HLD NLALMWP ZQ CPLDZYTYR',\n",
       " 'S RKFO RKBNVI OFOB UXYGX K WKDROWKDSMSKX GRY GKC MKZKLVO YP BOKCYXSXQ',\n",
       " 'R QJEN QJAMUH NENA TWXFW J VJCQNVJCRLRJW FQX FJB LJYJKUN XO ANJBXWRWP',\n",
       " 'Q PIDM PIZLTG MDMZ SVWEV I UIBPMUIBQKQIV EPW EIA KIXIJTM WN ZMIAWVQVO',\n",
       " 'P OHCL OHYKSF LCLY RUVDU H THAOLTHAPJPHU DOV DHZ JHWHISL VM YLHZVUPUN',\n",
       " 'O NGBK NGXJRE KBKX QTUCT G SGZNKSGZOIOGT CNU CGY IGVGHRK UL XKGYUTOTM',\n",
       " 'N MFAJ MFWIQD JAJW PSTBS F RFYMJRFYNHNFS BMT BFX HFUFGQJ TK WJFXTSNSL',\n",
       " 'M LEZI LEVHPC IZIV ORSAR E QEXLIQEXMGMER ALS AEW GETEFPI SJ VIEWSRMRK',\n",
       " 'L KDYH KDUGOB HYHU NQRZQ D PDWKHPDWLFLDQ ZKR ZDV FDSDEOH RI UHDVRQLQJ',\n",
       " 'K JCXG JCTFNA GXGT MPQYP C OCVJGOCVKEKCP YJQ YCU ECRCDNG QH TGCUQPKPI',\n",
       " 'J IBWF IBSEMZ FWFS LOPXO B NBUIFNBUJDJBO XIP XBT DBQBCMF PG SFBTPOJOH',\n",
       " 'I HAVE HARDLY EVER KNOWN A MATHEMATICIAN WHO WAS CAPABLE OF REASONING',\n",
       " 'H GZUD GZQCKX DUDQ JMNVM Z LZSGDLZSHBHZM VGN VZR BZOZAKD NE QDZRNMHMF',\n",
       " 'G FYTC FYPBJW CTCP ILMUL Y KYRFCKYRGAGYL UFM UYQ AYNYZJC MD PCYQMLGLE',\n",
       " 'F EXSB EXOAIV BSBO HKLTK X JXQEBJXQFZFXK TEL TXP ZXMXYIB LC OBXPLKFKD',\n",
       " 'E DWRA DWNZHU ARAN GJKSJ W IWPDAIWPEYEWJ SDK SWO YWLWXHA KB NAWOKJEJC',\n",
       " 'D CVQZ CVMYGT ZQZM FIJRI V HVOCZHVODXDVI RCJ RVN XVKVWGZ JA MZVNJIDIB',\n",
       " 'C BUPY BULXFS YPYL EHIQH U GUNBYGUNCWCUH QBI QUM WUJUVFY IZ LYUMIHCHA',\n",
       " 'B ATOX ATKWER XOXK DGHPG T FTMAXFTMBVBTG PAH PTL VTITUEX HY KXTLHGBGZ',\n",
       " 'A ZSNW ZSJVDQ WNWJ CFGOF S ESLZWESLAUASF OZG OSK USHSTDW GX JWSKGFAFY',\n",
       " 'Z YRMV YRIUCP VMVI BEFNE R DRKYVDRKZTZRE NYF NRJ TRGRSCV FW IVRJFEZEX',\n",
       " 'Y XQLU XQHTBO ULUH ADEMD Q CQJXUCQJYSYQD MXE MQI SQFQRBU EV HUQIEDYDW',\n",
       " 'X WPKT WPGSAN TKTG ZCDLC P BPIWTBPIXRXPC LWD LPH RPEPQAT DU GTPHDCXCV',\n",
       " 'W VOJS VOFRZM SJSF YBCKB O AOHVSAOHWQWOB KVC KOG QODOPZS CT FSOGCBWBU',\n",
       " 'V UNIR UNEQYL RIRE XABJA N ZNGURZNGVPVNA JUB JNF PNCNOYR BS ERNFBAVAT']"
      ]
     },
     "execution_count": 18,
     "metadata": {},
     "output_type": "execute_result"
    }
   ],
   "source": [
    "[uncaesar(\"V UNIR UNEQYL RIRE XABJA N ZNGURZNGVPVNA JUB JNF PNCNOYR BS ERNFBAVAT\", i) for i in range(1,27)]\n",
    "\n",
    "# 'I HAVE HARDLY EVER KNOWN A MATHEMATICIAN WHO WAS CAPABLE OF REASONING'"
   ]
  },
  {
   "cell_type": "code",
   "execution_count": 19,
   "metadata": {},
   "outputs": [
    {
     "data": {
      "text/plain": [
       "['FUHVUSJ DKCRUHI BYAU FUHVUSJ CUD QHU LUHO HQHU',\n",
       " 'ETGUTRI CJBQTGH AXZT ETGUTRI BTC PGT KTGN GPGT',\n",
       " 'DSFTSQH BIAPSFG ZWYS DSFTSQH ASB OFS JSFM FOFS',\n",
       " 'CRESRPG AHZOREF YVXR CRESRPG ZRA NER IREL ENER',\n",
       " 'BQDRQOF ZGYNQDE XUWQ BQDRQOF YQZ MDQ HQDK DMDQ',\n",
       " 'APCQPNE YFXMPCD WTVP APCQPNE XPY LCP GPCJ CLCP',\n",
       " 'ZOBPOMD XEWLOBC VSUO ZOBPOMD WOX KBO FOBI BKBO',\n",
       " 'YNAONLC WDVKNAB URTN YNAONLC VNW JAN ENAH AJAN',\n",
       " 'XMZNMKB VCUJMZA TQSM XMZNMKB UMV IZM DMZG ZIZM',\n",
       " 'WLYMLJA UBTILYZ SPRL WLYMLJA TLU HYL CLYF YHYL',\n",
       " 'VKXLKIZ TASHKXY ROQK VKXLKIZ SKT GXK BKXE XGXK',\n",
       " 'UJWKJHY SZRGJWX QNPJ UJWKJHY RJS FWJ AJWD WFWJ',\n",
       " 'TIVJIGX RYQFIVW PMOI TIVJIGX QIR EVI ZIVC VEVI',\n",
       " 'SHUIHFW QXPEHUV OLNH SHUIHFW PHQ DUH YHUB UDUH',\n",
       " 'RGTHGEV PWODGTU NKMG RGTHGEV OGP CTG XGTA TCTG',\n",
       " 'QFSGFDU OVNCFST MJLF QFSGFDU NFO BSF WFSZ SBSF',\n",
       " 'PERFECT NUMBERS LIKE PERFECT MEN ARE VERY RARE',\n",
       " 'ODQEDBS MTLADQR KHJD ODQEDBS LDM ZQD UDQX QZQD',\n",
       " 'NCPDCAR LSKZCPQ JGIC NCPDCAR KCL YPC TCPW PYPC',\n",
       " 'MBOCBZQ KRJYBOP IFHB MBOCBZQ JBK XOB SBOV OXOB',\n",
       " 'LANBAYP JQIXANO HEGA LANBAYP IAJ WNA RANU NWNA',\n",
       " 'KZMAZXO IPHWZMN GDFZ KZMAZXO HZI VMZ QZMT MVMZ',\n",
       " 'JYLZYWN HOGVYLM FCEY JYLZYWN GYH ULY PYLS LULY',\n",
       " 'IXKYXVM GNFUXKL EBDX IXKYXVM FXG TKX OXKR KTKX',\n",
       " 'HWJXWUL FMETWJK DACW HWJXWUL EWF SJW NWJQ JSJW',\n",
       " 'GVIWVTK ELDSVIJ CZBV GVIWVTK DVE RIV MVIP IRIV']"
      ]
     },
     "execution_count": 19,
     "metadata": {},
     "output_type": "execute_result"
    }
   ],
   "source": [
    "[uncaesar(\"GVIWVTK ELDSVIJ CZBV GVIWVTK DVE RIV MVIP IRIV\", i) for i in range(1,27)]\n",
    "\n",
    "# 'PERFECT NUMBERS LIKE PERFECT MEN ARE VERY RARE'"
   ]
  },
  {
   "cell_type": "code",
   "execution_count": 20,
   "metadata": {},
   "outputs": [
    {
     "data": {
      "text/plain": [
       "['FQ FP KLQ ZBOQXFK QEXQ BSBOVQEFKD FP RKZBOQXFK',\n",
       " 'EP EO JKP YANPWEJ PDWP ARANUPDEJC EO QJYANPWEJ',\n",
       " 'DO DN IJO XZMOVDI OCVO ZQZMTOCDIB DN PIXZMOVDI',\n",
       " 'CN CM HIN WYLNUCH NBUN YPYLSNBCHA CM OHWYLNUCH',\n",
       " 'BM BL GHM VXKMTBG MATM XOXKRMABGZ BL NGVXKMTBG',\n",
       " 'AL AK FGL UWJLSAF LZSL WNWJQLZAFY AK MFUWJLSAF',\n",
       " 'ZK ZJ EFK TVIKRZE KYRK VMVIPKYZEX ZJ LETVIKRZE',\n",
       " 'YJ YI DEJ SUHJQYD JXQJ ULUHOJXYDW YI KDSUHJQYD',\n",
       " 'XI XH CDI RTGIPXC IWPI TKTGNIWXCV XH JCRTGIPXC',\n",
       " 'WH WG BCH QSFHOWB HVOH SJSFMHVWBU WG IBQSFHOWB',\n",
       " 'VG VF ABG PREGNVA GUNG RIRELGUVAT VF HAPREGNVA',\n",
       " 'UF UE ZAF OQDFMUZ FTMF QHQDKFTUZS UE GZOQDFMUZ',\n",
       " 'TE TD YZE NPCELTY ESLE PGPCJESTYR TD FYNPCELTY',\n",
       " 'SD SC XYD MOBDKSX DRKD OFOBIDRSXQ SC EXMOBDKSX',\n",
       " 'RC RB WXC LNACJRW CQJC NENAHCQRWP RB DWLNACJRW',\n",
       " 'QB QA VWB KMZBIQV BPIB MDMZGBPQVO QA CVKMZBIQV',\n",
       " 'PA PZ UVA JLYAHPU AOHA LCLYFAOPUN PZ BUJLYAHPU',\n",
       " 'OZ OY TUZ IKXZGOT ZNGZ KBKXEZNOTM OY ATIKXZGOT',\n",
       " 'NY NX STY HJWYFNS YMFY JAJWDYMNSL NX ZSHJWYFNS',\n",
       " 'MX MW RSX GIVXEMR XLEX IZIVCXLMRK MW YRGIVXEMR',\n",
       " 'LW LV QRW FHUWDLQ WKDW HYHUBWKLQJ LV XQFHUWDLQ',\n",
       " 'KV KU PQV EGTVCKP VJCV GXGTAVJKPI KU WPEGTVCKP',\n",
       " 'JU JT OPU DFSUBJO UIBU FWFSZUIJOH JT VODFSUBJO',\n",
       " 'IT IS NOT CERTAIN THAT EVERYTHING IS UNCERTAIN',\n",
       " 'HS HR MNS BDQSZHM SGZS DUDQXSGHMF HR TMBDQSZHM',\n",
       " 'GR GQ LMR ACPRYGL RFYR CTCPWRFGLE GQ SLACPRYGL']"
      ]
     },
     "execution_count": 20,
     "metadata": {},
     "output_type": "execute_result"
    }
   ],
   "source": [
    "[uncaesar(\"GR GQ LMR ACPRYGL RFYR CTCPWRFGLE GQ SLACPRYGL\", i) for i in range(1,27)]\n",
    "\n",
    "# 'IT IS NOT CERTAIN THAT EVERYTHING IS UNCERTAIN'"
   ]
  },
  {
   "cell_type": "code",
   "execution_count": 22,
   "metadata": {},
   "outputs": [
    {
     "data": {
      "text/plain": [
       "['VS BAYL V UNQ GUR GURBERZF! GURA V FUBHYQ SVAQ GUR CEBBSF RNFVYL RABHTU',\n",
       " 'UR AZXK U TMP FTQ FTQADQYE! FTQZ U ETAGXP RUZP FTQ BDAARE QMEUXK QZAGST',\n",
       " 'TQ ZYWJ T SLO ESP ESPZCPXD! ESPY T DSZFWO QTYO ESP ACZZQD PLDTWJ PYZFRS',\n",
       " 'SP YXVI S RKN DRO DROYBOWC! DROX S CRYEVN PSXN DRO ZBYYPC OKCSVI OXYEQR',\n",
       " 'RO XWUH R QJM CQN CQNXANVB! CQNW R BQXDUM ORWM CQN YAXXOB NJBRUH NWXDPQ',\n",
       " 'QN WVTG Q PIL BPM BPMWZMUA! BPMV Q APWCTL NQVL BPM XZWWNA MIAQTG MVWCOP',\n",
       " 'PM VUSF P OHK AOL AOLVYLTZ! AOLU P ZOVBSK MPUK AOL WYVVMZ LHZPSF LUVBNO',\n",
       " 'OL UTRE O NGJ ZNK ZNKUXKSY! ZNKT O YNUARJ LOTJ ZNK VXUULY KGYORE KTUAMN',\n",
       " 'NK TSQD N MFI YMJ YMJTWJRX! YMJS N XMTZQI KNSI YMJ UWTTKX JFXNQD JSTZLM',\n",
       " 'MJ SRPC M LEH XLI XLISVIQW! XLIR M WLSYPH JMRH XLI TVSSJW IEWMPC IRSYKL',\n",
       " 'LI RQOB L KDG WKH WKHRUHPV! WKHQ L VKRXOG ILQG WKH SURRIV HDVLOB HQRXJK',\n",
       " 'KH QPNA K JCF VJG VJGQTGOU! VJGP K UJQWNF HKPF VJG RTQQHU GCUKNA GPQWIJ',\n",
       " 'JG POMZ J IBE UIF UIFPSFNT! UIFO J TIPVME GJOE UIF QSPPGT FBTJMZ FOPVHI',\n",
       " 'IF ONLY I HAD THE THEOREMS! THEN I SHOULD FIND THE PROOFS EASILY ENOUGH',\n",
       " 'HE NMKX H GZC SGD SGDNQDLR! SGDM H RGNTKC EHMC SGD OQNNER DZRHKX DMNTFG',\n",
       " 'GD MLJW G FYB RFC RFCMPCKQ! RFCL G QFMSJB DGLB RFC NPMMDQ CYQGJW CLMSEF',\n",
       " 'FC LKIV F EXA QEB QEBLOBJP! QEBK F PELRIA CFKA QEB MOLLCP BXPFIV BKLRDE',\n",
       " 'EB KJHU E DWZ PDA PDAKNAIO! PDAJ E ODKQHZ BEJZ PDA LNKKBO AWOEHU AJKQCD',\n",
       " 'DA JIGT D CVY OCZ OCZJMZHN! OCZI D NCJPGY ADIY OCZ KMJJAN ZVNDGT ZIJPBC',\n",
       " 'CZ IHFS C BUX NBY NBYILYGM! NBYH C MBIOFX ZCHX NBY JLIIZM YUMCFS YHIOAB',\n",
       " 'BY HGER B ATW MAX MAXHKXFL! MAXG B LAHNEW YBGW MAX IKHHYL XTLBER XGHNZA',\n",
       " 'AX GFDQ A ZSV LZW LZWGJWEK! LZWF A KZGMDV XAFV LZW HJGGXK WSKADQ WFGMYZ',\n",
       " 'ZW FECP Z YRU KYV KYVFIVDJ! KYVE Z JYFLCU WZEU KYV GIFFWJ VRJZCP VEFLXY',\n",
       " 'YV EDBO Y XQT JXU JXUEHUCI! JXUD Y IXEKBT VYDT JXU FHEEVI UQIYBO UDEKWX',\n",
       " 'XU DCAN X WPS IWT IWTDGTBH! IWTC X HWDJAS UXCS IWT EGDDUH TPHXAN TCDJVW',\n",
       " 'WT CBZM W VOR HVS HVSCFSAG! HVSB W GVCIZR TWBR HVS DFCCTG SOGWZM SBCIUV']"
      ]
     },
     "execution_count": 22,
     "metadata": {},
     "output_type": "execute_result"
    }
   ],
   "source": [
    "[uncaesar(\"WT CBZM W VOR HVS HVSCFSAG! HVSB W GVCIZR TWBR HVS DFCCTG SOGWZM SBCIUV\", i) for i in range(1,27)]\n",
    "\n",
    "# 'IF ONLY I HAD THE THEOREMS! THEN I SHOULD FIND THE PROOFS EASILY ENOUGH'"
   ]
  },
  {
   "cell_type": "code",
   "execution_count": null,
   "metadata": {},
   "outputs": [],
   "source": []
  }
 ],
 "metadata": {
  "kernelspec": {
   "display_name": "Python 3",
   "language": "python",
   "name": "python3"
  },
  "language_info": {
   "codemirror_mode": {
    "name": "ipython",
    "version": 3
   },
   "file_extension": ".py",
   "mimetype": "text/x-python",
   "name": "python",
   "nbconvert_exporter": "python",
   "pygments_lexer": "ipython3",
   "version": "3.6.5"
  }
 },
 "nbformat": 4,
 "nbformat_minor": 2
}
