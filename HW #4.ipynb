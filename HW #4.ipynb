{
 "cells": [
  {
   "cell_type": "markdown",
   "metadata": {},
   "source": [
    "### Python for Math and Stat: Homework #4 (by Ethan Schacht)"
   ]
  },
  {
   "cell_type": "code",
   "execution_count": 8,
   "metadata": {},
   "outputs": [],
   "source": [
    "import math as m"
   ]
  },
  {
   "cell_type": "markdown",
   "metadata": {},
   "source": [
    "Problem 1: These functions use list comprehension to generate series."
   ]
  },
  {
   "cell_type": "code",
   "execution_count": 4,
   "metadata": {},
   "outputs": [
    {
     "data": {
      "text/plain": [
       "2.5936887588198103"
      ]
     },
     "execution_count": 4,
     "metadata": {},
     "output_type": "execute_result"
    }
   ],
   "source": [
    "def series1(n):\n",
    "    return sum([1/(2*(i+1)) for i in range(n)])\n",
    "series1(100)"
   ]
  },
  {
   "cell_type": "code",
   "execution_count": 17,
   "metadata": {},
   "outputs": [
    {
     "data": {
      "text/plain": [
       "0.36787944117144245"
      ]
     },
     "execution_count": 17,
     "metadata": {},
     "output_type": "execute_result"
    }
   ],
   "source": [
    "def series2(n):\n",
    "    return sum([(-1)**i/(m.factorial(i)) for i in range(n)])\n",
    "series2(100)"
   ]
  },
  {
   "cell_type": "markdown",
   "metadata": {},
   "source": [
    "Problem 2: These functions expand or shrink lists by adding \"h\" to the beginning of the list and \"t\" to the end, or by removing the first and last elements of the list."
   ]
  },
  {
   "cell_type": "code",
   "execution_count": 27,
   "metadata": {},
   "outputs": [
    {
     "data": {
      "text/plain": [
       "(['a', 7, 11, 'z'], 23)"
      ]
     },
     "execution_count": 27,
     "metadata": {},
     "output_type": "execute_result"
    }
   ],
   "source": [
    "def list_expand(lst, h, t):\n",
    "    if type(lst) != list:\n",
    "        return lst\n",
    "    else:\n",
    "        lst.insert(0, h)\n",
    "        lst.append(t)\n",
    "        return lst\n",
    "alist = [7,11]\n",
    "list_expand(alist, 'a', 'z')  \n",
    "num = 23\n",
    "list_expand(num, 'a', 'z') \n",
    "alist, num"
   ]
  },
  {
   "cell_type": "code",
   "execution_count": 36,
   "metadata": {},
   "outputs": [
    {
     "data": {
      "text/plain": [
       "([2, 3, 4], [], 17)"
      ]
     },
     "execution_count": 36,
     "metadata": {},
     "output_type": "execute_result"
    }
   ],
   "source": [
    "def list_shrink(lst):\n",
    "    if type(lst) != list:\n",
    "        return lst\n",
    "    counter = 0\n",
    "    for i in lst:\n",
    "        counter += 1\n",
    "    if counter <= 2:\n",
    "        lst[:] = []\n",
    "        return lst\n",
    "    else:\n",
    "        lst.pop(-1)\n",
    "        lst.pop(0)\n",
    "alist = [1, 2, 3, 4, 5]  \n",
    "list_shrink(alist)  \n",
    "blist = [3]  \n",
    "list_shrink(blist)\n",
    "num = 17\n",
    "list_shrink(num) \n",
    "alist,blist,num"
   ]
  },
  {
   "cell_type": "markdown",
   "metadata": {},
   "source": [
    "Problem 3: The first function divides an interval  [𝑎,𝑏]  into  𝑛  equal subintervals and returns the coordinates of the  𝑛+1  partition points.  The second function uses this function to return sine values at partition points."
   ]
  },
  {
   "cell_type": "code",
   "execution_count": 79,
   "metadata": {},
   "outputs": [
    {
     "data": {
      "text/plain": [
       "[-1.0, -0.5, 0.0, 0.5, 1.0, 1.5, 2.0]"
      ]
     },
     "execution_count": 79,
     "metadata": {},
     "output_type": "execute_result"
    }
   ],
   "source": [
    "def partition_pts(a,b,n):\n",
    "    part_diff = abs((b-a) / n)\n",
    "    part_list = []\n",
    "    ([part_list.append(a + (part_diff * i)) for i in range(n+1)])\n",
    "    return part_list\n",
    "partition_pts(-1,2,6)"
   ]
  },
  {
   "cell_type": "code",
   "execution_count": 100,
   "metadata": {},
   "outputs": [
    {
     "name": "stdout",
     "output_type": "stream",
     "text": [
      "[0.0, 1.0471975511965976, 2.0943951023931953, 3.141592653589793, 4.1887902047863905, 5.235987755982988, 6.283185307179586]\n"
     ]
    },
    {
     "data": {
      "text/plain": [
       "[0.0, 0.866025, 0.866025, 0.0, -0.866025, -0.866025, -0.0]"
      ]
     },
     "execution_count": 100,
     "metadata": {},
     "output_type": "execute_result"
    }
   ],
   "source": [
    "def sin_vals(n):\n",
    "    sins_list = partition_pts(0, 2* m.pi, n)\n",
    "    print(sins_list)\n",
    "    new_list = []\n",
    "    ([new_list.append(m.sin(i)) for i in sins_list])\n",
    "    return [round(i,6) for i in new_list]\n",
    "sin_vals(6)"
   ]
  },
  {
   "cell_type": "markdown",
   "metadata": {},
   "source": [
    "Problem 4: This function calculates the weighted average based on a list of values and a list of weights."
   ]
  },
  {
   "cell_type": "code",
   "execution_count": 111,
   "metadata": {},
   "outputs": [
    {
     "data": {
      "text/plain": [
       "56624.793752"
      ]
     },
     "execution_count": 111,
     "metadata": {},
     "output_type": "execute_result"
    }
   ],
   "source": [
    "def weighted_avg(vals, wgts):\n",
    "    if len(vals) != len(wgts) or len(vals) == 0:\n",
    "        return 0\n",
    "    else:\n",
    "        numerator = 0\n",
    "        for i in range(len(vals)):\n",
    "            numerator += vals[i] * wgts[i]\n",
    "        return round(numerator / sum(wgts), 6)\n",
    "prices = [84000, 78000, 46000]\n",
    "sold = [14050, 13500, 63360]\n",
    "weighted_avg(prices, sold)"
   ]
  },
  {
   "cell_type": "markdown",
   "metadata": {},
   "source": [
    "Problem 5: The first function returns a list of responses for n rounds of \"moo oink\", where for any number divisible by  3 the player says 'moo' instead of the number. For any number divisible by  4  the player says 'oink'.  The second function returns a list of the responses for n rounds given positive ints d1 and d2."
   ]
  },
  {
   "cell_type": "code",
   "execution_count": 115,
   "metadata": {},
   "outputs": [
    {
     "data": {
      "text/plain": [
       "[1, 2, 'moo', 'oink', 5, 'moo', 7, 'oink', 'moo', 10, 11, 'moo oink', 13]"
      ]
     },
     "execution_count": 115,
     "metadata": {},
     "output_type": "execute_result"
    }
   ],
   "source": [
    "def moo_oink(n):\n",
    "    turns_list = list(range(1, n + 1))\n",
    "    moo_list = []\n",
    "    for i in turns_list:\n",
    "        if i % 3 == 0 and i % 4 == 0:\n",
    "            moo_list.append(\"moo oink\")\n",
    "        elif i % 3 == 0: \n",
    "            moo_list.append(\"moo\")\n",
    "        elif i % 4 == 0:\n",
    "            moo_list.append(\"oink\")\n",
    "        else:\n",
    "            moo_list.append(i)\n",
    "    return moo_list\n",
    "            \n",
    "moo_oink(13)"
   ]
  },
  {
   "cell_type": "code",
   "execution_count": 117,
   "metadata": {},
   "outputs": [
    {
     "data": {
      "text/plain": [
       "[1,\n",
       " 2,\n",
       " 'moo',\n",
       " 4,\n",
       " 'oink',\n",
       " 'moo',\n",
       " 7,\n",
       " 8,\n",
       " 'moo',\n",
       " 'oink',\n",
       " 11,\n",
       " 'moo',\n",
       " 13,\n",
       " 14,\n",
       " 'moo oink',\n",
       " 16]"
      ]
     },
     "execution_count": 117,
     "metadata": {},
     "output_type": "execute_result"
    }
   ],
   "source": [
    "def moo_oink(n, d1, d2):\n",
    "    turns_list = list(range(1, n + 1))\n",
    "    moo_list = []\n",
    "    for i in turns_list:\n",
    "        if i % d1 == 0 and i % d2 == 0:\n",
    "            moo_list.append(\"moo oink\")\n",
    "        elif i % d1 == 0: \n",
    "            moo_list.append(\"moo\")\n",
    "        elif i % d2 == 0:\n",
    "            moo_list.append(\"oink\")\n",
    "        else:\n",
    "            moo_list.append(i)\n",
    "    return moo_list\n",
    "            \n",
    "moo_oink(16,3,5)"
   ]
  },
  {
   "cell_type": "markdown",
   "metadata": {},
   "source": [
    "Challenge Problem: This function returns a list of the final positions in the coin sequence that show Head. \"n\" is the amount of students, where each gets one turn.  The 𝑘 th student flips over every  𝑘 th penny beginning with the  𝑘 th one."
   ]
  },
  {
   "cell_type": "code",
   "execution_count": 12,
   "metadata": {},
   "outputs": [
    {
     "data": {
      "text/plain": [
       "[1, 4, 9, 16, 25, 36, 49, 64, 81, 100]"
      ]
     },
     "execution_count": 12,
     "metadata": {},
     "output_type": "execute_result"
    }
   ],
   "source": [
    "def flipping_pennies(n):\n",
    "    penny_list = list(\"T\" * (n+1))\n",
    "    for j in range(1, n+1): #compute the following loop until each of n students has a turn, j represents turn number:\n",
    "        for i in range(1, n+1):\n",
    "            element = penny_list[i]\n",
    "            if i % j == 0: #flip the coin if the index % the turn number is equal to 0, i is each index\n",
    "                if element == \"H\":\n",
    "                    penny_list[i] = \"T\" \n",
    "                else:\n",
    "                    penny_list[i] = \"H\"\n",
    "                    \n",
    "    head_indexes = []\n",
    "    for i in range(len(penny_list)): #gets the index of all the head positions on final flip\n",
    "        if penny_list[i] == \"H\" and i != 0:\n",
    "            head_indexes.append(i)\n",
    "        \n",
    "    return head_indexes\n",
    "\n",
    "flipping_pennies(100)"
   ]
  },
  {
   "cell_type": "code",
   "execution_count": null,
   "metadata": {},
   "outputs": [],
   "source": []
  }
 ],
 "metadata": {
  "kernelspec": {
   "display_name": "Python 3",
   "language": "python",
   "name": "python3"
  },
  "language_info": {
   "codemirror_mode": {
    "name": "ipython",
    "version": 3
   },
   "file_extension": ".py",
   "mimetype": "text/x-python",
   "name": "python",
   "nbconvert_exporter": "python",
   "pygments_lexer": "ipython3",
   "version": "3.6.5"
  }
 },
 "nbformat": 4,
 "nbformat_minor": 2
}
