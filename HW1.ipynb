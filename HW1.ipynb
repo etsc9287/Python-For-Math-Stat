{
 "cells": [
  {
   "cell_type": "markdown",
   "metadata": {},
   "source": [
    "# Homework 1\n",
    "\n",
    "*Answers shown are rounded to 6 decimal digits.*\n"
   ]
  },
  {
   "cell_type": "markdown",
   "metadata": {},
   "source": [
    "### Sum the numbers from 1 to $n$\n",
    "\n",
    "Write a function **`sum_n(n)`** that takes a positive integer $n$ and returns the integer sum of the numbers from 1 to $n$ using the formula\n",
    "$$ S = \\frac{n(n+1)}{2}.$$\n",
    "\n",
    " Examples:  \n",
    " `sum_n(3)` returns `6`, an integer.  \n",
    " `sum_n(100)` returns `5050`, an integer.\n",
    "\n"
   ]
  },
  {
   "cell_type": "code",
   "execution_count": 2,
   "metadata": {},
   "outputs": [],
   "source": [
    "import math as m"
   ]
  },
  {
   "cell_type": "code",
   "execution_count": 3,
   "metadata": {},
   "outputs": [
    {
     "data": {
      "text/plain": [
       "(6, 5050)"
      ]
     },
     "execution_count": 3,
     "metadata": {},
     "output_type": "execute_result"
    }
   ],
   "source": [
    "def sum_n(n):\n",
    "    s = (n * (n + 1)) / 2\n",
    "    return int(s)\n",
    "sum_n(3), sum_n(100)"
   ]
  },
  {
   "cell_type": "markdown",
   "metadata": {},
   "source": [
    "### Sum the first $n$ cubes\n",
    "\n",
    "Write a function **`sum_cubes(n)`** that takes a positive integer $n$ and returns the integer sum of the first $n$ cubes using the formula\n",
    "$$ S = \\left(\\frac{n(n+1)}{2}\\right)^2.$$\n",
    "\n",
    " Your function should call the `sum_n()` function. \n",
    "\n",
    " Example: `sum_cubes(25)` returns `105625`, an integer.\n",
    "\n"
   ]
  },
  {
   "cell_type": "code",
   "execution_count": 4,
   "metadata": {},
   "outputs": [
    {
     "data": {
      "text/plain": [
       "105625"
      ]
     },
     "execution_count": 4,
     "metadata": {},
     "output_type": "execute_result"
    }
   ],
   "source": [
    "def sum_cubes(n):\n",
    "    s = ((n * (n + 1)) / 2) ** 2\n",
    "    return int(s)\n",
    "sum_cubes(25)"
   ]
  },
  {
   "cell_type": "markdown",
   "metadata": {},
   "source": [
    "### Units Digit of a Number\n",
    "\n",
    "Write a function **`ones_digit(num)`** that returns the units digit of a non-negative integer. Use the `%` operator.\n",
    "\n",
    "Example: `ones_digit(2468)` returns `8`, an integer.\n",
    "\n"
   ]
  },
  {
   "cell_type": "code",
   "execution_count": 5,
   "metadata": {},
   "outputs": [
    {
     "data": {
      "text/plain": [
       "8"
      ]
     },
     "execution_count": 5,
     "metadata": {},
     "output_type": "execute_result"
    }
   ],
   "source": [
    "def ones_digit(num):\n",
    "    unit = num % 10 #mod 10 always gives us the last digit because that's the remainder when dividing by 10.\n",
    "    return unit\n",
    "ones_digit(2468)"
   ]
  },
  {
   "cell_type": "markdown",
   "metadata": {},
   "source": [
    "### Golden Ratio\n",
    "\n",
    "The *golden ratio* $\\phi$ equals the positive root of $x^2 - x - 1=0$. Write a function **`phi()`** that returns the *golden ratio*.\n",
    " \n"
   ]
  },
  {
   "cell_type": "code",
   "execution_count": 3,
   "metadata": {},
   "outputs": [
    {
     "data": {
      "text/plain": [
       "1.618034"
      ]
     },
     "execution_count": 3,
     "metadata": {},
     "output_type": "execute_result"
    }
   ],
   "source": [
    "def phi():\n",
    "    x = (1 + m.sqrt((-1)**2 - (4*1*-1))) / (2*1) #quadratic formula to solve for x\n",
    "    return round(x,6)\n",
    "phi()"
   ]
  },
  {
   "cell_type": "markdown",
   "metadata": {},
   "source": [
    "### Binet's Formula\n",
    "\n",
    "In the *Fibonacci sequence* $1,1,2,3,5,8,\\ldots$, each term is the sum of the previous two terms. For example the next term in the sequence is $13=5+8$.\n",
    "The $n$th Fibonacci number can be computed directly using *Binet's Formula* :\n",
    "$$ F_n = \\dfrac{\\phi^n - \\left(-\\phi\\right)^{-n}}{\\sqrt 5}.$$<br>\n",
    "Write a function **`binet(n)`** that returns the $n$th Fibonacci number as an integer. The function should call `phi()`.\n",
    "\n"
   ]
  },
  {
   "cell_type": "code",
   "execution_count": 17,
   "metadata": {},
   "outputs": [
    {
     "data": {
      "text/plain": [
       "2"
      ]
     },
     "execution_count": 17,
     "metadata": {},
     "output_type": "execute_result"
    }
   ],
   "source": [
    "def binet(n):\n",
    "    f = (phi() ** n - (-phi() ** -n)) / m.sqrt(5)\n",
    "    return int(f)\n",
    "binet(3)"
   ]
  },
  {
   "cell_type": "markdown",
   "metadata": {},
   "source": [
    "### Distance from a Point to a Line\n",
    "\n",
    "Write a function **`dist_to_line(x0, y0, a, b, c)`** that calculates the distance $d$ from a point $(x_0, y_0)$ to a line $ax + by + c = 0$ using the formula\n",
    "$$ d = \\dfrac{\\lvert a x_0 + b y_0 + c \\rvert}{\\sqrt{a^2 + b^2}}. $$\n",
    "Assume that $a, b \\ne 0$. \n",
    "\n",
    " Example: The distance from the point $(1,-4)$ to the line $y = \\frac 53 x - \\frac 73$ is `1.714986`.\n",
    " \n"
   ]
  },
  {
   "cell_type": "code",
   "execution_count": 4,
   "metadata": {},
   "outputs": [
    {
     "data": {
      "text/plain": [
       "1.714986"
      ]
     },
     "execution_count": 4,
     "metadata": {},
     "output_type": "execute_result"
    }
   ],
   "source": [
    "def dist_to_line(x0, y0, a, b, c):\n",
    "    d = (abs((a * x0) + (b * y0) + (c))) / (m.sqrt(a**2 + b**2))\n",
    "    return round(d,6)\n",
    "dist_to_line(1, -4, 5/3, -1, -7/3)"
   ]
  },
  {
   "cell_type": "markdown",
   "metadata": {},
   "source": [
    "## Challenge Problems\n",
    "\n",
    "The following problems are optional."
   ]
  },
  {
   "cell_type": "markdown",
   "metadata": {},
   "source": [
    "Write a function `digit(num, k)` that returns the $10^k$ digit of `num`. Use the `%` operator.\n",
    "\n",
    "Examples:  \n",
    "`digit(2468, 0)` returns `8`, the units digit.  \n",
    "`digit(2468, 1)` returns `6`, the tens digit.  \n",
    "`digit(2468, 2)` returns `4`, the hundreds digit.  \n",
    "`digit(2468, 4)` returns `0`."
   ]
  },
  {
   "cell_type": "code",
   "execution_count": 59,
   "metadata": {},
   "outputs": [
    {
     "data": {
      "text/plain": [
       "(8, 6, 4, 0, 0, 4)"
      ]
     },
     "execution_count": 59,
     "metadata": {},
     "output_type": "execute_result"
    }
   ],
   "source": [
    "def digit(num, k):\n",
    "    if 10**k > num: #if 10^k is greater than our number, the 10^k digit doesn't exist so we return 0.\n",
    "        return 0\n",
    "    else:\n",
    "        d = str(num % ((10 ** k) * 10)) #this formula will get us the 10^k digit and all the digits that follow\n",
    "        first_d = d[0] #turn the number into a string so we can subset the first element which is the 10^k digit\n",
    "        return int(first_d) #convert back to int\n",
    "        \n",
    "digit(2468, 0), digit(2468, 1), digit(2468, 2), digit(2468, 4), digit(478874, 6), digit(478874, 5)"
   ]
  },
  {
   "cell_type": "markdown",
   "metadata": {},
   "source": [
    "Suppose you have a collection of dimes and nickels and you know the  number of coins and the value of the coins in cents. Write a function `dimes_nickels(ncoins, cents)` that returns two integers: the number of dimes and the number of nickels.\n",
    "\n",
    "Example: `dimes_nickels(30, 215)` returns `(13, 17)` corresponding to 13 dimes and 17 nickels."
   ]
  },
  {
   "cell_type": "code",
   "execution_count": 51,
   "metadata": {},
   "outputs": [
    {
     "data": {
      "text/plain": [
       "(13, 17)"
      ]
     },
     "execution_count": 51,
     "metadata": {},
     "output_type": "execute_result"
    }
   ],
   "source": [
    "def dimes_nickels(ncoins, cents):\n",
    "    num_nickels = 2 * (ncoins - (cents / 10))\n",
    "    num_dimes = ncoins - num_nickels\n",
    "    combined = int(num_dimes), int(num_nickels)\n",
    "    return combined\n",
    "\n",
    "dimes_nickels(30,215)\n",
    "    \n",
    "    \n",
    "#System of equations:\n",
    "    \n",
    "#eq 1: (num_dimes * 10) + (num_nickels * 5) = cents\n",
    "#eq 2: num_dimes + num_nickels = ncoins\n",
    "\n",
    "#Substitution:\n",
    "\n",
    "#num_dimes = (cents  - (num_nickels * 5)) / 10\n",
    "\n",
    "#((cents  - (num_nickels * 5)) / 10) + num_nickels = ncoins\n",
    "#((cents - 5n) / 10) + n = ncoins\n",
    "#(cents / 10) - (1/2(n)) + n = ncoins\n",
    "#(cents / 10) + (1/2(n)) = ncoins\n",
    "#n = 2(ncoins - (cents / 10))\n"
   ]
  },
  {
   "cell_type": "code",
   "execution_count": null,
   "metadata": {},
   "outputs": [],
   "source": []
  }
 ],
 "metadata": {
  "kernelspec": {
   "display_name": "Python 3",
   "language": "python",
   "name": "python3"
  },
  "language_info": {
   "codemirror_mode": {
    "name": "ipython",
    "version": 3
   },
   "file_extension": ".py",
   "mimetype": "text/x-python",
   "name": "python",
   "nbconvert_exporter": "python",
   "pygments_lexer": "ipython3",
   "version": "3.6.5"
  }
 },
 "nbformat": 4,
 "nbformat_minor": 2
}
